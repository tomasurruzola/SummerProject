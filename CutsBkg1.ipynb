{
 "cells": [
  {
   "cell_type": "code",
   "execution_count": 5,
   "id": "705a6a3f",
   "metadata": {},
   "outputs": [],
   "source": [
    "#import uproot\n",
    "import uproot4\n",
    "from tqdm import tqdm"
   ]
  },
  {
   "cell_type": "code",
   "execution_count": 6,
   "id": "b8cfaf9e",
   "metadata": {},
   "outputs": [],
   "source": [
    "# relace next line with the path to your file\n",
    "#path='data'\n",
    "path='/eos/cms/store/group/phys_pps/Phase2/Delphes/PU200/ZToMuMu_M-120to200_TuneCP5_14TeV-powheg-pythia8/'\n",
    "filename1=path+'ZToMuMu_M-120to200_TuneCP5_14TeV-powheg-pythia8_0001.root'\n",
    "filename2=path+'ZToMuMu_M-120to200_TuneCP5_14TeV-powheg-pythia8_0002.root'"
   ]
  },
  {
   "cell_type": "code",
   "execution_count": 7,
   "id": "ec3eabc9",
   "metadata": {},
   "outputs": [],
   "source": [
    "#open the file, using uproot\n",
    "#root_=uproot4.open( filename )"
   ]
  },
  {
   "cell_type": "code",
   "execution_count": null,
   "id": "1e89aedf",
   "metadata": {},
   "outputs": [],
   "source": [
    "\n",
    "\n"
   ]
  },
  {
   "cell_type": "code",
   "execution_count": null,
   "id": "2e587527",
   "metadata": {},
   "outputs": [],
   "source": [
    "#use \"uproot4.concatenate\":\n",
    "tree_=uproot4.concatenate([filename1+\":Delphes\", filename2+\":Delphes\"])"
   ]
  },
  {
   "cell_type": "code",
   "execution_count": 4,
   "id": "b530cb6c",
   "metadata": {},
   "outputs": [
    {
     "data": {
      "text/plain": [
       "['ProcessID0;1', 'Delphes;1']"
      ]
     },
     "execution_count": 4,
     "metadata": {},
     "output_type": "execute_result"
    }
   ],
   "source": [
    "root_.keys()"
   ]
  },
  {
   "cell_type": "code",
   "execution_count": 5,
   "id": "d2a2c3f4",
   "metadata": {},
   "outputs": [],
   "source": [
    "tree_ = root_[\"Delphes\"]"
   ]
  },
  {
   "cell_type": "code",
   "execution_count": 6,
   "id": "f4723b36",
   "metadata": {},
   "outputs": [],
   "source": [
    "vtx_size = tree_['Vertex_size'].array()"
   ]
  },
  {
   "cell_type": "code",
   "execution_count": 7,
   "id": "d4f56743",
   "metadata": {},
   "outputs": [
    {
     "data": {
      "text/plain": [
       "20000"
      ]
     },
     "execution_count": 7,
     "metadata": {},
     "output_type": "execute_result"
    }
   ],
   "source": [
    "len(vtx_size)"
   ]
  },
  {
   "cell_type": "code",
   "execution_count": 8,
   "id": "1a739923",
   "metadata": {},
   "outputs": [],
   "source": [
    "#variables_to_save=[tree_.keys()] # this will not work, due to vectors in the dataset\n",
    "#muons_df = tree_.arrays(['Muon_size','Muon.PT','Muon.Eta','Muon.Phi','Muon.T'], library=\"pd\")\n",
    "#genproton_df = tree_.arrays(['GenProton_size','GenProton.Pz','GenProton.Z','GenProton.IsPU'], library=\"pd\")\n",
    "#floats_df = tree_.arrays(['GenProton.T'], library=\"pd\")"
   ]
  },
  {
   "cell_type": "code",
   "execution_count": 9,
   "id": "d5fc599f",
   "metadata": {},
   "outputs": [],
   "source": [
    "import pandas as pd\n",
    "import numpy as np"
   ]
  },
  {
   "cell_type": "code",
   "execution_count": 10,
   "id": "eb83533d",
   "metadata": {},
   "outputs": [],
   "source": [
    "n_events = len(vtx_size)"
   ]
  },
  {
   "cell_type": "code",
   "execution_count": 11,
   "id": "bdc6d327",
   "metadata": {},
   "outputs": [
    {
     "name": "stdout",
     "output_type": "stream",
     "text": [
      "for xi range of (0.009,0.197) proton pz is in range from 5623.10 to 6933.50 GeV\n",
      "5512.947999999999\n",
      "6938.820000000001\n"
     ]
    }
   ],
   "source": [
    "#xi acceptance from Table 4 on page 40 of https://cds.cern.ch/record/2750358/files/NOTE2020_008.pdf\n",
    "xi_min = 0.0095 # using the 234m station\n",
    "xi_max = 0.1967 # using the 196m station\n",
    "pz_min = (1-xi_max)*7000\n",
    "pz_max = (1-xi_min)*7000\n",
    "pz_min1 =(1-1.08*xi_max)*7000\n",
    "pz_max1 =(1-0.92*xi_min)*7000\n",
    "print('for xi range of (%2.3f,%2.3f) proton pz is in range from %2.2f to %2.2f GeV'%(xi_min,xi_max,pz_min,pz_max))\n",
    "print(pz_min1)\n",
    "print(pz_max1)"
   ]
  },
  {
   "cell_type": "code",
   "execution_count": null,
   "id": "b7f18f65",
   "metadata": {},
   "outputs": [],
   "source": []
  },
  {
   "cell_type": "code",
   "execution_count": null,
   "id": "315f6959",
   "metadata": {},
   "outputs": [],
   "source": []
  },
  {
   "cell_type": "code",
   "execution_count": 12,
   "id": "8c603c6c",
   "metadata": {},
   "outputs": [],
   "source": [
    "#read protons only within the PPS acceptance\n",
    "protons = tree_.arrays(['GenProton.Pz','GenProton.Z','GenProton.IsPU','GenProton.T'],  cut=\"(abs(GenProton.Pz)>%g) & (abs(GenProton.Pz)<%g)\"%(pz_min,pz_max))"
   ]
  },
  {
   "cell_type": "code",
   "execution_count": 13,
   "id": "f611317a",
   "metadata": {
    "scrolled": true
   },
   "outputs": [
    {
     "name": "stdout",
     "output_type": "stream",
     "text": [
      "0.03\n",
      "[[1.68e-10, 4.44e-12, 1.23e-10, -1.07e-10, ... 5e-11, 6.27e-11, 8.78e-11, 5.69e-11]]\n"
     ]
    }
   ],
   "source": [
    "tr=(10**9)*30E-12\n",
    "print(tr)\n",
    "print(protons['GenProton.T'])\n",
    "#print(pz)"
   ]
  },
  {
   "cell_type": "code",
   "execution_count": 14,
   "id": "68c1420c",
   "metadata": {},
   "outputs": [
    {
     "name": "stderr",
     "output_type": "stream",
     "text": [
      "100%|██████████| 20000/20000 [02:20<00:00, 142.28it/s]\n"
     ]
    }
   ],
   "source": [
    "N_protons=np.zeros(len(protons)).astype(int)\n",
    "genproton_pz=protons['GenProton.Pz']\n",
    "genproton_vz=protons['GenProton.Z']\n",
    "genproton_ispu=protons['GenProton.IsPU']\n",
    "genproton_t=(10**9)*protons['GenProton.T']\n",
    "genprotonpz=[]\n",
    "genprotonvz=[]\n",
    "genprotonispu=[]\n",
    "genprotont=[]\n",
    "genprotont_sm=[]\n",
    "genprotonxi=[]\n",
    "sig=[]\n",
    "\n",
    "\n",
    "for i in tqdm(range(len(genproton_pz))):\n",
    "    pz=genproton_pz[i]\n",
    "    xi=1-np.abs(pz)/7000\n",
    "    xi_smear=xi*(1+np.random.normal(0,0.02,len(xi)))\n",
    "    pz_smear=7000*(1-xi_smear)\n",
    "    t=np.zeros(len(pz))\n",
    "    DPPV=np.zeros(len(pz))\n",
    "    \n",
    "    \n",
    "    for k in range(len(pz)):\n",
    "    \n",
    "        if pz[k]>0:\n",
    "            t[k]=(genproton_t[i][k]+(23400-genproton_vz[i][k])/30) \n",
    "\n",
    "        else: \n",
    "            t[k]=(genproton_t[i][k]+(23400+genproton_vz[i][k])/30) \n",
    "\n",
    "            \n",
    "    t_smear=t+np.random.normal(0,tr,len(t))\n",
    "\n",
    "    lpz=len(pz)\n",
    "    Npr=0\n",
    "    for k in range(lpz):\n",
    "    \n",
    "        if (abs(pz_smear[k])>pz_min) and (abs(pz_smear[k])<pz_max):\n",
    "            sig.append(np.sign(pz[k]))\n",
    "            genprotonpz.append(pz_smear[k])\n",
    "            genprotonxi.append(xi_smear[k])\n",
    "            genprotonvz.append(genproton_vz[i][k])\n",
    "            genprotonispu.append(genproton_ispu[i][k])\n",
    "            genprotont.append(t[k])\n",
    "            genprotont_sm.append(t_smear[k])\n",
    "            Npr=Npr+1\n",
    "    N_protons[i]=Npr"
   ]
  },
  {
   "cell_type": "code",
   "execution_count": null,
   "id": "9d37c6ed",
   "metadata": {},
   "outputs": [],
   "source": []
  },
  {
   "cell_type": "code",
   "execution_count": null,
   "id": "7a57befe",
   "metadata": {
    "scrolled": true
   },
   "outputs": [],
   "source": []
  },
  {
   "cell_type": "code",
   "execution_count": 15,
   "id": "23dc3a4a",
   "metadata": {
    "scrolled": true
   },
   "outputs": [
    {
     "data": {
      "text/plain": [
       "array([ 8,  6, 12,  6, 11,  4, 11,  7,  9])"
      ]
     },
     "execution_count": 15,
     "metadata": {},
     "output_type": "execute_result"
    }
   ],
   "source": [
    "N_protons[0:9]"
   ]
  },
  {
   "cell_type": "code",
   "execution_count": 16,
   "id": "b2e28469",
   "metadata": {},
   "outputs": [
    {
     "name": "stdout",
     "output_type": "stream",
     "text": [
      "[6.83e+03, 6.45e+03, -6.73e+03, 6.91e+03, ... -5.8e+03, -6.88e+03, -5.78e+03]\n",
      "[6833.454827896275, 6452.483910754961, 6741.042662961683, 6906.078722990148, 5671.362994717259, 5815.7458442431425, 6877.413102826602, 5764.685410430916]\n"
     ]
    }
   ],
   "source": [
    "print(genproton_pz[0])\n",
    "print(genprotonpz[0:N_protons[0]])"
   ]
  },
  {
   "cell_type": "code",
   "execution_count": 17,
   "id": "13de3e63",
   "metadata": {
    "scrolled": true
   },
   "outputs": [
    {
     "name": "stdout",
     "output_type": "stream",
     "text": [
      "[775.7398433696503, 781.4114265983403, 779.1790865748507, 778.5015669383621, 781.6259795687234, 781.2198411593607, 780.3335526265971, 781.6999519727245, 779.8554994938336, 779.8909713280779]\n",
      "[775.7406989895914, 781.4206844648228, 779.1878013598532, 778.471759993112, 781.5968502031818, 781.2311546651073, 780.3375988854392, 781.6881475176948, 779.8707039336662, 779.8780395617622]\n"
     ]
    }
   ],
   "source": [
    "print(genprotont[0:10])\n",
    "print(genprotont_sm[0:10])"
   ]
  },
  {
   "cell_type": "code",
   "execution_count": null,
   "id": "167fb71d",
   "metadata": {},
   "outputs": [],
   "source": []
  },
  {
   "cell_type": "code",
   "execution_count": 18,
   "id": "846275fb",
   "metadata": {},
   "outputs": [],
   "source": [
    "n_events = len(N_protons)\n",
    "Prneg=np.zeros(n_events)\n",
    "Prpos=np.zeros(n_events)\n",
    "NmbPairs=np.zeros(n_events)"
   ]
  },
  {
   "cell_type": "code",
   "execution_count": null,
   "id": "d6203911",
   "metadata": {},
   "outputs": [],
   "source": []
  },
  {
   "cell_type": "code",
   "execution_count": 19,
   "id": "9e91c674",
   "metadata": {},
   "outputs": [],
   "source": [
    "nprot=np.zeros(n_events)"
   ]
  },
  {
   "cell_type": "code",
   "execution_count": null,
   "id": "4b6aa531",
   "metadata": {},
   "outputs": [],
   "source": []
  },
  {
   "cell_type": "code",
   "execution_count": null,
   "id": "42e0dc2e",
   "metadata": {},
   "outputs": [],
   "source": []
  },
  {
   "cell_type": "code",
   "execution_count": 20,
   "id": "622b8218",
   "metadata": {},
   "outputs": [],
   "source": [
    "Cnt=0\n",
    "for ev, nprotons in enumerate(N_protons):\n",
    "\n",
    "    for i in range(nprotons):\n",
    "        if (sig[Cnt+i]>0):\n",
    "            Prpos[ev]=Prpos[ev]+1\n",
    "            \n",
    "        else:\n",
    "            Prneg[ev]=Prneg[ev]+1\n",
    "\n",
    "        NmbPairs=Prpos*Prneg\n",
    "    Cnt=Cnt+nprotons"
   ]
  },
  {
   "cell_type": "code",
   "execution_count": 21,
   "id": "45d10675",
   "metadata": {
    "scrolled": false
   },
   "outputs": [
    {
     "name": "stdout",
     "output_type": "stream",
     "text": [
      "[3. 3. 4. ... 2. 5. 3.]\n",
      "[5. 3. 8. ... 4. 1. 5.]\n",
      "[15.  9. 32. ...  8.  5. 15.]\n",
      "[15  9 32 ...  8  5 15]\n"
     ]
    }
   ],
   "source": [
    "print(Prpos)\n",
    "print(Prneg)\n",
    "print(NmbPairs)\n",
    "sum(NmbPairs)\n",
    "NPs = NmbPairs.astype(int)\n",
    "print(NPs)"
   ]
  },
  {
   "cell_type": "code",
   "execution_count": null,
   "id": "b80f7ae1",
   "metadata": {},
   "outputs": [],
   "source": []
  },
  {
   "cell_type": "code",
   "execution_count": 22,
   "id": "21febff1",
   "metadata": {},
   "outputs": [],
   "source": [
    "N_muons=tree_['Muon_size'].array()\n",
    "mu_pt=tree_['Muon.PT'].array()\n",
    "mu_eta=tree_['Muon.Eta'].array()\n",
    "mu_phi=tree_['Muon.Phi'].array()\n",
    "mu_T=tree_['Muon.T'].array()\n",
    "#mu_z=tree_['Vertex.Z'].array()\n",
    "\n",
    "N_Tmuons=tree_['MuonTight_size'].array()\n",
    "Tmu_pt=tree_['MuonTight.PT'].array()\n",
    "Tmu_eta=tree_['MuonTight.Eta'].array()\n",
    "Tmu_phi=tree_['MuonTight.Phi'].array()\n",
    "Tmu_VT=(10**9)*tree_['Vertex.T'].array()\n",
    "Tmu_Vz=tree_['Vertex.Z'].array()"
   ]
  },
  {
   "cell_type": "code",
   "execution_count": null,
   "id": "e14eea90",
   "metadata": {},
   "outputs": [],
   "source": []
  },
  {
   "cell_type": "code",
   "execution_count": 23,
   "id": "69b93384",
   "metadata": {},
   "outputs": [],
   "source": [
    "yl=[]\n",
    "ylt=[]\n",
    "Tmu_T=[]\n",
    "Tmu_z=[]\n",
    "sumET=[]\n",
    "sumTPz=[]\n",
    "mll=[]\n",
    "mllt=[]\n",
    "TMu1_pt=[]\n",
    "TMu2_pt=[]\n",
    "ktm=np.zeros((len(N_Tmuons)))\n",
    "\n",
    "for ev, nmuons in enumerate(N_Tmuons):\n",
    "    Tmu1_pt=0; Tmu1_eta=0; Tmu1_phi=0; Tmu1_t=0; Tmu1_z=0\n",
    "    Tmu2_pt=0; Tmu2_eta=0; Tmu2_phi=0; Tmu2_t=0; Tmu2_z=0\n",
    "    for i in range(nmuons):\n",
    "        if Tmu_pt[ev][i]>Tmu1_pt:\n",
    "            Tmu2_pt=Tmu1_pt\n",
    "            Tmu2_eta=Tmu1_eta\n",
    "            Tmu2_phi=Tmu1_phi          \n",
    "            \n",
    "            \n",
    "            Tmu1_pt=Tmu_pt[ev][i]\n",
    "            Tmu1_eta=Tmu_eta[ev][i]\n",
    "            Tmu1_phi=Tmu_phi[ev][i]\n",
    "        elif Tmu_pt[ev][i]>Tmu2_pt:\n",
    "            Tmu2_pt=Tmu_pt[ev][i]\n",
    "            Tmu2_eta=Tmu_eta[ev][i]\n",
    "            Tmu2_phi=Tmu_phi[ev][i]\n",
    "\n",
    "    if (Tmu1_pt!=0) and (Tmu2_pt!=0) and (Prpos[ev]!=0) and (Prneg[ev]!=0):\n",
    "        TMu1_pt.append(Tmu1_pt)\n",
    "        TMu2_pt.append(Tmu2_pt)\n",
    "        # compute invariant mass of lepton pair\n",
    "        sumET.append(Tmu1_pt*np.cosh(Tmu1_eta)+Tmu2_pt*np.cosh(Tmu2_eta))\n",
    "        sumTPx=Tmu1_pt*np.cos(Tmu1_phi)+Tmu2_pt*np.cos(Tmu2_phi)\n",
    "        sumTPy=Tmu1_pt*np.sin(Tmu1_phi)+Tmu2_pt*np.sin(Tmu2_phi)\n",
    "        sumTPz.append(Tmu1_pt*np.sinh(Tmu1_eta)+Tmu2_pt*np.sinh(Tmu2_eta))\n",
    "            #Building the di lepton\n",
    "        dTmuP=np.sqrt(sumTPx**2 + sumTPy**2 + (Tmu1_pt*np.sinh(Tmu1_eta)+Tmu2_pt*np.sinh(Tmu2_eta))**2)\n",
    "\n",
    "        mllt2 = (Tmu1_pt*np.cosh(Tmu1_eta)+Tmu2_pt*np.cosh(Tmu2_eta))**2 - dTmuP**2  #- sumTPx**2 - sumTPy**2 - sumTPz**2\n",
    "        if(mllt2<0): mllt2=0\n",
    "        mllt.append(np.sqrt(mllt2))\n",
    "    #    ylt[ev]=Tmu1_eta+Tmu2_eta\n",
    "        Tmu_T.append(Tmu_VT[ev])\n",
    "        Tmu_z.append(Tmu_Vz[ev])\n",
    "\n",
    "        ylt.append(0.5*np.log(((Tmu1_pt*np.cosh(Tmu1_eta)+Tmu2_pt*np.cosh(Tmu2_eta))+(Tmu1_pt*np.sinh(Tmu1_eta)+Tmu2_pt*np.sinh(Tmu2_eta)))/((Tmu1_pt*np.cosh(Tmu1_eta)+Tmu2_pt*np.cosh(Tmu2_eta))-(Tmu1_pt*np.sinh(Tmu1_eta)+Tmu2_pt*np.sinh(Tmu2_eta)))))\n",
    "    else:\n",
    "        ktm[ev]=1"
   ]
  },
  {
   "cell_type": "code",
   "execution_count": null,
   "id": "62f8d542",
   "metadata": {},
   "outputs": [],
   "source": []
  },
  {
   "cell_type": "code",
   "execution_count": 24,
   "id": "5025394f",
   "metadata": {
    "scrolled": false
   },
   "outputs": [
    {
     "name": "stderr",
     "output_type": "stream",
     "text": [
      "100%|██████████| 20000/20000 [00:01<00:00, 13337.63it/s]"
     ]
    },
    {
     "name": "stdout",
     "output_type": "stream",
     "text": [
      "10150\n",
      "10150\n"
     ]
    },
    {
     "name": "stderr",
     "output_type": "stream",
     "text": [
      "\n"
     ]
    }
   ],
   "source": [
    "NP=[]\n",
    "tPairs = []\n",
    "t_smPairs = []\n",
    "zPairs = []\n",
    "xiPairs = []\n",
    "nevents=len(N_protons)\n",
    "Cnt=0\n",
    "kt=np.zeros(nevents)\n",
    "for ev in tqdm(range(nevents)):\n",
    "    nprotons=N_protons[ev]\n",
    "    x1=0; x2=0 ; z1=0; z2=0; t1=0; t2=0; t1sm=0; t2sm=0\n",
    "    zPair = []\n",
    "    t_Pair = []\n",
    "    t_smPair = []\n",
    "    xiPair = []\n",
    "\n",
    "    if (ktm[ev]==0) and (Prpos[ev]!=0) and (Prneg[ev]!=0):\n",
    "\n",
    "        for i in range(nprotons):\n",
    "            if (sig[Cnt+i]>0):\n",
    "                x1=genprotonxi[Cnt+i]\n",
    "                z1=genprotonvz[Cnt+i]\n",
    "                t1sm=genprotont_sm[Cnt+i]\n",
    "                t1=genprotont[Cnt+i]\n",
    "                #print(t1,genproton_t[ev][i],(23400-genproton_vz[ev][i])/30)\n",
    "                for n in range (i+1,nprotons):\n",
    "                    if (sig[Cnt+n]<0):\n",
    "                        x2=genprotonxi[Cnt+n]\n",
    "                        z2=genprotonvz[Cnt+n]\n",
    "                        t2sm=genprotont_sm[Cnt+n]\n",
    "                        t2=genprotont[Cnt+n]\n",
    "\n",
    "                        xiPs=np.array([x1,x2])\n",
    "                        xiPair.append(xiPs)\n",
    "                        zPs=np.array([z1,z2])\n",
    "                        zPair.append(zPs)\n",
    "                        tPsm=np.array([t1sm,t2sm])\n",
    "                        t_smPair.append(tPsm)\n",
    "                        tPs=np.array([t1,t2])\n",
    "                        t_Pair.append(tPs)\n",
    "                    #print(0.5*30*(tPs[1]-tPs[0]),Tmu_z[ev][0])    \n",
    "            elif (sig[Cnt+i]<0):\n",
    "                x2=genprotonxi[Cnt+i]\n",
    "                z2=genprotonvz[Cnt+i]\n",
    "                t2=genprotont[Cnt+i]\n",
    "                t2sm=genprotont_sm[Cnt+i]\n",
    "                for n in range (i+1,nprotons):\n",
    "                    if (sig[Cnt+n]>0):\n",
    "                        x1=genprotonxi[Cnt+n]\n",
    "                        z1=genprotonvz[Cnt+n]\n",
    "                        t1sm=genprotont_sm[Cnt+n]\n",
    "                        t1=genprotont[Cnt+n]\n",
    "\n",
    "                        xiPs=np.array([x1,x2])\n",
    "                        xiPair.append(xiPs)\n",
    "                        zPs=np.array([z1,z2])\n",
    "                        zPair.append(zPs)\n",
    "                        tPsm=np.array([t1sm,t2sm])\n",
    "                        t_smPair.append(tPsm)\n",
    "                        tPs=np.array([t1,t2])\n",
    "                        t_Pair.append(tPs)\n",
    "            else:\n",
    "                kt[ev]=1    #Discuss this part!!\n",
    "\n",
    "                    #print(0.5*30*(tPs[1]-tPs[0]),Tmu_z[ev][0])\n",
    "        t_smPairs.append(t_smPair)\n",
    "        tPairs.append(t_Pair)\n",
    "        zPairs.append(zPair)\n",
    "        xiPairs.append(xiPair)\n",
    "        NP.append(NPs[ev])\n",
    "        Cnt=Cnt+nprotons\n",
    "        \n",
    "    else:\n",
    "        Cnt=Cnt+nprotons\n",
    "\n",
    "nmevents=len(mllt)\n",
    "nevents=len(t_smPairs)\n",
    "print(nevents)\n",
    "print(nmevents)"
   ]
  },
  {
   "cell_type": "code",
   "execution_count": 25,
   "id": "c45d53da",
   "metadata": {
    "scrolled": true
   },
   "outputs": [
    {
     "data": {
      "text/plain": [
       "244824"
      ]
     },
     "execution_count": 25,
     "metadata": {},
     "output_type": "execute_result"
    }
   ],
   "source": [
    "sum([len(x) for x in tPairs])"
   ]
  },
  {
   "cell_type": "code",
   "execution_count": 26,
   "id": "88a5bde7",
   "metadata": {},
   "outputs": [
    {
     "name": "stdout",
     "output_type": "stream",
     "text": [
      "10150\n"
     ]
    }
   ],
   "source": [
    "print(len(NP))"
   ]
  },
  {
   "cell_type": "code",
   "execution_count": 27,
   "id": "f7c6dfb5",
   "metadata": {},
   "outputs": [
    {
     "name": "stdout",
     "output_type": "stream",
     "text": [
      "20000\n",
      "10150\n"
     ]
    }
   ],
   "source": [
    "kk=0\n",
    "kkk=0\n",
    "for ev in range(len(ktm)):\n",
    "    if (ktm[ev]==0):\n",
    "        kkk=kkk+1\n",
    "    if (kt[ev]==0):\n",
    "        kk=kk+1\n",
    "print(kk)\n",
    "print(kkk)"
   ]
  },
  {
   "cell_type": "code",
   "execution_count": null,
   "id": "1d092806",
   "metadata": {},
   "outputs": [],
   "source": []
  },
  {
   "cell_type": "code",
   "execution_count": 28,
   "id": "4ead95ee",
   "metadata": {
    "scrolled": true
   },
   "outputs": [
    {
     "name": "stdout",
     "output_type": "stream",
     "text": [
      "20000\n"
     ]
    }
   ],
   "source": [
    "print(len(N_Tmuons))"
   ]
  },
  {
   "cell_type": "code",
   "execution_count": null,
   "id": "b6fee125",
   "metadata": {},
   "outputs": [],
   "source": []
  },
  {
   "cell_type": "code",
   "execution_count": 29,
   "id": "d3b638a6",
   "metadata": {
    "scrolled": false
   },
   "outputs": [
    {
     "name": "stdout",
     "output_type": "stream",
     "text": [
      "15\n",
      "15\n",
      "10150\n",
      "10150\n",
      "10150\n",
      "10150\n",
      "10150\n",
      "0.023792167443389325\n",
      "0.03699390529118823\n"
     ]
    }
   ],
   "source": [
    "print(len(xiPairs[0]))\n",
    "print(NP[0])\n",
    "print(len(NP))\n",
    "print(len(sumET))\n",
    "print(len(sumTPz))\n",
    "print(nevents)\n",
    "print(len(xiPairs))\n",
    "print(xiPairs[0][0][0])\n",
    "print(xiPairs[0][0][1])"
   ]
  },
  {
   "cell_type": "code",
   "execution_count": 30,
   "id": "bc0c5137",
   "metadata": {},
   "outputs": [
    {
     "name": "stdout",
     "output_type": "stream",
     "text": [
      "10150\n"
     ]
    }
   ],
   "source": [
    "prum=0\n",
    "for ev in range(nevents):\n",
    "    if (len(xiPairs[ev])==NP[ev]):\n",
    "        prum=prum+1\n",
    "        \n",
    "print(prum)"
   ]
  },
  {
   "cell_type": "code",
   "execution_count": 31,
   "id": "e9a78624",
   "metadata": {
    "scrolled": true
   },
   "outputs": [],
   "source": [
    "xiM=np.ones(nevents)\n",
    "xim=np.ones(nevents)\n",
    "yP=np.zeros(nevents)\n",
    "mpp=np.zeros(nevents)\n",
    "diff1=np.zeros(nevents)\n",
    "diff2=np.zeros(nevents)\n",
    "\n",
    "mppt=[]\n",
    "mppt_sm=[]\n",
    "diff1t=[]\n",
    "diff2t=[]\n",
    "diff1t_sm=[]\n",
    "diff2t_sm=[]\n",
    "\n",
    "\n",
    "for ev in range(nevents):\n",
    "\n",
    "    for i in range(NP[ev]):\n",
    "\n",
    "        if ((xiPairs[ev][i][0]-((sumET[ev]+sumTPz[ev])/14000))**2 + (xiPairs[ev][i][1]-((sumET[ev]-sumTPz[ev])/14000))**2) < ((xiM[ev]-((sumET[ev]+sumTPz[ev])/14000))**2 + (xim[ev]-((sumET[ev]-sumTPz[ev])/14000))**2):\n",
    "\n",
    "            xiM[ev]=xiPairs[ev][i][0]\n",
    "            xim[ev]=xiPairs[ev][i][1]\n",
    "            mpp[ev]=14000.*np.sqrt(xiPairs[ev][i][0]*xiPairs[ev][i][1])\n",
    "            yP[ev]=-0.5*np.log(xiM[ev]/xim[ev])\n",
    "            diff1[ev]=xiPairs[ev][i][0]-((sumET[ev]+sumTPz[ev])/14000)\n",
    "            diff2[ev]=xiPairs[ev][i][1]-((sumET[ev]-sumTPz[ev])/14000)\n"
   ]
  },
  {
   "cell_type": "code",
   "execution_count": 32,
   "id": "fcecf334",
   "metadata": {
    "scrolled": false
   },
   "outputs": [
    {
     "name": "stdout",
     "output_type": "stream",
     "text": [
      "[214.60212419 315.49698915 201.06342932 ... 882.47554104 442.61526837\n",
      " 360.90712254]\n",
      "[ 0.0026418   0.0339606  -0.00213656 ...  0.08853737 -0.00165223\n",
      "  0.00242466]\n",
      "[0.00697665 0.0064154  0.00729479 ... 0.02775587 0.04468646 0.02794681]\n"
     ]
    }
   ],
   "source": [
    "print(mpp)\n",
    "print(diff1)\n",
    "print(diff2)"
   ]
  },
  {
   "cell_type": "code",
   "execution_count": 33,
   "id": "58f6d34b",
   "metadata": {
    "scrolled": true
   },
   "outputs": [
    {
     "data": {
      "image/png": "[encoded data removed]",
      "text/plain": [
       "<Figure size 432x288 with 1 Axes>"
      ]
     },
     "metadata": {
      "needs_background": "light"
     },
     "output_type": "display_data"
    }
   ],
   "source": [
    "import matplotlib.pyplot as plt\n",
    "import numpy as np\n",
    "\n",
    "# Fixing random state for reproducibility\n",
    "np.random.seed(19680801)\n",
    "\n",
    "plt.scatter(mpp, mllt)\n",
    "plt.xlabel(\"mpp\")\n",
    "plt.ylabel(\"mllt\")\n",
    "plt.show()"
   ]
  },
  {
   "cell_type": "code",
   "execution_count": 34,
   "id": "4fb19b6b",
   "metadata": {},
   "outputs": [
    {
     "data": {
      "image/png": "[encoded data removed]",
      "text/plain": [
       "<Figure size 432x288 with 1 Axes>"
      ]
     },
     "metadata": {
      "needs_background": "light"
     },
     "output_type": "display_data"
    }
   ],
   "source": [
    "np.random.seed(19680801)\n",
    "\n",
    "plt.scatter(yP, ylt)\n",
    "plt.xlabel(\"yP\")\n",
    "plt.ylabel(\"yM\")\n",
    "plt.show()"
   ]
  },
  {
   "cell_type": "code",
   "execution_count": 35,
   "id": "eaceda54",
   "metadata": {},
   "outputs": [
    {
     "data": {
      "image/png": "[encoded data removed]",
      "text/plain": [
       "<Figure size 432x288 with 1 Axes>"
      ]
     },
     "metadata": {
      "needs_background": "light"
     },
     "output_type": "display_data"
    }
   ],
   "source": [
    "plt.hist2d(yP, ylt, bins=20)\n",
    "plt.show()"
   ]
  },
  {
   "cell_type": "code",
   "execution_count": 36,
   "id": "41abb821",
   "metadata": {},
   "outputs": [],
   "source": [
    "import matplotlib.pyplot as plt\n",
    "import mplhep as hep\n",
    "from matplotlib.colors import LogNorm"
   ]
  },
  {
   "cell_type": "code",
   "execution_count": 79,
   "id": "c34e2d6b",
   "metadata": {},
   "outputs": [
    {
     "data": {
      "text/plain": [
       "[Text(0.5, 24.0, 'DiffXi1'), Text(59.875, 0.5, 'number of entries')]"
      ]
     },
     "execution_count": 79,
     "metadata": {},
     "output_type": "execute_result"
    },
    {
     "data": {
      "image/png": "[encoded data removed]",
      "text/plain": [
       "<Figure size 720x360 with 1 Axes>"
      ]
     },
     "metadata": {
      "needs_background": "light"
     },
     "output_type": "display_data"
    }
   ],
   "source": [
    "#lets draw hisgorgam of number of muons:\n",
    "f, ax = plt.subplots(figsize=(10,5))\n",
    "plt.hist(diff1, bins=np.linspace(-0.1,0.1,100),label='DiffXi1')\n",
    "hep.cms.label(llabel=\"Preliminary\", rlabel=\"Summer 2021\", ax=ax)\n",
    "ax.legend(); \n",
    "ax.set(xlabel='DiffXi1', ylabel='number of entries')\n",
    "#plt.savefig('number_muons_signal.png')"
   ]
  },
  {
   "cell_type": "code",
   "execution_count": 80,
   "id": "880bf3f8",
   "metadata": {},
   "outputs": [
    {
     "data": {
      "text/plain": [
       "[Text(0.5, 24.0, 'DiffXi2'), Text(59.875, 0.5, 'number of entries')]"
      ]
     },
     "execution_count": 80,
     "metadata": {},
     "output_type": "execute_result"
    },
    {
     "data": {
      "image/png": "[encoded data removed]",
      "text/plain": [
       "<Figure size 720x360 with 1 Axes>"
      ]
     },
     "metadata": {
      "needs_background": "light"
     },
     "output_type": "display_data"
    }
   ],
   "source": [
    "#lets draw hisgorgam of number of muons:\n",
    "f, ax = plt.subplots(figsize=(10,5))\n",
    "plt.hist(diff2, bins=np.linspace(-0.1,0.1,100),label='DiffXi2')\n",
    "hep.cms.label(llabel=\"Preliminary\", rlabel=\"Summer 2021\", ax=ax)\n",
    "ax.legend(); \n",
    "ax.set(xlabel='DiffXi2', ylabel='number of entries')\n",
    "#plt.savefig('number_muons_signal.png')\n",
    "    "
   ]
  },
  {
   "cell_type": "code",
   "execution_count": 39,
   "id": "56e77238",
   "metadata": {},
   "outputs": [],
   "source": [
    "mppt=np.zeros(nevents)\n",
    "mppt_sm=np.zeros(nevents)\n",
    "diff1t=np.zeros(nevents)\n",
    "diff2t=np.zeros(nevents)\n",
    "diff1t_sm=np.zeros(nevents)\n",
    "diff2t_sm=np.zeros(nevents)\n",
    "\n",
    "xiMt=np.zeros(nevents)\n",
    "ximt=np.zeros(nevents)\n",
    "xiMt_sm=np.zeros(nevents)\n",
    "ximt_sm=np.zeros(nevents)\n",
    "tMt=np.zeros(nevents)\n",
    "tmt=np.zeros(nevents)\n",
    "tMt_sm=np.zeros(nevents)\n",
    "tmt_sm=np.zeros(nevents)\n",
    "difzT=np.zeros(nevents)-100\n",
    "difzT_sm=np.zeros(nevents)-100\n",
    "difzT1_sm=np.zeros(nevents)\n",
    "difzT2_sm=np.zeros(nevents)\n",
    "yPtsm=np.zeros(nevents)\n",
    "yPt=np.zeros(nevents)\n",
    "sumTs=np.zeros(nevents)"
   ]
  },
  {
   "cell_type": "code",
   "execution_count": 40,
   "id": "a3197a23",
   "metadata": {},
   "outputs": [],
   "source": [
    "sumTsnsm=np.zeros(nevents)"
   ]
  },
  {
   "cell_type": "code",
   "execution_count": 41,
   "id": "be8cfdde",
   "metadata": {
    "scrolled": false
   },
   "outputs": [
    {
     "name": "stderr",
     "output_type": "stream",
     "text": [
      "100%|██████████| 10150/10150 [00:16<00:00, 609.47it/s]\n"
     ]
    }
   ],
   "source": [
    "NumDZT=0\n",
    "c=30\n",
    "\n",
    "for k in tqdm(range(nevents)):\n",
    "    #print(k)\n",
    "    if len(xiPairs[k])>0:\n",
    "        xiMt[k]=xiPairs[k][0][0]\n",
    "        ximt[k]=xiPairs[k][0][1]\n",
    "        tMt[k]=tPairs[k][0][0]\n",
    "        tmt[k]=tPairs[k][0][1]\n",
    "        mppt[k]=14000.*np.sqrt(xiPairs[k][0][0]*xiPairs[k][0][1])\n",
    "        diff1t[k]=xiPairs[k][0][0]-((sumET[k]+sumTPz[k])/14000)\n",
    "        diff2t[k]=xiPairs[k][0][1]-((sumET[k]-sumTPz[k])/14000)\n",
    "        difzT[k]=Tmu_z[k][0]-0.5*c*(tPairs[k][0][1]-tPairs[k][0][0])\n",
    "        yPt[k]=-0.5*np.log(xiMt[k]/ximt[k])\n",
    "        sumTsnsm[k]=(tMt[k]+tmt[k])*c-2*23400\n",
    "        Dzt=[]\n",
    "        for i in range (NP[k]):\n",
    "            Dzt=((Tmu_z[k][0]-0.5*c*(tPairs[k][i][1]-tPairs[k][i][0])))\n",
    "            #print(i,Tmu_z[k][0],0.5*c*(tPairs[k][i][1]-tPairs[k][i][0]))\n",
    "            if Dzt**2 < (Tmu_z[k][0]-0.5*c*(tmt[k]-tMt[k]))**2:\n",
    "                #print(k,i,Tmu_z[k][0],0.5*c*(tPairs[k][i][1]-tPairs[k][i][0]))\n",
    "                xiMt[k]=xiPairs[k][i][0]\n",
    "                ximt[k]=xiPairs[k][i][1]\n",
    "                tMt[k]=tPairs[k][i][0]\n",
    "                tmt[k]=tPairs[k][i][1]\n",
    "                mppt[k]=14000.*np.sqrt(xiPairs[k][i][0]*xiPairs[k][i][1])\n",
    "                diff1t[k]=xiPairs[k][i][0]-((sumET[k]+sumTPz[k])/14000)\n",
    "                diff2t[k]=xiPairs[k][i][1]-((sumET[k]-sumTPz[k])/14000)\n",
    "                difzT[k]=Tmu_z[k][0]-0.5*c*(tPairs[k][i][1]-tPairs[k][i][0])\n",
    "                yPt[k]=-0.5*np.log(xiMt[k]/ximt[k])\n",
    "                sumTsnsm[k]=(tMt[k]+tmt[k])*c-2*23400\n",
    "                #print(k,Tmu_z[k][0])\n",
    "                \n",
    "    if difzT[k]==0:\n",
    "        NumDZT=NumDZT+1\n",
    "                #print(i,0.5*c*(tPairs[k][i][1]-tPairs[k][i][0]))"
   ]
  },
  {
   "cell_type": "code",
   "execution_count": null,
   "id": "3937f185",
   "metadata": {},
   "outputs": [],
   "source": []
  },
  {
   "cell_type": "code",
   "execution_count": null,
   "id": "8206c84b",
   "metadata": {},
   "outputs": [],
   "source": []
  },
  {
   "cell_type": "code",
   "execution_count": 42,
   "id": "3b6d6665",
   "metadata": {},
   "outputs": [
    {
     "name": "stderr",
     "output_type": "stream",
     "text": [
      "100%|██████████| 10150/10150 [00:17<00:00, 572.78it/s]\n"
     ]
    }
   ],
   "source": [
    "NumDZT_sm=0\n",
    "NumST_sm=0\n",
    "c=30\n",
    "\n",
    "for k in tqdm(range(nevents)):\n",
    "    #print(k)\n",
    "    if len(xiPairs[k])>0:\n",
    "        xiMt_sm[k]=xiPairs[k][0][0]\n",
    "        ximt_sm[k]=xiPairs[k][0][1]        \n",
    "        tMt_sm[k]=t_smPairs[k][0][0]\n",
    "        tmt_sm[k]=t_smPairs[k][0][1]\n",
    "        mppt_sm[k]=14000.*np.sqrt(xiPairs[k][0][0]*xiPairs[k][0][1])\n",
    "        diff1t_sm[k]=xiPairs[k][0][0]-((sumET[k]+sumTPz[k])/14000)\n",
    "        diff2t_sm[k]=xiPairs[k][0][1]-((sumET[k]-sumTPz[k])/14000)\n",
    "        difzT_sm[k]=Tmu_z[k][0]-0.5*c*(t_smPairs[k][0][1]-t_smPairs[k][0][0])   \n",
    "        Dzt=[]\n",
    "        yPtsm[k]=-0.5*np.log(xiMt_sm[k]/ximt_sm[k])        \n",
    "        sumTs[k]=(tMt_sm[k]+tmt_sm[k])*c-2*23400\n",
    "        \n",
    "        for i in range (NP[k]):\n",
    "            Dzt=((Tmu_z[k][0]-0.5*c*(t_smPairs[k][i][1]-t_smPairs[k][i][0])))\n",
    "            #print(i,Tmu_z[k][0],0.5*c*(tPairs[k][i][1]-tPairs[k][i][0]))\n",
    "            if Dzt**2 < (Tmu_z[k][0]-0.5*c*(tmt_sm[k]-tMt_sm[k]))**2:\n",
    "                #print(k,i,Tmu_z[k][0],0.5*c*(tPairs[k][i][1]-tPairs[k][i][0]))\n",
    "                xiMt_sm[k]=xiPairs[k][i][0]\n",
    "                ximt_sm[k]=xiPairs[k][i][1]\n",
    "                tMt_sm[k]=t_smPairs[k][i][0]\n",
    "                tmt_sm[k]=t_smPairs[k][i][1]\n",
    "                mppt_sm[k]=14000.*np.sqrt(xiPairs[k][i][0]*xiPairs[k][i][1])\n",
    "                diff1t_sm[k]=xiPairs[k][i][0]-((sumET[k]+sumTPz[k])/14000)\n",
    "                diff2t_sm[k]=xiPairs[k][i][1]-((sumET[k]-sumTPz[k])/14000)\n",
    "                \n",
    "                yPtsm[k]=-0.5*np.log(xiMt_sm[k]/ximt_sm[k])\n",
    "                \n",
    "                sumTs[k]=(tMt_sm[k]+tmt_sm[k])*c-2*23400\n",
    "#                difzT1_sm[k]=Tmu_T[k][0]-(t_smPairs[k][i][0]-(23400-Tmu_z[k][0])/c)\n",
    "#                difzT2_sm[k]=Tmu_T[k][0]-(t_smPairs[k][i][1]-(23400-Tmu_z[k][0])/c)                \n",
    "                difzT_sm[k]=Tmu_z[k][0]-0.5*c*(t_smPairs[k][i][1]-t_smPairs[k][i][0])\n",
    "                #print(k,Tmu_z[k][0])\n",
    "                \n",
    "    if difzT_sm[k]==0:\n",
    "        NumDZT_sm=NumDZT_sm+1\n",
    "        \n",
    "    if sumTs[k]==0:\n",
    "        NumST_sm=NumST_sm+1\n",
    "                #print(i,0.5*c*(tPairs[k][i][1]-tPairs[k][i][0]))"
   ]
  },
  {
   "cell_type": "code",
   "execution_count": null,
   "id": "0b93bfca",
   "metadata": {},
   "outputs": [],
   "source": []
  },
  {
   "cell_type": "code",
   "execution_count": null,
   "id": "a4c620f8",
   "metadata": {
    "scrolled": false
   },
   "outputs": [],
   "source": []
  },
  {
   "cell_type": "code",
   "execution_count": 43,
   "id": "a45e3b7d",
   "metadata": {},
   "outputs": [
    {
     "name": "stdout",
     "output_type": "stream",
     "text": [
      "0\n",
      "0\n",
      "0\n"
     ]
    }
   ],
   "source": [
    "len(xiMt)\n",
    "print(NumDZT)\n",
    "print(NumDZT_sm)\n",
    "print(NumST_sm)"
   ]
  },
  {
   "cell_type": "code",
   "execution_count": null,
   "id": "f8e6c169",
   "metadata": {},
   "outputs": [],
   "source": []
  },
  {
   "cell_type": "code",
   "execution_count": 44,
   "id": "80a90125",
   "metadata": {
    "scrolled": false
   },
   "outputs": [
    {
     "data": {
      "text/plain": [
       "[Text(0.5, 24.0, 'DiffzT'), Text(59.875, 0.5, 'number of entries')]"
      ]
     },
     "execution_count": 44,
     "metadata": {},
     "output_type": "execute_result"
    },
    {
     "data": {
      "image/png": "[encoded data removed]",
      "text/plain": [
       "<Figure size 720x360 with 1 Axes>"
      ]
     },
     "metadata": {
      "needs_background": "light"
     },
     "output_type": "display_data"
    }
   ],
   "source": [
    "#lets draw hisgorgam of number of muons:\n",
    "f, ax = plt.subplots(figsize=(10,5))\n",
    "plt.hist(difzT, bins=np.linspace(-10,10,100),label='DiffzT')\n",
    "hep.cms.label(llabel=\"Preliminary\", rlabel=\"Summer 2021\", ax=ax)\n",
    "ax.legend(); \n",
    "ax.set(xlabel='DiffzT', ylabel='number of entries')\n",
    "#plt.savefig('VtxZ-TimeDiff XiSmear.png')"
   ]
  },
  {
   "cell_type": "code",
   "execution_count": 45,
   "id": "45b2c84c",
   "metadata": {
    "scrolled": false
   },
   "outputs": [
    {
     "data": {
      "text/plain": [
       "[Text(0.5, 24.0, 'DiffzT_tsmear'), Text(59.875, 0.5, 'number of entries')]"
      ]
     },
     "execution_count": 45,
     "metadata": {},
     "output_type": "execute_result"
    },
    {
     "data": {
      "image/png": "[encoded data removed]",
      "text/plain": [
       "<Figure size 720x360 with 1 Axes>"
      ]
     },
     "metadata": {
      "needs_background": "light"
     },
     "output_type": "display_data"
    }
   ],
   "source": [
    "#lets draw hisgorgam of number of muons:\n",
    "f, ax = plt.subplots(figsize=(10,5))\n",
    "plt.hist(difzT_sm, bins=np.linspace(-10,10,100),label='DiffzT_tsmear')\n",
    "hep.cms.label(llabel=\"Preliminary\", rlabel=\"Summer 2022\", ax=ax)\n",
    "ax.legend(); \n",
    "ax.set(xlabel='DiffzT_tsmear', ylabel='number of entries')\n",
    "#plt.savefig('VtxZ-TimeDiff Xi&TSmear.png')"
   ]
  },
  {
   "cell_type": "code",
   "execution_count": null,
   "id": "c124abb6",
   "metadata": {},
   "outputs": [],
   "source": []
  },
  {
   "cell_type": "code",
   "execution_count": null,
   "id": "253bb63d",
   "metadata": {},
   "outputs": [],
   "source": []
  },
  {
   "cell_type": "code",
   "execution_count": null,
   "id": "3f8ec8f1",
   "metadata": {},
   "outputs": [],
   "source": []
  },
  {
   "cell_type": "code",
   "execution_count": 46,
   "id": "e1a7cb5f",
   "metadata": {
    "scrolled": false
   },
   "outputs": [
    {
     "data": {
      "image/png": "[encoded data removed]",
      "text/plain": [
       "<Figure size 432x288 with 1 Axes>"
      ]
     },
     "metadata": {
      "needs_background": "light"
     },
     "output_type": "display_data"
    }
   ],
   "source": [
    "import matplotlib.pyplot as plt\n",
    "import numpy as np\n",
    "\n",
    "# Fixing random state for reproducibility\n",
    "np.random.seed(19680801)\n",
    "\n",
    "plt.scatter(mppt, mllt)\n",
    "plt.xlabel(\"mppt\")\n",
    "plt.ylabel(\"mllt\")\n",
    "plt.show()"
   ]
  },
  {
   "cell_type": "code",
   "execution_count": 47,
   "id": "0a9ccee2",
   "metadata": {},
   "outputs": [
    {
     "data": {
      "image/png": "[encoded data removed]",
      "text/plain": [
       "<Figure size 432x288 with 1 Axes>"
      ]
     },
     "metadata": {
      "needs_background": "light"
     },
     "output_type": "display_data"
    }
   ],
   "source": [
    "import matplotlib.pyplot as plt\n",
    "import numpy as np\n",
    "\n",
    "# Fixing random state for reproducibility\n",
    "np.random.seed(19680801)\n",
    "\n",
    "plt.scatter(mppt_sm, mllt)\n",
    "plt.xlabel(\"mppt_sm\")\n",
    "plt.ylabel(\"mllt\")\n",
    "plt.show()"
   ]
  },
  {
   "cell_type": "code",
   "execution_count": 48,
   "id": "bac10d91",
   "metadata": {},
   "outputs": [
    {
     "data": {
      "image/png": "[encoded data removed]",
      "text/plain": [
       "<Figure size 432x288 with 1 Axes>"
      ]
     },
     "metadata": {
      "needs_background": "light"
     },
     "output_type": "display_data"
    }
   ],
   "source": [
    "# Fixing random state for reproducibility\n",
    "np.random.seed(19680801)\n",
    "\n",
    "plt.scatter(yPtsm, ylt)\n",
    "plt.xlabel(\"yPsm\")\n",
    "plt.ylabel(\"ylt\")\n",
    "plt.show()"
   ]
  },
  {
   "cell_type": "code",
   "execution_count": 49,
   "id": "7709026e",
   "metadata": {},
   "outputs": [
    {
     "data": {
      "image/png": "[encoded data removed]",
      "text/plain": [
       "<Figure size 432x288 with 1 Axes>"
      ]
     },
     "metadata": {
      "needs_background": "light"
     },
     "output_type": "display_data"
    }
   ],
   "source": [
    "plt.hist2d(yPtsm, ylt, bins=20)\n",
    "plt.show()"
   ]
  },
  {
   "cell_type": "code",
   "execution_count": 50,
   "id": "12632582",
   "metadata": {},
   "outputs": [
    {
     "name": "stdout",
     "output_type": "stream",
     "text": [
      "[0.01341733 0.04798747 0.0192025  ... 0.13126324 0.01852941 0.01370891]\n",
      "[0.01751241 0.01058294 0.01074119 ... 0.03026956 0.053943   0.04847657]\n",
      "[0.07821658 0.18967403 0.0192025  ... 0.13126324 0.10470331 0.15615442]\n",
      "[0.03699391 0.03924899 0.14022404 ... 0.09137135 0.18687854 0.04847657]\n"
     ]
    }
   ],
   "source": [
    "print(xiM)\n",
    "print(xim)\n",
    "print(xiMt)\n",
    "print(ximt)"
   ]
  },
  {
   "cell_type": "code",
   "execution_count": 51,
   "id": "037d71ba",
   "metadata": {},
   "outputs": [
    {
     "name": "stdout",
     "output_type": "stream",
     "text": [
      "10150\n",
      "10150\n"
     ]
    }
   ],
   "source": [
    "print(len(xiM))\n",
    "print(len(xiMt))"
   ]
  },
  {
   "cell_type": "code",
   "execution_count": 52,
   "id": "b0944cbd",
   "metadata": {},
   "outputs": [],
   "source": [
    "XIM=np.zeros(nevents)\n",
    "XIm=np.zeros(nevents)\n",
    "TMt=np.zeros(nevents)\n",
    "Tmt=np.zeros(nevents)\n",
    "\n",
    "numnz=0\n",
    "XIMnsm=np.zeros(nevents)\n",
    "XImnsm=np.zeros(nevents)\n",
    "numnznsm=0"
   ]
  },
  {
   "cell_type": "code",
   "execution_count": 53,
   "id": "58f186c3",
   "metadata": {},
   "outputs": [],
   "source": [
    "TMtnsm=np.zeros(nevents)\n",
    "Tmtnsm=np.zeros(nevents)"
   ]
  },
  {
   "cell_type": "code",
   "execution_count": 54,
   "id": "ccc4e835",
   "metadata": {},
   "outputs": [
    {
     "name": "stderr",
     "output_type": "stream",
     "text": [
      "100%|██████████| 10150/10150 [00:00<00:00, 1623591.23it/s]\n"
     ]
    }
   ],
   "source": [
    "for i in tqdm(range(nevents)):\n",
    "    #print(k)\n",
    "    if xiM[i]==xiMt_sm[i] and xim[i]==ximt_sm[i]:\n",
    "        XIM[i]=xiM[i]\n",
    "        XIm[i]=xim[i]\n",
    "        TMt[i]=tMt_sm[i]\n",
    "        Tmt[i]=tmt_sm[i]\n",
    "        numnz=numnz+1"
   ]
  },
  {
   "cell_type": "code",
   "execution_count": 55,
   "id": "0c6867d4",
   "metadata": {},
   "outputs": [
    {
     "name": "stderr",
     "output_type": "stream",
     "text": [
      "100%|██████████| 10150/10150 [00:00<00:00, 1680834.87it/s]\n"
     ]
    }
   ],
   "source": [
    "for i in tqdm(range(nevents)):\n",
    "    #print(k)\n",
    "    if xiM[i]==xiMt[i] and xim[i]==ximt[i]:\n",
    "        XIMnsm[i]=xiM[i]\n",
    "        XImnsm[i]=xim[i]\n",
    "        TMtnsm[i]=tMt[i]\n",
    "        Tmtnsm[i]=tmt[i]\n",
    "        numnznsm=numnznsm+1"
   ]
  },
  {
   "cell_type": "code",
   "execution_count": 56,
   "id": "21ce837b",
   "metadata": {},
   "outputs": [
    {
     "name": "stdout",
     "output_type": "stream",
     "text": [
      "[0. 0. 0. ... 0. 0. 0.]\n",
      "734\n",
      "[0. 0. 0. ... 0. 0. 0.]\n",
      "726\n"
     ]
    }
   ],
   "source": [
    "print(XIM)\n",
    "print(numnz)\n",
    "print(XIMnsm)\n",
    "print(numnznsm)"
   ]
  },
  {
   "cell_type": "code",
   "execution_count": 57,
   "id": "389a3fc5",
   "metadata": {},
   "outputs": [
    {
     "name": "stdout",
     "output_type": "stream",
     "text": [
      "0.0734\n",
      "0.0726\n"
     ]
    }
   ],
   "source": [
    "MPP=[]\n",
    "MLL=[]\n",
    "M=[]\n",
    "YPP=[]\n",
    "YLL=[]\n",
    "Y=[]\n",
    "CTDif=[]\n",
    "Muz=[]\n",
    "Mut=[]\n",
    "ST=[]\n",
    "\n",
    "for i in range (nevents):\n",
    "    if (XIM[i]!=0) and (TMu2_pt[i]>0):\n",
    "        MPP.append(14000.*np.sqrt(XIM[i]*XIm[i]))\n",
    "        MLL.append(mllt[i])\n",
    "        YPP.append(-0.5*np.log(XIM[i]/XIm[i]))\n",
    "        YLL.append(ylt[i])\n",
    "        CTDif.append(0.5*c*(TMt[i]-Tmt[i]))\n",
    "        Muz.append(Tmu_z[i][0])\n",
    "        Mut.append(Tmu_T[i][0])\n",
    "        ST.append((0.5*sumTs[i])/c)\n",
    "    \n",
    "print(len(MPP)/10000)\n",
    "for i in range (len(MPP)):\n",
    "    M.append((MPP[i]-MLL[i])/(MPP[i]+MLL[i]))\n",
    "    Y.append((YPP[i]-YLL[i])) #/(YPP[i]+YLL[i]))\n",
    "\n",
    "\n",
    "MPPnsm=[]\n",
    "MLLnsm=[]\n",
    "Mnsm=[]\n",
    "YPPnsm=[]\n",
    "YLLnsm=[]\n",
    "Ynsm=[]\n",
    "CTDifnsm=[]\n",
    "Muznsm=[]\n",
    "Mutnsm=[]\n",
    "STnsm=[]\n",
    "for i in range (nevents):\n",
    "    if (XIMnsm[i]!=0) and (TMu2_pt[i]>0):\n",
    "        MPPnsm.append(14000.*np.sqrt(XIMnsm[i]*XImnsm[i]))\n",
    "        MLLnsm.append(mllt[i])\n",
    "        CTDifnsm.append(0.5*c*(TMtnsm[i]-Tmtnsm[i]))\n",
    "        Muznsm.append(Tmu_z[i][0])\n",
    "        Mutnsm.append(Tmu_T[i][0])\n",
    "        STnsm.append((0.5*sumTsnsm[i])/c)\n",
    "print(len(MPPnsm)/10000)\n",
    "for i in range (len(MPPnsm)):\n",
    "    Mnsm.append((MPPnsm[i]-MLLnsm[i])/(MPPnsm[i]+MLLnsm[i]))\n",
    "\n"
   ]
  },
  {
   "cell_type": "code",
   "execution_count": 58,
   "id": "efcec85e",
   "metadata": {
    "scrolled": true
   },
   "outputs": [
    {
     "name": "stdout",
     "output_type": "stream",
     "text": [
      "[ 1.82545747e+01 -8.64643583e+01  2.53992375e+01 -1.88452691e+01\n",
      "  1.07686716e+02  1.93366315e-01  2.92439085e+01 -3.57340217e+01\n",
      "  6.71340980e+01  1.09752049e+01 -5.45463948e+01 -3.60009765e+01\n",
      " -4.83552456e+00 -3.04595717e+01 -9.05218601e+01 -6.76019023e+01\n",
      "  5.72566477e+01  1.53959536e+02  5.14281505e+00  6.56995700e+01\n",
      " -1.78863324e+02 -9.67008966e+01 -8.49191597e+01  5.45915058e+01\n",
      "  4.44907955e+01 -4.93074519e+01  2.73728608e+01 -1.00269154e+02\n",
      "  1.07758970e+02  4.39280803e+01 -3.29250282e+01 -4.95957607e+01\n",
      "  6.55923710e+01 -2.24320080e+01 -4.74639107e+01 -7.67455824e+01\n",
      " -8.06015082e+01  8.12068956e+01 -7.55231431e+01  8.61764714e+01\n",
      " -1.33553830e+02 -5.87600461e+01  1.02221900e+02 -7.50656349e+01\n",
      " -6.34001862e+01  4.37052975e+01  1.40549126e+02 -7.15274005e+01\n",
      "  4.59495530e+01 -6.52833187e+01 -8.10815853e+01 -1.08038055e+02\n",
      "  5.49060188e+01  6.46384588e+01 -2.71814578e+01 -3.30319237e+01\n",
      "  3.42531604e+00  6.66899914e+01  8.21975919e+00 -7.40002059e+01\n",
      " -1.65686664e+01  6.17201357e+01 -1.26392285e+02  1.09413123e+02\n",
      "  3.70566923e+01 -8.20962801e+01 -1.02437419e+02 -8.56309279e+00\n",
      " -1.19789706e+02  4.14655113e+01  6.89755507e+00  6.99972642e+01\n",
      "  1.34680170e+01  1.69762823e+02 -3.16925542e+01  5.36225843e+01\n",
      "  1.10152156e+02 -8.73647680e-01 -7.70253658e+01  5.52075708e+01\n",
      "  1.65648898e+00 -1.13530482e+00 -3.56127930e+01 -1.57528302e+02\n",
      "  1.51444472e+00  3.09841759e-01  5.81620346e+01  3.26650430e+01\n",
      " -8.88100821e+01 -2.45984277e+01  8.90328392e+01  5.26959454e+01\n",
      "  9.45096387e+01 -7.22300871e+01  3.88625346e+01  8.90099909e-01\n",
      " -6.06803466e+01  1.22579414e+02  8.79206395e+00  1.81270382e+01\n",
      " -3.49210889e+01 -9.01762296e+00  7.52764377e+01  7.17824653e+01\n",
      "  5.04622139e+00 -4.34202160e+01  2.68815847e+00  6.84530989e+01\n",
      "  1.07114893e+02 -1.81610728e+02 -4.29774428e+01  5.69978526e+01\n",
      "  1.04323541e+02  5.86292453e+01 -2.89990768e+01  1.15432546e+02\n",
      "  1.64093620e+01  6.51237498e+00 -1.21990460e+01  1.43390982e+01\n",
      " -1.65985185e+01  4.08445222e+01  6.31063869e+01  9.49304791e+01\n",
      " -7.44031836e+01  2.65617315e+01 -2.60116354e+01  9.23099000e+01\n",
      " -9.81769633e+01  2.09870534e+01  1.34871498e+01 -2.24156527e+01\n",
      " -4.28793849e+01 -1.14713525e+02  4.86548796e+01  2.08329809e+01\n",
      " -2.14354844e+01  1.36122883e+01  5.21792537e+00  1.08787498e+01\n",
      " -1.32594582e+01 -3.14597079e+01 -1.96717226e+01 -1.39396056e+02\n",
      " -2.63167603e+01 -3.68122947e+01 -6.25247654e+01  6.79180912e+01\n",
      "  2.68846748e+01  7.36995572e+01 -2.78848404e+01  3.00300011e+01\n",
      " -1.25658500e+02  3.74834144e+00  9.53036669e+01  1.08912880e+02\n",
      " -1.13830773e+01 -6.19466935e+01  1.56472045e+02  1.08464000e+01\n",
      "  4.60363528e+01 -9.84009258e+01 -5.93703205e+01 -5.31019381e+01\n",
      "  7.52507253e+01  8.26534409e+01  4.43026160e+01 -2.04541028e+01\n",
      " -5.22535200e+00  1.20937226e+01  4.07966101e+01 -8.12752728e+01\n",
      " -5.97134177e+01 -5.22324668e+01 -1.47162445e+01  1.13866557e+02\n",
      " -1.63975724e+02  2.49734744e+01 -7.39806782e+01  6.25944822e+01\n",
      "  2.28047558e+01 -5.90524605e+01 -6.95551635e+00 -6.31917030e+01\n",
      " -1.89291626e+01  3.46047663e+01  2.33385649e+02 -2.88345443e+01\n",
      "  1.53775093e+02 -7.11985589e+01  1.52308345e+02 -9.39884616e+01\n",
      " -1.85224132e+01  3.95559893e+01 -7.91685774e+01  1.44536672e+01\n",
      " -2.51543236e+01  4.35836113e+01  6.47432853e+01 -6.74119522e+01\n",
      "  7.66363765e+01  9.23531756e+01 -1.19889809e+02 -1.11173372e+02\n",
      "  5.17440458e+01  4.20047290e+01 -2.17625056e+01 -6.49589275e+01\n",
      " -1.09557255e+02  2.47294920e+01 -4.23640444e+01  1.06241502e+02\n",
      " -5.90080947e+00 -1.90961147e+02  2.70213565e+01  4.10057512e+01\n",
      " -4.26346306e+01  5.28963368e+01  4.22998700e+01  7.78270305e+01\n",
      " -1.35722274e+02  6.74622618e+01 -1.19300547e+02 -6.97965342e+01\n",
      "  5.49327769e+01 -1.80186025e+01 -1.71807795e+02  1.05057586e+01\n",
      "  5.66864990e+01 -1.11017973e+02 -6.89923377e+01  1.30431603e+01\n",
      "  9.42922115e+01 -2.02645878e+01 -4.46826051e+01 -4.29623415e+01\n",
      " -1.08490036e+02 -2.57425500e+01 -4.08377579e+01 -7.65082552e+01\n",
      " -5.38230579e+01  1.06526011e+00  4.02567796e+01 -5.32044677e+00\n",
      " -5.61835905e-02 -1.86714857e+01  1.08524240e+02  6.05119937e+00\n",
      "  5.39345522e+00 -8.58932745e+01  2.04553390e+01 -1.85628765e+01\n",
      " -6.79894800e+01  2.27476863e+01  1.19900675e+02  5.55356986e+01\n",
      " -5.62702037e+01  2.45271797e+00 -2.96235222e+01 -4.90055322e+01\n",
      " -9.18972102e+01  1.00060923e+02 -1.34315182e+02 -2.40638728e+01\n",
      " -5.45152523e+01 -3.22027110e+01 -4.52096935e+01 -3.42127925e+01\n",
      "  5.96306681e+01 -1.62421029e+01  4.11248118e+01 -1.01637670e+02\n",
      " -8.07353575e+00  3.37190989e+00 -8.74393033e+01  6.75082103e+01\n",
      " -1.33358571e+01 -3.94422759e+01  8.66211598e+01  5.93251150e+01\n",
      "  4.23908208e+01  1.23855162e+02  5.42465783e+01  3.36908717e+01\n",
      " -9.81275949e+00  7.03832143e+01  7.14255650e+00  3.37252145e+01\n",
      " -6.37456314e+01  4.87583431e+01  2.09686419e+01  3.71786825e+01\n",
      " -7.22279473e+01  6.18117329e+01  1.87773395e+01 -3.39933361e+01\n",
      "  8.31034402e+01  2.79199615e+01 -7.10375004e+01  1.73721135e+01\n",
      "  3.01524173e+01 -6.04606131e+01 -9.84182574e+01 -5.78256022e+01\n",
      "  1.14623687e+02  3.89236931e+01 -7.20617361e+01 -1.36280658e+01\n",
      "  3.73152535e+01 -1.25202910e+01 -1.33287451e+02  9.80476387e+01\n",
      "  5.02223960e+00  1.02669380e+02 -1.22616671e+02 -3.44723145e+01\n",
      " -4.20625389e+01  1.81246345e+02 -1.78016497e+02  5.89421999e+01\n",
      " -1.06831792e+02 -1.05221647e+02 -2.61255379e+01 -6.30581324e+01\n",
      " -5.22946956e+01  7.01254248e+00  1.18725861e+02  7.62324145e+00\n",
      " -6.14221547e+01 -7.49442823e+01  9.29795070e+00 -5.70932226e+01\n",
      "  6.66217229e+01  1.35989835e+01 -1.94990285e+01 -2.27001823e+01\n",
      "  2.25212270e+01  9.85531602e+01 -8.07118926e+01 -6.09220090e+01\n",
      " -7.80506127e+01 -1.49989240e+01  1.82641120e+01 -1.15589240e+01\n",
      " -3.07343903e+01 -1.21732357e+02  1.35406948e+02  9.83133019e-01\n",
      " -7.47788554e+01  1.85161846e+00 -5.52669642e+01  7.83056647e+00\n",
      "  1.77993462e+02 -1.92552132e+01 -2.03481735e+01 -4.52294402e+00\n",
      " -1.69384006e+01  2.95322800e+01 -1.40845966e+02  2.86798795e+01\n",
      " -5.03929554e+00 -1.08320830e+02  5.97592256e+01 -1.21614087e+00\n",
      " -3.13487631e+01 -1.02664053e+02  2.25680509e+02  5.88761984e+01\n",
      " -1.92469581e+01  9.50825035e+01 -1.63618185e+02  1.21263527e+02\n",
      "  7.76731547e+01  4.41624542e+01 -4.06288658e+01  3.58290370e+01\n",
      " -3.93811086e+00  1.50757844e+02 -4.08749682e+01  5.98003696e+00\n",
      " -4.12938137e+01  5.24079618e+01 -1.29599682e+02  1.31162377e+02\n",
      " -6.30024607e+00 -5.53731749e+00  1.64691968e+01 -1.52481503e+02\n",
      " -1.35811559e+02  8.77936709e+01  1.02661947e+01 -1.48216494e+02\n",
      "  1.88503250e+01 -3.13098145e+01  2.25108497e+01 -1.57999365e+02\n",
      "  1.41305670e+01 -1.74213225e+00  1.14935726e+01 -6.34936462e+01\n",
      "  7.90230605e+01 -1.31443560e+02  6.56292253e+01  1.02549380e+01\n",
      "  1.91160843e+01 -3.36892819e+00  7.04675019e+01 -5.88985110e+00\n",
      " -7.56674016e+00  2.10036225e+01  1.30553099e+02  1.33584420e+01\n",
      "  7.11493833e+01 -1.62422811e+02  9.22198172e+00 -5.31279878e+01\n",
      " -1.68438174e+01 -1.64299593e+01  7.83498172e+01 -6.01711707e+01\n",
      "  3.29409799e+01  2.44596214e+01  1.79802751e+01 -7.91505369e+01\n",
      " -2.39579685e+01  1.00556929e+02 -9.14319354e+01  6.36897757e+01\n",
      "  1.00203492e+02 -4.69042682e+01  8.35946111e+01 -2.97265583e+01\n",
      "  1.12592219e+01 -1.10543635e+02 -1.23790575e+02  4.82468966e+01\n",
      "  1.48721308e+02  1.88627151e+01  4.03603638e+01  4.19444670e+01\n",
      " -4.42260486e+01  2.06354936e+02 -6.68546307e+00 -1.11190101e+02\n",
      "  2.29457381e+01  9.71309773e+00  5.48897935e+01 -7.86112186e+01\n",
      "  1.11284989e+02  2.05250884e+01  3.15366253e+01 -1.25025001e+01\n",
      "  2.40279763e+01  6.04739132e+00 -5.33803365e+01 -4.84714151e+00\n",
      "  7.62039049e+01  1.88010892e+02  1.22564589e+01  9.72496914e+00\n",
      "  4.31561857e+01  8.09765965e+01  8.38549353e+01  1.16907598e+01\n",
      "  3.45596571e+01  4.63999440e+00 -3.33067359e+01  5.89893086e+01\n",
      " -3.43448374e+01  3.63814246e+01  2.29022455e+01  1.79563104e+02\n",
      " -5.94217129e+00  4.60855648e+01 -2.72931230e+02  6.20111332e+01\n",
      "  4.84731040e+01  5.43917880e+01 -1.41784934e+02  2.39414860e+01\n",
      " -4.50937188e+00  2.78744361e+01  1.59506200e+02 -3.79033915e+01\n",
      " -7.99723515e+01 -7.09713660e+01  2.93165843e+01 -2.25411159e+02\n",
      " -4.03862907e+01 -3.76891510e+01 -8.52769462e+00  2.24757373e+01\n",
      " -1.49104506e+02 -3.85086241e+01 -5.11716112e+01  3.30844782e+01\n",
      "  4.64244135e+00 -1.31385125e+01 -1.60147083e+02 -4.66086973e+00]\n"
     ]
    }
   ],
   "source": [
    "print(sumTs[0:500])"
   ]
  },
  {
   "cell_type": "code",
   "execution_count": 59,
   "id": "c00c7f76",
   "metadata": {},
   "outputs": [
    {
     "data": {
      "image/png": "[encoded data removed]",
      "text/plain": [
       "<Figure size 432x288 with 1 Axes>"
      ]
     },
     "metadata": {
      "needs_background": "light"
     },
     "output_type": "display_data"
    }
   ],
   "source": [
    "np.random.seed(19680801)\n",
    "\n",
    "plt.scatter(STnsm,Mutnsm)\n",
    "plt.xlabel(\"STnsm\")\n",
    "plt.ylabel(\"VertexT\")\n",
    "plt.show()"
   ]
  },
  {
   "cell_type": "code",
   "execution_count": 60,
   "id": "542c2717",
   "metadata": {},
   "outputs": [
    {
     "data": {
      "text/plain": [
       "734"
      ]
     },
     "execution_count": 60,
     "metadata": {},
     "output_type": "execute_result"
    }
   ],
   "source": [
    "len(MLL)"
   ]
  },
  {
   "cell_type": "code",
   "execution_count": 61,
   "id": "8a5c7f53",
   "metadata": {
    "scrolled": true
   },
   "outputs": [
    {
     "data": {
      "image/png": "[encoded data removed]",
      "text/plain": [
       "<Figure size 432x288 with 1 Axes>"
      ]
     },
     "metadata": {
      "needs_background": "light"
     },
     "output_type": "display_data"
    }
   ],
   "source": [
    "import matplotlib.pyplot as plt \n",
    "import numpy as np\n",
    "\n",
    "#Smeared\n",
    "np.random.seed(19680801)\n",
    "\n",
    "plt.scatter(MPP,MLL)\n",
    "plt.xlabel(\"mpp_2cuts\")\n",
    "plt.ylabel(\"mllt\")\n",
    "plt.show()"
   ]
  },
  {
   "cell_type": "code",
   "execution_count": 62,
   "id": "27504935",
   "metadata": {},
   "outputs": [
    {
     "data": {
      "image/png": "[encoded data removed]",
      "text/plain": [
       "<Figure size 432x288 with 1 Axes>"
      ]
     },
     "metadata": {
      "needs_background": "light"
     },
     "output_type": "display_data"
    }
   ],
   "source": [
    "np.random.seed(19680801)\n",
    "\n",
    "plt.scatter(YPP,YLL)\n",
    "plt.xlabel(\"Ypp_2cuts\")\n",
    "plt.ylabel(\"Yllt\")\n",
    "plt.show()"
   ]
  },
  {
   "cell_type": "code",
   "execution_count": 63,
   "id": "2cc89cdb",
   "metadata": {},
   "outputs": [
    {
     "data": {
      "image/png": "[encoded data removed]",
      "text/plain": [
       "<Figure size 432x288 with 1 Axes>"
      ]
     },
     "metadata": {
      "needs_background": "light"
     },
     "output_type": "display_data"
    }
   ],
   "source": [
    "plt.hist2d(YPP, YLL, bins=25)\n",
    "plt.show()"
   ]
  },
  {
   "cell_type": "code",
   "execution_count": 64,
   "id": "a6d88098",
   "metadata": {},
   "outputs": [
    {
     "data": {
      "text/plain": [
       "[Text(0.5, 24.0, 'Y'), Text(66.25, 0.5, 'number of entries')]"
      ]
     },
     "execution_count": 64,
     "metadata": {},
     "output_type": "execute_result"
    },
    {
     "data": {
      "image/png": "[encoded data removed]",
      "text/plain": [
       "<Figure size 720x360 with 1 Axes>"
      ]
     },
     "metadata": {
      "needs_background": "light"
     },
     "output_type": "display_data"
    }
   ],
   "source": [
    "f, ax = plt.subplots(figsize=(10,5))\n",
    "plt.hist(Y, bins=np.linspace(-5,5,100),label='BothSmear')\n",
    "hep.cms.label(llabel=\"Preliminary\", rlabel=\"Summer 2022\", ax=ax)\n",
    "ax.legend(); \n",
    "ax.set(xlabel='Y', ylabel='number of entries')"
   ]
  },
  {
   "cell_type": "code",
   "execution_count": 65,
   "id": "3aad64cc",
   "metadata": {},
   "outputs": [
    {
     "data": {
      "image/png": "[encoded data removed]",
      "text/plain": [
       "<Figure size 432x288 with 1 Axes>"
      ]
     },
     "metadata": {
      "needs_background": "light"
     },
     "output_type": "display_data"
    }
   ],
   "source": [
    "import matplotlib.pyplot as plt\n",
    "import numpy as np\n",
    "\n",
    "#Un Smeared\n",
    "np.random.seed(19680801)\n",
    "\n",
    "plt.scatter(MPPnsm,MLLnsm)\n",
    "plt.xlabel(\"mpp_2cuts\")\n",
    "plt.ylabel(\"mllt\")\n",
    "plt.show()"
   ]
  },
  {
   "cell_type": "code",
   "execution_count": 81,
   "id": "67b71550",
   "metadata": {},
   "outputs": [
    {
     "data": {
      "text/plain": [
       "[Text(0.5, 24.0, 'MPP-MLL'), Text(66.25, 0.5, 'number of entries')]"
      ]
     },
     "execution_count": 81,
     "metadata": {},
     "output_type": "execute_result"
    },
    {
     "data": {
      "image/png": "[encoded data removed]",
      "text/plain": [
       "<Figure size 720x360 with 1 Axes>"
      ]
     },
     "metadata": {
      "needs_background": "light"
     },
     "output_type": "display_data"
    }
   ],
   "source": [
    "#lets draw hisgorgam of number of muons:\n",
    "f, ax = plt.subplots(figsize=(10,5))\n",
    "plt.hist(M, bins=np.linspace(-1,1,100),label='BothSmearings (N=1526)')\n",
    "hep.cms.label(llabel=\"Preliminary\", rlabel=\"Summer 2022\", ax=ax)\n",
    "ax.legend(); \n",
    "ax.set(xlabel='MPP-MLL', ylabel='number of entries')\n",
    "#plt.savefig('InvariantMassCorrBothSmearing.png')"
   ]
  },
  {
   "cell_type": "code",
   "execution_count": 82,
   "id": "a50a3d81",
   "metadata": {},
   "outputs": [
    {
     "data": {
      "text/plain": [
       "[Text(0.5, 24.0, 'MPP-MLL'), Text(66.25, 0.5, 'number of entries')]"
      ]
     },
     "execution_count": 82,
     "metadata": {},
     "output_type": "execute_result"
    },
    {
     "data": {
      "image/png": "[encoded data removed]",
      "text/plain": [
       "<Figure size 720x360 with 1 Axes>"
      ]
     },
     "metadata": {
      "needs_background": "light"
     },
     "output_type": "display_data"
    }
   ],
   "source": [
    "#lets draw hisgorgam of number of muons:\n",
    "f, ax = plt.subplots(figsize=(10,5))\n",
    "plt.hist(Mnsm, bins=np.linspace(-1,1,100),label='XiSmearing (N=1854)')\n",
    "hep.cms.label(llabel=\"Preliminary\", rlabel=\"Summer 2022\", ax=ax)\n",
    "ax.legend(); \n",
    "ax.set(xlabel='MPP-MLL', ylabel='number of entries')\n",
    "#plt.savefig('InvariantMassCorrXiSmearings.png')"
   ]
  },
  {
   "cell_type": "code",
   "execution_count": 68,
   "id": "0c45ec43",
   "metadata": {},
   "outputs": [
    {
     "data": {
      "text/plain": [
       "734"
      ]
     },
     "execution_count": 68,
     "metadata": {},
     "output_type": "execute_result"
    }
   ],
   "source": [
    "len(M)"
   ]
  },
  {
   "cell_type": "code",
   "execution_count": 69,
   "id": "a233cd7d",
   "metadata": {},
   "outputs": [
    {
     "name": "stdout",
     "output_type": "stream",
     "text": [
      "3\n",
      "24.615\n"
     ]
    }
   ],
   "source": [
    "kt=0\n",
    "for i in range (len(M)):\n",
    "    if np.abs(M[i])<0.025:\n",
    "        kt=kt+1\n",
    "print(kt)\n",
    "Lum=300e15\n",
    "Cross=0.2735e-12\n",
    "Acc=kt/10000\n",
    "NumbEv=Lum*Cross*Acc\n",
    "print(NumbEv)"
   ]
  },
  {
   "cell_type": "code",
   "execution_count": 70,
   "id": "89d8f278",
   "metadata": {},
   "outputs": [
    {
     "name": "stdout",
     "output_type": "stream",
     "text": [
      "2\n",
      "16.41\n"
     ]
    }
   ],
   "source": [
    "ktnsm=0\n",
    "for i in range (len(Mnsm)):\n",
    "    if np.abs(Mnsm[i])<0.025:\n",
    "        ktnsm=ktnsm+1\n",
    "print(ktnsm)\n",
    "Lum=300e15\n",
    "Cross=0.2735e-12\n",
    "Accnsm=ktnsm/10000\n",
    "NumbEvnsm=Lum*Cross*Accnsm\n",
    "print(NumbEvnsm)"
   ]
  },
  {
   "cell_type": "code",
   "execution_count": null,
   "id": "c6d69651",
   "metadata": {},
   "outputs": [],
   "source": []
  },
  {
   "cell_type": "code",
   "execution_count": null,
   "id": "0d8e6b5b",
   "metadata": {
    "scrolled": true
   },
   "outputs": [],
   "source": []
  },
  {
   "cell_type": "code",
   "execution_count": null,
   "id": "08705458",
   "metadata": {},
   "outputs": [],
   "source": []
  },
  {
   "cell_type": "code",
   "execution_count": 73,
   "id": "633edc76",
   "metadata": {
    "scrolled": false
   },
   "outputs": [
    {
     "data": {
      "image/png": "[encoded data removed]",
      "text/plain": [
       "<Figure size 432x288 with 1 Axes>"
      ]
     },
     "metadata": {
      "needs_background": "light"
     },
     "output_type": "display_data"
    }
   ],
   "source": [
    "np.random.seed(19680801)\n",
    "\n",
    "plt.scatter(Muz,CTDif)\n",
    "plt.xlabel(\"Mu_z\")\n",
    "plt.ylabel(\"0.5*c*Tdiff\")\n",
    "plt.show()"
   ]
  },
  {
   "cell_type": "code",
   "execution_count": 74,
   "id": "3f54165f",
   "metadata": {},
   "outputs": [],
   "source": [
    "#Clean the events\n",
    "#Plot with density\n"
   ]
  },
  {
   "cell_type": "code",
   "execution_count": null,
   "id": "b0244fe5",
   "metadata": {},
   "outputs": [],
   "source": []
  },
  {
   "cell_type": "code",
   "execution_count": 75,
   "id": "d5a1ff76",
   "metadata": {
    "scrolled": false
   },
   "outputs": [
    {
     "data": {
      "image/png": "[encoded data removed]",
      "text/plain": [
       "<Figure size 432x288 with 1 Axes>"
      ]
     },
     "metadata": {
      "needs_background": "light"
     },
     "output_type": "display_data"
    }
   ],
   "source": [
    "np.random.seed(19680801)\n",
    "\n",
    "plt.scatter(Mut,ST)\n",
    "plt.xlabel(\"Mu_T\")\n",
    "plt.ylabel(\"c*Tsum-2Zpps\")\n",
    "#plt.ylim([-1,1])\n",
    "plt.show()"
   ]
  },
  {
   "cell_type": "code",
   "execution_count": 76,
   "id": "97e57185",
   "metadata": {},
   "outputs": [],
   "source": [
    "D=np.zeros(len(Mut))\n",
    "\n",
    "for ev in range(len(Mut)):\n",
    "\n",
    "    D[ev]=Mut[ev]-ST[ev]"
   ]
  },
  {
   "cell_type": "code",
   "execution_count": 83,
   "id": "bd8c7067",
   "metadata": {},
   "outputs": [
    {
     "name": "stderr",
     "output_type": "stream",
     "text": [
      "No handles with labels found to put in legend.\n"
     ]
    },
    {
     "data": {
      "text/plain": [
       "[Text(0.5, 24.0, 'D'), Text(66.25, 0.5, 'number of entries')]"
      ]
     },
     "execution_count": 83,
     "metadata": {},
     "output_type": "execute_result"
    },
    {
     "data": {
      "image/png": "[encoded data removed]",
      "text/plain": [
       "<Figure size 720x360 with 1 Axes>"
      ]
     },
     "metadata": {
      "needs_background": "light"
     },
     "output_type": "display_data"
    }
   ],
   "source": [
    "f, ax = plt.subplots(figsize=(10,5))\n",
    "plt.hist(D, bins=np.linspace(-5,5,100),label='')\n",
    "hep.cms.label(llabel=\"Preliminary\", rlabel=\"Summer 2022\", ax=ax)\n",
    "ax.legend(); \n",
    "ax.set(xlabel='D', ylabel='number of entries')\n",
    "#plt.savefig('InvariantMassCorrBothSmearings.png')"
   ]
  },
  {
   "cell_type": "code",
   "execution_count": null,
   "id": "94d7f6b9",
   "metadata": {},
   "outputs": [],
   "source": [
    "#(tMt_sm[k]+tmt_sm[k])*c-2*23400"
   ]
  },
  {
   "cell_type": "code",
   "execution_count": null,
   "id": "bbc49fba",
   "metadata": {},
   "outputs": [],
   "source": [
    "#            t[k]=(genproton_t[i][k]+(23400-genproton_vz[i][k])/30) \n",
    "\n",
    "#        else: \n",
    "#            t[k]=(genproton_t[i][k]+(23400+genproton_vz[i][k])/30) "
   ]
  }
 ],
 "metadata": {
  "kernelspec": {
   "display_name": "Python 3",
   "language": "python",
   "name": "python3"
  },
  "language_info": {
   "codemirror_mode": {
    "name": "ipython",
    "version": 3
   },
   "file_extension": ".py",
   "mimetype": "text/x-python",
   "name": "python",
   "nbconvert_exporter": "python",
   "pygments_lexer": "ipython3",
   "version": "3.9.12"
  }
 },
 "nbformat": 4,
 "nbformat_minor": 5
}
