{
 "cells": [
  {
   "cell_type": "code",
   "execution_count": 1,
   "id": "705a6a3f",
   "metadata": {},
   "outputs": [],
   "source": [
    "#import uproot\n",
    "import uproot4\n",
    "from tqdm import tqdm"
   ]
  },
  {
   "cell_type": "code",
   "execution_count": 2,
   "id": "b8cfaf9e",
   "metadata": {},
   "outputs": [],
   "source": [
    "# relace next line with the path to your file\n",
    "#path='data'\n",
    "path='/eos/cms/store/group/phys_pps/Phase2/Delphes/PU200/ZToMuMu_M-120to200_TuneCP5_14TeV-powheg-pythia8/'\n",
    "filename=path+'ZToMuMu_M-120to200_TuneCP5_14TeV-powheg-pythia8_merge.root'"
   ]
  },
  {
   "cell_type": "code",
   "execution_count": 3,
   "id": "ec3eabc9",
   "metadata": {},
   "outputs": [],
   "source": [
    "#open the file, using uproot\n",
    "root_=uproot4.open( filename )"
   ]
  },
  {
   "cell_type": "code",
   "execution_count": null,
   "id": "1e89aedf",
   "metadata": {},
   "outputs": [],
   "source": [
    "\n",
    "\n"
   ]
  },
  {
   "cell_type": "code",
   "execution_count": 4,
   "id": "2e587527",
   "metadata": {},
   "outputs": [],
   "source": [
    "#use \"uproot4.concatenate\":\n",
    "#tree_=uproot4.concatenate([filename1+\":Delphes\", filename2+\":Delphes\"])"
   ]
  },
  {
   "cell_type": "code",
   "execution_count": 5,
   "id": "b530cb6c",
   "metadata": {},
   "outputs": [
    {
     "data": {
      "text/plain": [
       "['ProcessID0;1',\n",
       " 'ProcessID1;1',\n",
       " 'ProcessID2;1',\n",
       " 'ProcessID3;1',\n",
       " 'ProcessID4;1',\n",
       " 'Delphes;1']"
      ]
     },
     "execution_count": 5,
     "metadata": {},
     "output_type": "execute_result"
    }
   ],
   "source": [
    "root_.keys()"
   ]
  },
  {
   "cell_type": "code",
   "execution_count": 6,
   "id": "d2a2c3f4",
   "metadata": {},
   "outputs": [],
   "source": [
    "tree_ = root_[\"Delphes\"]"
   ]
  },
  {
   "cell_type": "code",
   "execution_count": 7,
   "id": "f4723b36",
   "metadata": {},
   "outputs": [],
   "source": [
    "vtx_size = tree_['Vertex_size'].array()"
   ]
  },
  {
   "cell_type": "code",
   "execution_count": 8,
   "id": "d4f56743",
   "metadata": {},
   "outputs": [
    {
     "data": {
      "text/plain": [
       "100000"
      ]
     },
     "execution_count": 8,
     "metadata": {},
     "output_type": "execute_result"
    }
   ],
   "source": [
    "len(vtx_size)"
   ]
  },
  {
   "cell_type": "code",
   "execution_count": 9,
   "id": "1a739923",
   "metadata": {},
   "outputs": [],
   "source": [
    "#variables_to_save=[tree_.keys()] # this will not work, due to vectors in the dataset\n",
    "#muons_df = tree_.arrays(['Muon_size','Muon.PT','Muon.Eta','Muon.Phi','Muon.T'], library=\"pd\")\n",
    "#genproton_df = tree_.arrays(['GenProton_size','GenProton.Pz','GenProton.Z','GenProton.IsPU'], library=\"pd\")\n",
    "#floats_df = tree_.arrays(['GenProton.T'], library=\"pd\")"
   ]
  },
  {
   "cell_type": "code",
   "execution_count": 10,
   "id": "d5fc599f",
   "metadata": {},
   "outputs": [],
   "source": [
    "import pandas as pd\n",
    "import numpy as np\n",
    "np.random.seed(19680801)"
   ]
  },
  {
   "cell_type": "code",
   "execution_count": 11,
   "id": "eb83533d",
   "metadata": {},
   "outputs": [],
   "source": [
    "n_events = len(vtx_size)"
   ]
  },
  {
   "cell_type": "code",
   "execution_count": 12,
   "id": "bdc6d327",
   "metadata": {},
   "outputs": [
    {
     "name": "stdout",
     "output_type": "stream",
     "text": [
      "for xi range of (0.009,0.197) proton pz is in range from 5623.10 to 6933.50 GeV\n",
      "5512.947999999999\n",
      "6938.820000000001\n"
     ]
    }
   ],
   "source": [
    "#xi acceptance from Table 4 on page 40 of https://cds.cern.ch/record/2750358/files/NOTE2020_008.pdf\n",
    "xi_min = 0.0095 # using the 234m station\n",
    "xi_max = 0.1967 # using the 196m station\n",
    "pz_min = (1-xi_max)*7000\n",
    "pz_max = (1-xi_min)*7000\n",
    "pz_min1 =(1-1.08*xi_max)*7000\n",
    "pz_max1 =(1-0.92*xi_min)*7000\n",
    "print('for xi range of (%2.3f,%2.3f) proton pz is in range from %2.2f to %2.2f GeV'%(xi_min,xi_max,pz_min,pz_max))\n",
    "print(pz_min1)\n",
    "print(pz_max1)"
   ]
  },
  {
   "cell_type": "code",
   "execution_count": null,
   "id": "b7f18f65",
   "metadata": {},
   "outputs": [],
   "source": []
  },
  {
   "cell_type": "code",
   "execution_count": null,
   "id": "315f6959",
   "metadata": {},
   "outputs": [],
   "source": []
  },
  {
   "cell_type": "code",
   "execution_count": 13,
   "id": "8c603c6c",
   "metadata": {
    "scrolled": true
   },
   "outputs": [],
   "source": [
    "#read protons only within the PPS acceptance\n",
    "protons = tree_.arrays(['GenProton.Pz','GenProton.Z','GenProton.IsPU','GenProton.T'],  cut=\"(abs(GenProton.Pz)>%g) & (abs(GenProton.Pz)<%g)\"%(pz_min,pz_max))"
   ]
  },
  {
   "cell_type": "code",
   "execution_count": 14,
   "id": "f611317a",
   "metadata": {
    "scrolled": true
   },
   "outputs": [
    {
     "name": "stdout",
     "output_type": "stream",
     "text": [
      "0.05\n",
      "[[1.68e-10, 4.44e-12, 1.23e-10, -1.07e-10, ... -3.18e-10, -9.12e-11, -1.35e-10]]\n"
     ]
    }
   ],
   "source": [
    "tr=(10**9)*50E-12\n",
    "trM=(10**9)*40E-12\n",
    "print(tr)\n",
    "print(protons['GenProton.T'])\n",
    "#print(pz)"
   ]
  },
  {
   "cell_type": "code",
   "execution_count": 15,
   "id": "68c1420c",
   "metadata": {},
   "outputs": [
    {
     "name": "stderr",
     "output_type": "stream",
     "text": [
      "100%|██████████| 100000/100000 [17:40<00:00, 94.33it/s]\n"
     ]
    }
   ],
   "source": [
    "N_protons=np.zeros(len(protons)).astype(int)\n",
    "genproton_pz=protons['GenProton.Pz']\n",
    "genproton_vz=protons['GenProton.Z']\n",
    "genproton_ispu=protons['GenProton.IsPU']\n",
    "genproton_t=(10**9)*protons['GenProton.T']\n",
    "genprotonpz=[]\n",
    "genprotonvz=[]\n",
    "genprotonispu=[]\n",
    "genprotont=[]\n",
    "genprotont_sm=[]\n",
    "genprotonxi=[]\n",
    "sig=[]\n",
    "\n",
    "\n",
    "for i in tqdm(range(len(genproton_pz))):\n",
    "    pz=genproton_pz[i]\n",
    "    xi=1-np.abs(pz)/7000\n",
    "    xi_smear=xi*(1+np.random.normal(0,0.02,len(xi)))\n",
    "    pz_smear=7000*(1-xi_smear)\n",
    "    t=np.zeros(len(pz))\n",
    "    DPPV=np.zeros(len(pz))\n",
    "    \n",
    "    \n",
    "    for k in range(len(pz)):\n",
    "    \n",
    "        if pz[k]>0:\n",
    "            t[k]=(genproton_t[i][k]+(23400-genproton_vz[i][k])/30) \n",
    "\n",
    "        else: \n",
    "            t[k]=(genproton_t[i][k]+(23400+genproton_vz[i][k])/30) \n",
    "\n",
    "            \n",
    "    t_smear=t+np.random.normal(0,tr,len(t))\n",
    "\n",
    "    lpz=len(pz)\n",
    "    Npr=0\n",
    "    for k in range(lpz):\n",
    "    \n",
    "        if (abs(pz_smear[k])>pz_min) and (abs(pz_smear[k])<pz_max):\n",
    "            sig.append(np.sign(pz[k]))\n",
    "            genprotonpz.append(pz_smear[k])\n",
    "            genprotonxi.append(xi_smear[k])\n",
    "            genprotonvz.append(genproton_vz[i][k])\n",
    "            genprotonispu.append(genproton_ispu[i][k])\n",
    "            genprotont.append(t[k])\n",
    "            genprotont_sm.append(t_smear[k])\n",
    "            Npr=Npr+1\n",
    "    N_protons[i]=Npr"
   ]
  },
  {
   "cell_type": "code",
   "execution_count": null,
   "id": "9d37c6ed",
   "metadata": {},
   "outputs": [],
   "source": []
  },
  {
   "cell_type": "code",
   "execution_count": null,
   "id": "7a57befe",
   "metadata": {
    "scrolled": true
   },
   "outputs": [],
   "source": []
  },
  {
   "cell_type": "code",
   "execution_count": 16,
   "id": "23dc3a4a",
   "metadata": {
    "scrolled": true
   },
   "outputs": [
    {
     "data": {
      "text/plain": [
       "array([ 8,  6, 12,  6, 11,  4, 11,  7,  9])"
      ]
     },
     "execution_count": 16,
     "metadata": {},
     "output_type": "execute_result"
    }
   ],
   "source": [
    "N_protons[0:9]"
   ]
  },
  {
   "cell_type": "code",
   "execution_count": 17,
   "id": "b2e28469",
   "metadata": {},
   "outputs": [
    {
     "name": "stdout",
     "output_type": "stream",
     "text": [
      "[6.83e+03, 6.45e+03, -6.73e+03, 6.91e+03, ... -5.8e+03, -6.88e+03, -5.78e+03]\n",
      "[6827.459285086828, 6440.865461636556, 6729.245739419915, 6904.519713685738, 5678.84453348998, 5811.186673881172, 6875.925721009516, 5752.657399936436]\n"
     ]
    }
   ],
   "source": [
    "print(genproton_pz[0])\n",
    "print(genprotonpz[0:N_protons[0]])"
   ]
  },
  {
   "cell_type": "code",
   "execution_count": 18,
   "id": "13de3e63",
   "metadata": {
    "scrolled": true
   },
   "outputs": [
    {
     "name": "stdout",
     "output_type": "stream",
     "text": [
      "[775.7398433696503, 781.4114265983403, 779.1790865748507, 778.5015669383621, 781.6259795687234, 781.2198411593607, 780.3335526265971, 781.6999519727245, 779.8554994938336, 779.8909713280779]\n",
      "[775.6993761299773, 781.3495571431494, 779.2720924019725, 778.4861509765026, 781.6651280962541, 781.2209173317184, 780.369335816018, 781.7700252980551, 779.8339469594953, 779.8661053532528]\n"
     ]
    }
   ],
   "source": [
    "print(genprotont[0:10])\n",
    "print(genprotont_sm[0:10])"
   ]
  },
  {
   "cell_type": "code",
   "execution_count": null,
   "id": "167fb71d",
   "metadata": {},
   "outputs": [],
   "source": []
  },
  {
   "cell_type": "code",
   "execution_count": 19,
   "id": "846275fb",
   "metadata": {},
   "outputs": [],
   "source": [
    "n_events = len(N_protons)\n",
    "Prneg=np.zeros(n_events)\n",
    "Prpos=np.zeros(n_events)\n",
    "NmbPairs=np.zeros(n_events)"
   ]
  },
  {
   "cell_type": "code",
   "execution_count": null,
   "id": "d6203911",
   "metadata": {},
   "outputs": [],
   "source": []
  },
  {
   "cell_type": "code",
   "execution_count": 20,
   "id": "9e91c674",
   "metadata": {},
   "outputs": [],
   "source": [
    "nprot=np.zeros(n_events)"
   ]
  },
  {
   "cell_type": "code",
   "execution_count": null,
   "id": "4b6aa531",
   "metadata": {},
   "outputs": [],
   "source": []
  },
  {
   "cell_type": "code",
   "execution_count": null,
   "id": "42e0dc2e",
   "metadata": {},
   "outputs": [],
   "source": []
  },
  {
   "cell_type": "code",
   "execution_count": null,
   "id": "622b8218",
   "metadata": {},
   "outputs": [],
   "source": [
    "Cnt=0\n",
    "for ev, nprotons in enumerate(N_protons):\n",
    "\n",
    "    for i in range(nprotons):\n",
    "        if (sig[Cnt+i]>0):\n",
    "            Prpos[ev]=Prpos[ev]+1\n",
    "            \n",
    "        else:\n",
    "            Prneg[ev]=Prneg[ev]+1\n",
    "\n",
    "        NmbPairs=Prpos*Prneg\n",
    "    Cnt=Cnt+nprotons"
   ]
  },
  {
   "cell_type": "code",
   "execution_count": null,
   "id": "45d10675",
   "metadata": {
    "scrolled": false
   },
   "outputs": [
    {
     "name": "stdout",
     "output_type": "stream",
     "text": [
      "[3. 3. 4. ... 7. 6. 4.]\n",
      "[5. 3. 8. ... 3. 4. 6.]\n",
      "[15.  9. 32. ... 21. 24. 24.]\n",
      "[15  9 32 ... 21 24 24]\n"
     ]
    }
   ],
   "source": [
    "print(Prpos)\n",
    "print(Prneg)\n",
    "print(NmbPairs)\n",
    "sum(NmbPairs)\n",
    "NPs = NmbPairs.astype(int)\n",
    "print(NPs)"
   ]
  },
  {
   "cell_type": "code",
   "execution_count": null,
   "id": "b80f7ae1",
   "metadata": {},
   "outputs": [],
   "source": []
  },
  {
   "cell_type": "code",
   "execution_count": 23,
   "id": "21febff1",
   "metadata": {},
   "outputs": [],
   "source": [
    "N_muons=tree_['Muon_size'].array()\n",
    "mu_pt=tree_['Muon.PT'].array()\n",
    "mu_eta=tree_['Muon.Eta'].array()\n",
    "mu_phi=tree_['Muon.Phi'].array()\n",
    "mu_T=tree_['Muon.T'].array()\n",
    "#mu_z=tree_['Vertex.Z'].array()\n",
    "\n",
    "N_Tmuons=tree_['MuonTight_size'].array()\n",
    "Tmu_pt=tree_['MuonTight.PT'].array()\n",
    "Tmu_eta=tree_['MuonTight.Eta'].array()\n",
    "Tmu_phi=tree_['MuonTight.Phi'].array()\n",
    "VT=(10**9)*tree_['Vertex.T'].array()\n",
    "Tmu_VT=VT+np.random.normal(0,trM,len(VT))\n",
    "Tmu_Vz=tree_['Vertex.Z'].array()"
   ]
  },
  {
   "cell_type": "code",
   "execution_count": null,
   "id": "e14eea90",
   "metadata": {},
   "outputs": [],
   "source": []
  },
  {
   "cell_type": "code",
   "execution_count": 24,
   "id": "69b93384",
   "metadata": {},
   "outputs": [],
   "source": [
    "yl=[]\n",
    "ylt=[]\n",
    "Tmu_T=[]\n",
    "Tmu_z=[]\n",
    "sumET=[]\n",
    "sumTPz=[]\n",
    "mll=[]\n",
    "mllt=[]\n",
    "TMu1_pt=[]\n",
    "TMu2_pt=[]\n",
    "ktm=np.zeros((len(N_Tmuons)))\n",
    "\n",
    "for ev, nmuons in enumerate(N_Tmuons):\n",
    "    Tmu1_pt=0; Tmu1_eta=0; Tmu1_phi=0; Tmu1_t=0; Tmu1_z=0\n",
    "    Tmu2_pt=0; Tmu2_eta=0; Tmu2_phi=0; Tmu2_t=0; Tmu2_z=0\n",
    "    for i in range(nmuons):\n",
    "        if Tmu_pt[ev][i]>Tmu1_pt:\n",
    "            Tmu2_pt=Tmu1_pt\n",
    "            Tmu2_eta=Tmu1_eta\n",
    "            Tmu2_phi=Tmu1_phi          \n",
    "            \n",
    "            \n",
    "            Tmu1_pt=Tmu_pt[ev][i]\n",
    "            Tmu1_eta=Tmu_eta[ev][i]\n",
    "            Tmu1_phi=Tmu_phi[ev][i]\n",
    "        elif Tmu_pt[ev][i]>Tmu2_pt:\n",
    "            Tmu2_pt=Tmu_pt[ev][i]\n",
    "            Tmu2_eta=Tmu_eta[ev][i]\n",
    "            Tmu2_phi=Tmu_phi[ev][i]\n",
    "\n",
    "    if (Tmu1_pt!=0) and (Tmu2_pt!=0) and (Prpos[ev]!=0) and (Prneg[ev]!=0):\n",
    "        TMu1_pt.append(Tmu1_pt)\n",
    "        TMu2_pt.append(Tmu2_pt)\n",
    "        # compute invariant mass of lepton pair\n",
    "        sumET.append(Tmu1_pt*np.cosh(Tmu1_eta)+Tmu2_pt*np.cosh(Tmu2_eta))\n",
    "        sumTPx=Tmu1_pt*np.cos(Tmu1_phi)+Tmu2_pt*np.cos(Tmu2_phi)\n",
    "        sumTPy=Tmu1_pt*np.sin(Tmu1_phi)+Tmu2_pt*np.sin(Tmu2_phi)\n",
    "        sumTPz.append(Tmu1_pt*np.sinh(Tmu1_eta)+Tmu2_pt*np.sinh(Tmu2_eta))\n",
    "            #Building the di lepton\n",
    "        dTmuP=np.sqrt(sumTPx**2 + sumTPy**2 + (Tmu1_pt*np.sinh(Tmu1_eta)+Tmu2_pt*np.sinh(Tmu2_eta))**2)\n",
    "\n",
    "        mllt2 = (Tmu1_pt*np.cosh(Tmu1_eta)+Tmu2_pt*np.cosh(Tmu2_eta))**2 - dTmuP**2  #- sumTPx**2 - sumTPy**2 - sumTPz**2\n",
    "        if(mllt2<0): mllt2=0\n",
    "        mllt.append(np.sqrt(mllt2))\n",
    "    #    ylt[ev]=Tmu1_eta+Tmu2_eta\n",
    "        Tmu_T.append(Tmu_VT[ev])\n",
    "        Tmu_z.append(Tmu_Vz[ev])\n",
    "\n",
    "        ylt.append(0.5*np.log(((Tmu1_pt*np.cosh(Tmu1_eta)+Tmu2_pt*np.cosh(Tmu2_eta))+(Tmu1_pt*np.sinh(Tmu1_eta)+Tmu2_pt*np.sinh(Tmu2_eta)))/((Tmu1_pt*np.cosh(Tmu1_eta)+Tmu2_pt*np.cosh(Tmu2_eta))-(Tmu1_pt*np.sinh(Tmu1_eta)+Tmu2_pt*np.sinh(Tmu2_eta)))))\n",
    "    else:\n",
    "        ktm[ev]=1"
   ]
  },
  {
   "cell_type": "code",
   "execution_count": null,
   "id": "62f8d542",
   "metadata": {},
   "outputs": [],
   "source": []
  },
  {
   "cell_type": "code",
   "execution_count": 25,
   "id": "5025394f",
   "metadata": {
    "scrolled": false
   },
   "outputs": [
    {
     "name": "stderr",
     "output_type": "stream",
     "text": [
      "100%|██████████| 100000/100000 [00:12<00:00, 8057.31it/s]"
     ]
    },
    {
     "name": "stdout",
     "output_type": "stream",
     "text": [
      "50812\n",
      "50812\n"
     ]
    },
    {
     "name": "stderr",
     "output_type": "stream",
     "text": [
      "\n"
     ]
    }
   ],
   "source": [
    "NP=[]\n",
    "tPairs = []\n",
    "t_smPairs = []\n",
    "zPairs = []\n",
    "xiPairs = []\n",
    "nevents=len(N_protons)\n",
    "Cnt=0\n",
    "kt=np.zeros(nevents)\n",
    "for ev in tqdm(range(nevents)):\n",
    "    nprotons=N_protons[ev]\n",
    "    x1=0; x2=0 ; z1=0; z2=0; t1=0; t2=0; t1sm=0; t2sm=0\n",
    "    zPair = []\n",
    "    t_Pair = []\n",
    "    t_smPair = []\n",
    "    xiPair = []\n",
    "\n",
    "    if (ktm[ev]==0) and (Prpos[ev]!=0) and (Prneg[ev]!=0):\n",
    "\n",
    "        for i in range(nprotons):\n",
    "            if (sig[Cnt+i]>0):\n",
    "                x1=genprotonxi[Cnt+i]\n",
    "                z1=genprotonvz[Cnt+i]\n",
    "                t1sm=genprotont_sm[Cnt+i]\n",
    "                t1=genprotont[Cnt+i]\n",
    "                #print(t1,genproton_t[ev][i],(23400-genproton_vz[ev][i])/30)\n",
    "                for n in range (i+1,nprotons):\n",
    "                    if (sig[Cnt+n]<0):\n",
    "                        x2=genprotonxi[Cnt+n]\n",
    "                        z2=genprotonvz[Cnt+n]\n",
    "                        t2sm=genprotont_sm[Cnt+n]\n",
    "                        t2=genprotont[Cnt+n]\n",
    "\n",
    "                        xiPs=np.array([x1,x2])\n",
    "                        xiPair.append(xiPs)\n",
    "                        zPs=np.array([z1,z2])\n",
    "                        zPair.append(zPs)\n",
    "                        tPsm=np.array([t1sm,t2sm])\n",
    "                        t_smPair.append(tPsm)\n",
    "                        tPs=np.array([t1,t2])\n",
    "                        t_Pair.append(tPs)\n",
    "                    #print(0.5*30*(tPs[1]-tPs[0]),Tmu_z[ev][0])    \n",
    "            elif (sig[Cnt+i]<0):\n",
    "                x2=genprotonxi[Cnt+i]\n",
    "                z2=genprotonvz[Cnt+i]\n",
    "                t2=genprotont[Cnt+i]\n",
    "                t2sm=genprotont_sm[Cnt+i]\n",
    "                for n in range (i+1,nprotons):\n",
    "                    if (sig[Cnt+n]>0):\n",
    "                        x1=genprotonxi[Cnt+n]\n",
    "                        z1=genprotonvz[Cnt+n]\n",
    "                        t1sm=genprotont_sm[Cnt+n]\n",
    "                        t1=genprotont[Cnt+n]\n",
    "\n",
    "                        xiPs=np.array([x1,x2])\n",
    "                        xiPair.append(xiPs)\n",
    "                        zPs=np.array([z1,z2])\n",
    "                        zPair.append(zPs)\n",
    "                        tPsm=np.array([t1sm,t2sm])\n",
    "                        t_smPair.append(tPsm)\n",
    "                        tPs=np.array([t1,t2])\n",
    "                        t_Pair.append(tPs)\n",
    "            else:\n",
    "                kt[ev]=1    #Discuss this part!!\n",
    "\n",
    "                    #print(0.5*30*(tPs[1]-tPs[0]),Tmu_z[ev][0])\n",
    "        t_smPairs.append(t_smPair)\n",
    "        tPairs.append(t_Pair)\n",
    "        zPairs.append(zPair)\n",
    "        xiPairs.append(xiPair)\n",
    "        NP.append(NPs[ev])\n",
    "        Cnt=Cnt+nprotons\n",
    "        \n",
    "    else:\n",
    "        Cnt=Cnt+nprotons\n",
    "\n",
    "nmevents=len(mllt)\n",
    "nevents=len(t_smPairs)\n",
    "print(nevents)\n",
    "print(nmevents)"
   ]
  },
  {
   "cell_type": "code",
   "execution_count": 26,
   "id": "c45d53da",
   "metadata": {
    "scrolled": true
   },
   "outputs": [
    {
     "data": {
      "text/plain": [
       "1240347"
      ]
     },
     "execution_count": 26,
     "metadata": {},
     "output_type": "execute_result"
    }
   ],
   "source": [
    "sum([len(x) for x in tPairs])"
   ]
  },
  {
   "cell_type": "code",
   "execution_count": 27,
   "id": "88a5bde7",
   "metadata": {},
   "outputs": [
    {
     "name": "stdout",
     "output_type": "stream",
     "text": [
      "50812\n"
     ]
    }
   ],
   "source": [
    "print(len(NP))"
   ]
  },
  {
   "cell_type": "code",
   "execution_count": 28,
   "id": "f7c6dfb5",
   "metadata": {},
   "outputs": [
    {
     "name": "stdout",
     "output_type": "stream",
     "text": [
      "100000\n",
      "50812\n"
     ]
    }
   ],
   "source": [
    "kk=0\n",
    "kkk=0\n",
    "for ev in range(len(ktm)):\n",
    "    if (ktm[ev]==0):\n",
    "        kkk=kkk+1\n",
    "    if (kt[ev]==0):\n",
    "        kk=kk+1\n",
    "print(kk)\n",
    "print(kkk)"
   ]
  },
  {
   "cell_type": "code",
   "execution_count": null,
   "id": "1d092806",
   "metadata": {},
   "outputs": [],
   "source": []
  },
  {
   "cell_type": "code",
   "execution_count": 29,
   "id": "4ead95ee",
   "metadata": {
    "scrolled": true
   },
   "outputs": [
    {
     "name": "stdout",
     "output_type": "stream",
     "text": [
      "100000\n"
     ]
    }
   ],
   "source": [
    "print(len(N_Tmuons))"
   ]
  },
  {
   "cell_type": "code",
   "execution_count": null,
   "id": "b6fee125",
   "metadata": {},
   "outputs": [],
   "source": []
  },
  {
   "cell_type": "code",
   "execution_count": 30,
   "id": "d3b638a6",
   "metadata": {
    "scrolled": false
   },
   "outputs": [
    {
     "name": "stdout",
     "output_type": "stream",
     "text": [
      "15\n",
      "15\n",
      "50812\n",
      "50812\n",
      "50812\n",
      "50812\n",
      "50812\n",
      "0.02464867355902465\n",
      "0.03867918008286933\n"
     ]
    }
   ],
   "source": [
    "print(len(xiPairs[0]))\n",
    "print(NP[0])\n",
    "print(len(NP))\n",
    "print(len(sumET))\n",
    "print(len(sumTPz))\n",
    "print(nevents)\n",
    "print(len(xiPairs))\n",
    "print(xiPairs[0][0][0])\n",
    "print(xiPairs[0][0][1])"
   ]
  },
  {
   "cell_type": "code",
   "execution_count": 31,
   "id": "bc0c5137",
   "metadata": {},
   "outputs": [
    {
     "name": "stdout",
     "output_type": "stream",
     "text": [
      "50812\n"
     ]
    }
   ],
   "source": [
    "prum=0\n",
    "for ev in range(nevents):\n",
    "    if (len(xiPairs[ev])==NP[ev]):\n",
    "        prum=prum+1\n",
    "        \n",
    "print(prum)"
   ]
  },
  {
   "cell_type": "code",
   "execution_count": 32,
   "id": "e9a78624",
   "metadata": {
    "scrolled": true
   },
   "outputs": [],
   "source": [
    "xiM=np.ones(nevents)\n",
    "xim=np.ones(nevents)\n",
    "yP=np.zeros(nevents)\n",
    "mpp=np.zeros(nevents)\n",
    "diff1=np.zeros(nevents)\n",
    "diff2=np.zeros(nevents)\n",
    "\n",
    "mppt=[]\n",
    "mppt_sm=[]\n",
    "diff1t=[]\n",
    "diff2t=[]\n",
    "diff1t_sm=[]\n",
    "diff2t_sm=[]\n",
    "\n",
    "\n",
    "for ev in range(nevents):\n",
    "\n",
    "    for i in range(NP[ev]):\n",
    "\n",
    "        if ((xiPairs[ev][i][0]-((sumET[ev]+sumTPz[ev])/14000))**2 + (xiPairs[ev][i][1]-((sumET[ev]-sumTPz[ev])/14000))**2) < ((xiM[ev]-((sumET[ev]+sumTPz[ev])/14000))**2 + (xim[ev]-((sumET[ev]-sumTPz[ev])/14000))**2):\n",
    "\n",
    "            xiM[ev]=xiPairs[ev][i][0]\n",
    "            xim[ev]=xiPairs[ev][i][1]\n",
    "            mpp[ev]=14000.*np.sqrt(xiPairs[ev][i][0]*xiPairs[ev][i][1])\n",
    "            yP[ev]=-0.5*np.log(xiM[ev]/xim[ev])\n",
    "            diff1[ev]=xiPairs[ev][i][0]-((sumET[ev]+sumTPz[ev])/14000)\n",
    "            diff2[ev]=xiPairs[ev][i][1]-((sumET[ev]-sumTPz[ev])/14000)\n"
   ]
  },
  {
   "cell_type": "code",
   "execution_count": 33,
   "id": "fcecf334",
   "metadata": {
    "scrolled": false
   },
   "outputs": [
    {
     "name": "stdout",
     "output_type": "stream",
     "text": [
      "[217.68461298 315.03242428 206.31125619 ... 438.93004886 179.09687409\n",
      " 239.80198564]\n",
      "[ 0.00286451  0.03368823 -0.0021984  ...  0.01764139  0.00508566\n",
      "  0.00996451]\n",
      "[0.00718913 0.00644448 0.00789935 ... 0.01943236 0.00026763 0.00453799]\n"
     ]
    }
   ],
   "source": [
    "print(mpp)\n",
    "print(diff1)\n",
    "print(diff2)"
   ]
  },
  {
   "cell_type": "code",
   "execution_count": 34,
   "id": "58f6d34b",
   "metadata": {
    "scrolled": true
   },
   "outputs": [
    {
     "data": {
      "image/png": "[encoded data removed]",
      "text/plain": [
       "<Figure size 432x288 with 1 Axes>"
      ]
     },
     "metadata": {
      "needs_background": "light"
     },
     "output_type": "display_data"
    }
   ],
   "source": [
    "import matplotlib.pyplot as plt\n",
    "import numpy as np\n",
    "\n",
    "# Fixing random state for reproducibility\n",
    "\n",
    "\n",
    "plt.scatter(mpp, mllt)\n",
    "plt.xlabel(\"mpp\")\n",
    "plt.ylabel(\"mllt\")\n",
    "plt.show()"
   ]
  },
  {
   "cell_type": "code",
   "execution_count": 35,
   "id": "4fb19b6b",
   "metadata": {},
   "outputs": [
    {
     "data": {
      "image/png": "[encoded data removed]",
      "text/plain": [
       "<Figure size 432x288 with 1 Axes>"
      ]
     },
     "metadata": {
      "needs_background": "light"
     },
     "output_type": "display_data"
    }
   ],
   "source": [
    "np.random.seed(19680801)\n",
    "\n",
    "plt.scatter(yP, ylt)\n",
    "plt.xlabel(\"yP\")\n",
    "plt.ylabel(\"yM\")\n",
    "plt.show()"
   ]
  },
  {
   "cell_type": "code",
   "execution_count": 36,
   "id": "eaceda54",
   "metadata": {},
   "outputs": [
    {
     "data": {
      "image/png": "[encoded data removed]",
      "text/plain": [
       "<Figure size 432x288 with 1 Axes>"
      ]
     },
     "metadata": {
      "needs_background": "light"
     },
     "output_type": "display_data"
    }
   ],
   "source": [
    "plt.hist2d(yP, ylt, bins=20)\n",
    "plt.show()"
   ]
  },
  {
   "cell_type": "code",
   "execution_count": 37,
   "id": "41abb821",
   "metadata": {},
   "outputs": [],
   "source": [
    "import matplotlib.pyplot as plt\n",
    "import mplhep as hep\n",
    "from matplotlib.colors import LogNorm"
   ]
  },
  {
   "cell_type": "code",
   "execution_count": 38,
   "id": "c34e2d6b",
   "metadata": {},
   "outputs": [
    {
     "data": {
      "text/plain": [
       "[Text(0.5, 24.0, 'DiffXi1'), Text(53.5, 0.5, 'number of entries')]"
      ]
     },
     "execution_count": 38,
     "metadata": {},
     "output_type": "execute_result"
    },
    {
     "data": {
      "image/png": "[encoded data removed]",
      "text/plain": [
       "<Figure size 720x360 with 1 Axes>"
      ]
     },
     "metadata": {
      "needs_background": "light"
     },
     "output_type": "display_data"
    }
   ],
   "source": [
    "#lets draw hisgorgam of number of muons:\n",
    "f, ax = plt.subplots(figsize=(10,5))\n",
    "plt.hist(diff1, bins=np.linspace(-0.1,0.1,100),label='DiffXi1')\n",
    "hep.cms.label(llabel=\"Preliminary\", rlabel=\"Summer 2021\", ax=ax)\n",
    "ax.legend(); \n",
    "ax.set(xlabel='DiffXi1', ylabel='number of entries')\n",
    "#plt.savefig('number_muons_signal.png')"
   ]
  },
  {
   "cell_type": "code",
   "execution_count": 39,
   "id": "880bf3f8",
   "metadata": {},
   "outputs": [
    {
     "data": {
      "text/plain": [
       "[Text(0.5, 24.0, 'DiffXi2'), Text(53.5, 0.5, 'number of entries')]"
      ]
     },
     "execution_count": 39,
     "metadata": {},
     "output_type": "execute_result"
    },
    {
     "data": {
      "image/png": "[encoded data removed]",
      "text/plain": [
       "<Figure size 720x360 with 1 Axes>"
      ]
     },
     "metadata": {
      "needs_background": "light"
     },
     "output_type": "display_data"
    }
   ],
   "source": [
    "#lets draw hisgorgam of number of muons:\n",
    "f, ax = plt.subplots(figsize=(10,5))\n",
    "plt.hist(diff2, bins=np.linspace(-0.1,0.1,100),label='DiffXi2')\n",
    "hep.cms.label(llabel=\"Preliminary\", rlabel=\"Summer 2021\", ax=ax)\n",
    "ax.legend(); \n",
    "ax.set(xlabel='DiffXi2', ylabel='number of entries')\n",
    "#plt.savefig('number_muons_signal.png')\n",
    "    "
   ]
  },
  {
   "cell_type": "code",
   "execution_count": 40,
   "id": "56e77238",
   "metadata": {},
   "outputs": [],
   "source": [
    "mppt=np.zeros(nevents)\n",
    "mppt_sm=np.zeros(nevents)\n",
    "diff1t=np.zeros(nevents)\n",
    "diff2t=np.zeros(nevents)\n",
    "diff1t_sm=np.zeros(nevents)\n",
    "diff2t_sm=np.zeros(nevents)\n",
    "\n",
    "xiMt=np.zeros(nevents)\n",
    "ximt=np.zeros(nevents)\n",
    "xiMt_sm=np.zeros(nevents)\n",
    "ximt_sm=np.zeros(nevents)\n",
    "tMt=np.zeros(nevents)\n",
    "tmt=np.zeros(nevents)\n",
    "tMt_sm=np.zeros(nevents)\n",
    "tmt_sm=np.zeros(nevents)\n",
    "difzT=np.zeros(nevents)-100\n",
    "difzT_sm=np.zeros(nevents)-100\n",
    "difzT1_sm=np.zeros(nevents)\n",
    "difzT2_sm=np.zeros(nevents)\n",
    "yPtsm=np.zeros(nevents)\n",
    "yPt=np.zeros(nevents)\n",
    "sumTs=np.zeros(nevents)"
   ]
  },
  {
   "cell_type": "code",
   "execution_count": 41,
   "id": "a3197a23",
   "metadata": {},
   "outputs": [],
   "source": [
    "sumTsnsm=np.zeros(nevents)"
   ]
  },
  {
   "cell_type": "code",
   "execution_count": 42,
   "id": "be8cfdde",
   "metadata": {
    "scrolled": false
   },
   "outputs": [
    {
     "name": "stderr",
     "output_type": "stream",
     "text": [
      "100%|██████████| 50812/50812 [02:02<00:00, 413.31it/s]\n"
     ]
    }
   ],
   "source": [
    "NumDZT=0\n",
    "c=30\n",
    "\n",
    "for k in tqdm(range(nevents)):\n",
    "    #print(k)\n",
    "    if len(xiPairs[k])>0:\n",
    "        xiMt[k]=xiPairs[k][0][0]\n",
    "        ximt[k]=xiPairs[k][0][1]\n",
    "        tMt[k]=tPairs[k][0][0]\n",
    "        tmt[k]=tPairs[k][0][1]\n",
    "        mppt[k]=14000.*np.sqrt(xiPairs[k][0][0]*xiPairs[k][0][1])\n",
    "        diff1t[k]=xiPairs[k][0][0]-((sumET[k]+sumTPz[k])/14000)\n",
    "        diff2t[k]=xiPairs[k][0][1]-((sumET[k]-sumTPz[k])/14000)\n",
    "        difzT[k]=Tmu_z[k][0]-0.5*c*(tPairs[k][0][1]-tPairs[k][0][0])\n",
    "        yPt[k]=-0.5*np.log(xiMt[k]/ximt[k])\n",
    "        sumTsnsm[k]=(tMt[k]+tmt[k])*c-2*23400\n",
    "        Dzt=[]\n",
    "        for i in range (NP[k]):\n",
    "            Dzt=((Tmu_z[k][0]-0.5*c*(tPairs[k][i][1]-tPairs[k][i][0])))\n",
    "            #print(i,Tmu_z[k][0],0.5*c*(tPairs[k][i][1]-tPairs[k][i][0]))\n",
    "            if Dzt**2 < (Tmu_z[k][0]-0.5*c*(tmt[k]-tMt[k]))**2:\n",
    "                #print(k,i,Tmu_z[k][0],0.5*c*(tPairs[k][i][1]-tPairs[k][i][0]))\n",
    "                xiMt[k]=xiPairs[k][i][0]\n",
    "                ximt[k]=xiPairs[k][i][1]\n",
    "                tMt[k]=tPairs[k][i][0]\n",
    "                tmt[k]=tPairs[k][i][1]\n",
    "                mppt[k]=14000.*np.sqrt(xiPairs[k][i][0]*xiPairs[k][i][1])\n",
    "                diff1t[k]=xiPairs[k][i][0]-((sumET[k]+sumTPz[k])/14000)\n",
    "                diff2t[k]=xiPairs[k][i][1]-((sumET[k]-sumTPz[k])/14000)\n",
    "                difzT[k]=Tmu_z[k][0]-0.5*c*(tPairs[k][i][1]-tPairs[k][i][0])\n",
    "                yPt[k]=-0.5*np.log(xiMt[k]/ximt[k])\n",
    "                sumTsnsm[k]=(tMt[k]+tmt[k])*c-2*23400\n",
    "                #print(k,Tmu_z[k][0])\n",
    "                \n",
    "    if difzT[k]==0:\n",
    "        NumDZT=NumDZT+1\n",
    "                #print(i,0.5*c*(tPairs[k][i][1]-tPairs[k][i][0]))"
   ]
  },
  {
   "cell_type": "code",
   "execution_count": null,
   "id": "3937f185",
   "metadata": {},
   "outputs": [],
   "source": []
  },
  {
   "cell_type": "code",
   "execution_count": null,
   "id": "8206c84b",
   "metadata": {},
   "outputs": [],
   "source": []
  },
  {
   "cell_type": "code",
   "execution_count": 43,
   "id": "3b6d6665",
   "metadata": {},
   "outputs": [
    {
     "name": "stderr",
     "output_type": "stream",
     "text": [
      "100%|██████████| 50812/50812 [02:02<00:00, 413.81it/s]\n"
     ]
    }
   ],
   "source": [
    "NumDZT_sm=0\n",
    "NumST_sm=0\n",
    "c=30\n",
    "\n",
    "for k in tqdm(range(nevents)):\n",
    "    #print(k)\n",
    "    if len(xiPairs[k])>0:\n",
    "        xiMt_sm[k]=xiPairs[k][0][0]\n",
    "        ximt_sm[k]=xiPairs[k][0][1]        \n",
    "        tMt_sm[k]=t_smPairs[k][0][0]\n",
    "        tmt_sm[k]=t_smPairs[k][0][1]\n",
    "        mppt_sm[k]=14000.*np.sqrt(xiPairs[k][0][0]*xiPairs[k][0][1])\n",
    "        diff1t_sm[k]=xiPairs[k][0][0]-((sumET[k]+sumTPz[k])/14000)\n",
    "        diff2t_sm[k]=xiPairs[k][0][1]-((sumET[k]-sumTPz[k])/14000)\n",
    "        difzT_sm[k]=Tmu_z[k][0]-0.5*c*(t_smPairs[k][0][1]-t_smPairs[k][0][0])   \n",
    "        Dzt=[]\n",
    "        yPtsm[k]=-0.5*np.log(xiMt_sm[k]/ximt_sm[k])        \n",
    "        sumTs[k]=(tMt_sm[k]+tmt_sm[k])*c-2*23400\n",
    "        \n",
    "        for i in range (NP[k]):\n",
    "            Dzt=((Tmu_z[k][0]-0.5*c*(t_smPairs[k][i][1]-t_smPairs[k][i][0])))\n",
    "            #print(i,Tmu_z[k][0],0.5*c*(tPairs[k][i][1]-tPairs[k][i][0]))\n",
    "            if Dzt**2 < (Tmu_z[k][0]-0.5*c*(tmt_sm[k]-tMt_sm[k]))**2:\n",
    "                #print(k,i,Tmu_z[k][0],0.5*c*(tPairs[k][i][1]-tPairs[k][i][0]))\n",
    "                xiMt_sm[k]=xiPairs[k][i][0]\n",
    "                ximt_sm[k]=xiPairs[k][i][1]\n",
    "                tMt_sm[k]=t_smPairs[k][i][0]\n",
    "                tmt_sm[k]=t_smPairs[k][i][1]\n",
    "                mppt_sm[k]=14000.*np.sqrt(xiPairs[k][i][0]*xiPairs[k][i][1])\n",
    "                diff1t_sm[k]=xiPairs[k][i][0]-((sumET[k]+sumTPz[k])/14000)\n",
    "                diff2t_sm[k]=xiPairs[k][i][1]-((sumET[k]-sumTPz[k])/14000)\n",
    "                \n",
    "                yPtsm[k]=-0.5*np.log(xiMt_sm[k]/ximt_sm[k])\n",
    "                \n",
    "                sumTs[k]=(tMt_sm[k]+tmt_sm[k])*c-2*23400\n",
    "#                difzT1_sm[k]=Tmu_T[k][0]-(t_smPairs[k][i][0]-(23400-Tmu_z[k][0])/c)\n",
    "#                difzT2_sm[k]=Tmu_T[k][0]-(t_smPairs[k][i][1]-(23400-Tmu_z[k][0])/c)                \n",
    "                difzT_sm[k]=Tmu_z[k][0]-0.5*c*(t_smPairs[k][i][1]-t_smPairs[k][i][0])\n",
    "                #print(k,Tmu_z[k][0])\n",
    "                \n",
    "    if difzT_sm[k]==0:\n",
    "        NumDZT_sm=NumDZT_sm+1\n",
    "        \n",
    "    if sumTs[k]==0:\n",
    "        NumST_sm=NumST_sm+1\n",
    "                #print(i,0.5*c*(tPairs[k][i][1]-tPairs[k][i][0]))"
   ]
  },
  {
   "cell_type": "code",
   "execution_count": null,
   "id": "0b93bfca",
   "metadata": {},
   "outputs": [],
   "source": []
  },
  {
   "cell_type": "code",
   "execution_count": null,
   "id": "a4c620f8",
   "metadata": {
    "scrolled": false
   },
   "outputs": [],
   "source": []
  },
  {
   "cell_type": "code",
   "execution_count": 44,
   "id": "a45e3b7d",
   "metadata": {},
   "outputs": [
    {
     "name": "stdout",
     "output_type": "stream",
     "text": [
      "0\n",
      "0\n",
      "0\n"
     ]
    }
   ],
   "source": [
    "len(xiMt)\n",
    "print(NumDZT)\n",
    "print(NumDZT_sm)\n",
    "print(NumST_sm)"
   ]
  },
  {
   "cell_type": "code",
   "execution_count": null,
   "id": "f8e6c169",
   "metadata": {},
   "outputs": [],
   "source": []
  },
  {
   "cell_type": "code",
   "execution_count": 45,
   "id": "80a90125",
   "metadata": {
    "scrolled": false
   },
   "outputs": [
    {
     "data": {
      "text/plain": [
       "[Text(0.5, 24.0, 'DiffzT'), Text(53.5, 0.5, 'number of entries')]"
      ]
     },
     "execution_count": 45,
     "metadata": {},
     "output_type": "execute_result"
    },
    {
     "data": {
      "image/png": "[encoded data removed]",
      "text/plain": [
       "<Figure size 720x360 with 1 Axes>"
      ]
     },
     "metadata": {
      "needs_background": "light"
     },
     "output_type": "display_data"
    }
   ],
   "source": [
    "#lets draw hisgorgam of number of muons:\n",
    "f, ax = plt.subplots(figsize=(10,5))\n",
    "plt.hist(difzT, bins=np.linspace(-10,10,100),label='DiffzT')\n",
    "hep.cms.label(llabel=\"Preliminary\", rlabel=\"Summer 2021\", ax=ax)\n",
    "ax.legend(); \n",
    "ax.set(xlabel='DiffzT', ylabel='number of entries')\n",
    "#plt.savefig('VtxZ-TimeDiff XiSmear.png')"
   ]
  },
  {
   "cell_type": "code",
   "execution_count": 46,
   "id": "45b2c84c",
   "metadata": {
    "scrolled": false
   },
   "outputs": [
    {
     "data": {
      "text/plain": [
       "[Text(0.5, 24.0, 'DiffzT_tsmear'), Text(53.5, 0.5, 'number of entries')]"
      ]
     },
     "execution_count": 46,
     "metadata": {},
     "output_type": "execute_result"
    },
    {
     "data": {
      "image/png": "[encoded data removed]",
      "text/plain": [
       "<Figure size 720x360 with 1 Axes>"
      ]
     },
     "metadata": {
      "needs_background": "light"
     },
     "output_type": "display_data"
    }
   ],
   "source": [
    "#lets draw hisgorgam of number of muons:\n",
    "f, ax = plt.subplots(figsize=(10,5))\n",
    "plt.hist(difzT_sm, bins=np.linspace(-10,10,100),label='DiffzT_tsmear')\n",
    "hep.cms.label(llabel=\"Preliminary\", rlabel=\"Summer 2022\", ax=ax)\n",
    "ax.legend(); \n",
    "ax.set(xlabel='DiffzT_tsmear', ylabel='number of entries')\n",
    "#plt.savefig('VtxZ-TimeDiff Xi&TSmear.png')"
   ]
  },
  {
   "cell_type": "code",
   "execution_count": null,
   "id": "c124abb6",
   "metadata": {},
   "outputs": [],
   "source": []
  },
  {
   "cell_type": "code",
   "execution_count": null,
   "id": "253bb63d",
   "metadata": {},
   "outputs": [],
   "source": []
  },
  {
   "cell_type": "code",
   "execution_count": null,
   "id": "3f8ec8f1",
   "metadata": {},
   "outputs": [],
   "source": []
  },
  {
   "cell_type": "code",
   "execution_count": 47,
   "id": "e1a7cb5f",
   "metadata": {
    "scrolled": false
   },
   "outputs": [
    {
     "data": {
      "image/png": "[encoded data removed]",
      "text/plain": [
       "<Figure size 432x288 with 1 Axes>"
      ]
     },
     "metadata": {
      "needs_background": "light"
     },
     "output_type": "display_data"
    }
   ],
   "source": [
    "import matplotlib.pyplot as plt\n",
    "import numpy as np\n",
    "\n",
    "# Fixing random state for reproducibility\n",
    "np.random.seed(19680801)\n",
    "\n",
    "plt.scatter(mppt, mllt)\n",
    "plt.xlabel(\"mppt\")\n",
    "plt.ylabel(\"mllt\")\n",
    "plt.show()"
   ]
  },
  {
   "cell_type": "code",
   "execution_count": 48,
   "id": "0a9ccee2",
   "metadata": {},
   "outputs": [
    {
     "data": {
      "image/png": "[encoded data removed]",
      "text/plain": [
       "<Figure size 432x288 with 1 Axes>"
      ]
     },
     "metadata": {
      "needs_background": "light"
     },
     "output_type": "display_data"
    }
   ],
   "source": [
    "import matplotlib.pyplot as plt\n",
    "import numpy as np\n",
    "\n",
    "# Fixing random state for reproducibility\n",
    "np.random.seed(19680801)\n",
    "\n",
    "plt.scatter(mppt_sm, mllt)\n",
    "plt.xlabel(\"mppt_sm\")\n",
    "plt.ylabel(\"mllt\")\n",
    "plt.show()"
   ]
  },
  {
   "cell_type": "code",
   "execution_count": 49,
   "id": "bac10d91",
   "metadata": {},
   "outputs": [
    {
     "data": {
      "image/png": "[encoded data removed]",
      "text/plain": [
       "<Figure size 432x288 with 1 Axes>"
      ]
     },
     "metadata": {
      "needs_background": "light"
     },
     "output_type": "display_data"
    }
   ],
   "source": [
    "# Fixing random state for reproducibility\n",
    "np.random.seed(19680801)\n",
    "\n",
    "plt.scatter(yPtsm, ylt)\n",
    "plt.xlabel(\"yPsm\")\n",
    "plt.ylabel(\"ylt\")\n",
    "plt.show()"
   ]
  },
  {
   "cell_type": "code",
   "execution_count": 50,
   "id": "7709026e",
   "metadata": {},
   "outputs": [
    {
     "data": {
      "image/png": "[encoded data removed]",
      "text/plain": [
       "<Figure size 432x288 with 1 Axes>"
      ]
     },
     "metadata": {
      "needs_background": "light"
     },
     "output_type": "display_data"
    }
   ],
   "source": [
    "plt.hist2d(yPtsm, ylt, bins=20)\n",
    "plt.show()"
   ]
  },
  {
   "cell_type": "code",
   "execution_count": 51,
   "id": "12632582",
   "metadata": {},
   "outputs": [
    {
     "name": "stdout",
     "output_type": "stream",
     "text": [
      "[0.01364004 0.04771511 0.01914066 ... 0.04364642 0.01099323 0.01979684]\n",
      "[0.0177249  0.01061203 0.01134574 ... 0.02252091 0.01488657 0.01482019]\n",
      "[0.07987636 0.18756065 0.01914066 ... 0.04594316 0.01290134 0.01979684]\n",
      "[0.03867918 0.04246001 0.14034829 ... 0.06322182 0.01488657 0.09945069]\n"
     ]
    }
   ],
   "source": [
    "print(xiM)\n",
    "print(xim)\n",
    "print(xiMt)\n",
    "print(ximt)"
   ]
  },
  {
   "cell_type": "code",
   "execution_count": 52,
   "id": "037d71ba",
   "metadata": {},
   "outputs": [
    {
     "name": "stdout",
     "output_type": "stream",
     "text": [
      "50812\n",
      "50812\n"
     ]
    }
   ],
   "source": [
    "print(len(xiM))\n",
    "print(len(xiMt))"
   ]
  },
  {
   "cell_type": "code",
   "execution_count": 53,
   "id": "b0944cbd",
   "metadata": {},
   "outputs": [],
   "source": [
    "XIM=np.zeros(nevents)\n",
    "XIm=np.zeros(nevents)\n",
    "TMt=np.zeros(nevents)\n",
    "Tmt=np.zeros(nevents)\n",
    "\n",
    "numnz=0\n",
    "XIMnsm=np.zeros(nevents)\n",
    "XImnsm=np.zeros(nevents)\n",
    "numnznsm=0"
   ]
  },
  {
   "cell_type": "code",
   "execution_count": 54,
   "id": "58f186c3",
   "metadata": {},
   "outputs": [],
   "source": [
    "TMtnsm=np.zeros(nevents)\n",
    "Tmtnsm=np.zeros(nevents)"
   ]
  },
  {
   "cell_type": "code",
   "execution_count": 55,
   "id": "ccc4e835",
   "metadata": {},
   "outputs": [
    {
     "name": "stderr",
     "output_type": "stream",
     "text": [
      "100%|██████████| 50812/50812 [00:00<00:00, 709497.46it/s]\n"
     ]
    }
   ],
   "source": [
    "for i in tqdm(range(nevents)):\n",
    "    #print(k)\n",
    "    if xiM[i]==xiMt_sm[i] and xim[i]==ximt_sm[i]:\n",
    "        XIM[i]=xiM[i]\n",
    "        XIm[i]=xim[i]\n",
    "        TMt[i]=tMt_sm[i]\n",
    "        Tmt[i]=tmt_sm[i]\n",
    "        numnz=numnz+1"
   ]
  },
  {
   "cell_type": "code",
   "execution_count": 56,
   "id": "0c6867d4",
   "metadata": {},
   "outputs": [
    {
     "name": "stderr",
     "output_type": "stream",
     "text": [
      "100%|██████████| 50812/50812 [00:00<00:00, 1638497.24it/s]\n"
     ]
    }
   ],
   "source": [
    "for i in tqdm(range(nevents)):\n",
    "    #print(k)\n",
    "    if xiM[i]==xiMt[i] and xim[i]==ximt[i]:\n",
    "        XIMnsm[i]=xiM[i]\n",
    "        XImnsm[i]=xim[i]\n",
    "        TMtnsm[i]=tMt[i]\n",
    "        Tmtnsm[i]=tmt[i]\n",
    "        numnznsm=numnznsm+1"
   ]
  },
  {
   "cell_type": "code",
   "execution_count": 57,
   "id": "21ce837b",
   "metadata": {},
   "outputs": [
    {
     "name": "stdout",
     "output_type": "stream",
     "text": [
      "[0. 0. 0. ... 0. 0. 0.]\n",
      "3641\n",
      "[0. 0. 0. ... 0. 0. 0.]\n",
      "3617\n"
     ]
    }
   ],
   "source": [
    "print(XIM)\n",
    "print(numnz)\n",
    "print(XIMnsm)\n",
    "print(numnznsm)"
   ]
  },
  {
   "cell_type": "code",
   "execution_count": 58,
   "id": "389a3fc5",
   "metadata": {},
   "outputs": [
    {
     "name": "stdout",
     "output_type": "stream",
     "text": [
      "0.3641\n",
      "0.3617\n"
     ]
    }
   ],
   "source": [
    "MPP=[]\n",
    "MLL=[]\n",
    "M=[]\n",
    "YPP=[]\n",
    "YLL=[]\n",
    "Y=[]\n",
    "CTDif=[]\n",
    "Muz=[]\n",
    "Mut=[]\n",
    "ST=[]\n",
    "\n",
    "for i in range (nevents):\n",
    "    if (XIM[i]!=0) and (TMu2_pt[i]>0):\n",
    "        MPP.append(14000.*np.sqrt(XIM[i]*XIm[i]))\n",
    "        MLL.append(mllt[i])\n",
    "        YPP.append(0.5*np.log(XIM[i]/XIm[i]))\n",
    "        YLL.append(ylt[i])\n",
    "        CTDif.append(0.5*c*(TMt[i]-Tmt[i]))\n",
    "        Muz.append(Tmu_z[i][0])\n",
    "        Mut.append(Tmu_T[i][0])\n",
    "        ST.append((0.5*sumTs[i])/c)\n",
    "    \n",
    "print(len(MPP)/10000)\n",
    "for i in range (len(MPP)):\n",
    "    M.append((MPP[i]-MLL[i])/(MPP[i]+MLL[i]))\n",
    "    Y.append((YPP[i]-YLL[i])) #/(YPP[i]+YLL[i]))\n",
    "\n",
    "\n",
    "MPPnsm=[]\n",
    "MLLnsm=[]\n",
    "Mnsm=[]\n",
    "YPPnsm=[]\n",
    "YLLnsm=[]\n",
    "Ynsm=[]\n",
    "CTDifnsm=[]\n",
    "Muznsm=[]\n",
    "Mutnsm=[]\n",
    "STnsm=[]\n",
    "for i in range (nevents):\n",
    "    if (XIMnsm[i]!=0) and (TMu2_pt[i]>0):\n",
    "        MPPnsm.append(14000.*np.sqrt(XIMnsm[i]*XImnsm[i]))\n",
    "        MLLnsm.append(mllt[i])\n",
    "        CTDifnsm.append(0.5*c*(TMtnsm[i]-Tmtnsm[i]))\n",
    "        Muznsm.append(Tmu_z[i][0])\n",
    "        Mutnsm.append(Tmu_T[i][0])\n",
    "        STnsm.append((0.5*sumTsnsm[i])/c)\n",
    "print(len(MPPnsm)/10000)\n",
    "for i in range (len(MPPnsm)):\n",
    "    Mnsm.append((MPPnsm[i]-MLLnsm[i])/(MPPnsm[i]+MLLnsm[i]))\n",
    "\n"
   ]
  },
  {
   "cell_type": "code",
   "execution_count": 59,
   "id": "efcec85e",
   "metadata": {
    "scrolled": true
   },
   "outputs": [
    {
     "name": "stdout",
     "output_type": "stream",
     "text": [
      "[ 1.86494864e+01 -8.75415244e+01  3.27716885e+01 -1.59512290e+01\n",
      "  1.10459218e+02  3.97121174e-01  3.18248997e+01 -3.22973163e+01\n",
      "  8.02411206e+01 -2.87028001e+01 -5.37515744e+01 -3.62966714e+01\n",
      " -2.70776050e+01 -3.06218951e+01 -9.17059787e+01 -7.24394556e+01\n",
      "  5.91516434e+01  1.55558915e+02  4.65074921e+00  6.19720278e+01\n",
      "  8.60293650e+00 -9.78241120e+01 -7.92823209e+01  5.17958921e+01\n",
      " -3.35909993e+01 -5.19896865e+01  2.94562433e+01 -9.82536646e+01\n",
      "  1.05729822e+02  4.77943383e+01 -3.51345121e+01 -4.75374488e+01\n",
      "  6.49797458e+01 -2.34539962e+01 -4.59176325e+01 -8.05874359e+01\n",
      " -8.22564237e+01 -2.57247347e+01 -7.30458653e+01  8.75059498e+01\n",
      " -1.34436861e+02 -5.40995588e+01  1.01326892e+02 -7.87755219e+01\n",
      " -6.58868730e+01  4.28526766e+01  1.39335568e+02 -7.76929307e+01\n",
      " -1.29658528e+02 -6.60750704e+01 -8.28738089e+01 -1.08861821e+02\n",
      "  6.04689228e+01  6.22367465e+01 -2.83120200e+01 -2.96402253e+01\n",
      " -1.48387195e+00  6.80440457e+01  9.17107622e+00 -7.67750673e+01\n",
      " -1.78655170e+01  5.99835282e+01 -1.20908418e+02 -9.83071637e+01\n",
      "  6.22970573e+01 -8.44883028e+01 -1.04405569e+02 -1.20725198e+01\n",
      "  1.18604123e+01  4.24216167e+01  1.18496165e+01  6.66177879e+01\n",
      " -4.61758645e+01  1.71200608e+02 -3.93016362e+01  5.54431373e+01\n",
      "  1.08656680e+02 -3.93288936e+00 -7.89375625e+01  5.62753420e+01\n",
      "  7.96240045e-01  3.84062431e+00 -3.30519460e+01 -1.61016553e+02\n",
      "  2.00602968e+00 -1.91906293e+00  5.99640524e+01  2.99984448e+01\n",
      " -8.68051464e+01 -2.72631994e+01 -8.87468882e+01  4.88723167e+01\n",
      "  9.44423510e+01 -7.62539775e+01  4.37929776e+01  3.24251936e-01\n",
      " -6.24835279e+01  1.20331408e+02  8.84643612e+00  1.67562185e+01\n",
      " -3.58340703e+01 -7.51886590e+00  7.65609120e+01  7.26044526e+01\n",
      "  6.18287987e+00 -3.99536651e+01 -1.56464385e+00  7.09207181e+01\n",
      "  1.07086333e+02 -1.85307456e+02 -4.46072959e+01  5.80871775e+01\n",
      "  1.06182921e+02  5.97437005e+01  3.22719639e+01  1.12744029e+02\n",
      "  1.44391368e+01  8.86241397e+00 -1.58859566e+01  1.13503779e+01\n",
      " -1.64628173e+01  4.30005791e+01  6.38273268e+01  9.57066545e+01\n",
      " -6.52629575e+01  2.50181147e+01 -2.69966946e+01  9.48497042e+01\n",
      " -9.83672042e+01  2.05061323e+01  8.75134072e+00  2.07549961e+01\n",
      " -4.33501068e+01 -1.15986054e+02  4.93545287e+01  1.75674431e+01\n",
      " -2.56543943e+01  1.56698875e+01  3.45807484e+00  1.30455884e+01\n",
      " -1.20082634e+01 -3.19983469e+01 -2.35500223e+01 -1.40950315e+02\n",
      " -2.37346072e+01 -3.80155775e+01 -6.23095073e+01  6.80807426e+01\n",
      "  2.97276533e+01  7.32330721e+01 -2.60778283e+01  2.98765277e+01\n",
      " -1.24938667e+02  6.80603853e+00  2.70993462e+01  1.10366101e+02\n",
      " -1.22936174e+01 -6.17703176e+01  1.59097061e+02  1.03817640e+01\n",
      "  4.33219071e+01 -9.71275686e+01 -5.80668587e+01 -5.13998685e+01\n",
      "  7.46482392e+01  8.44199040e+01  4.30159661e+01 -2.30782625e+01\n",
      " -3.48712932e+00  1.04243747e+01  3.85732390e+01 -7.99724218e+01\n",
      " -5.81349897e+01 -5.11892290e+01 -1.02947525e+01  1.17528189e+02\n",
      " -1.63138888e+02  2.46589398e+01 -6.87521026e+01  6.54849057e+01\n",
      "  2.52498433e+01 -6.35231688e+01 -5.67121683e+00 -6.24125238e+01\n",
      " -2.15941393e+01  3.79594991e+01  2.35660472e+02 -2.46987449e+01\n",
      " -5.40925866e+01 -7.13752502e+01  1.53024555e+02 -9.40301611e+01\n",
      " -1.62507302e+01  3.84440342e+01 -7.36369731e+01  1.40800102e+01\n",
      " -1.37459183e+01  4.50488866e+01  6.69321299e+01 -6.70908740e+01\n",
      "  7.51403777e+01  9.35202532e+01 -1.20483093e+02 -1.22073080e+02\n",
      "  5.33259187e+01  4.05713186e+01 -2.74339402e+01 -6.32865524e+01\n",
      " -1.08903796e+02  2.43628906e+01 -4.30747952e+01  8.43282163e+00\n",
      " -7.10526102e+00 -1.90353707e+02  1.87047488e+01  4.18466925e+01\n",
      " -4.27981448e+01  5.23162405e+01  4.57819015e+01 -1.13064413e+02\n",
      " -1.40908951e+02  6.59516352e+01 -1.20283777e+02 -6.80062961e+01\n",
      "  5.39627006e+01 -2.19287070e+01 -1.75336792e+02  1.09017828e+01\n",
      "  5.86907630e+01 -1.10360034e+02 -7.33569998e+01  1.23399056e+01\n",
      "  9.22439481e+01 -2.01816383e+01 -4.56032711e+01 -4.37146263e+01\n",
      " -1.09660562e+02 -5.62532654e+01 -3.64521545e+01 -8.00086727e+01\n",
      " -5.36454857e+01  1.02962322e+00  1.06650106e+02 -2.72875405e+00\n",
      " -1.82673041e+00 -1.72978756e+01  1.04781585e+02  2.76879439e+00\n",
      "  8.12403927e+00 -8.53121136e+01  1.50567191e+01 -2.17523003e+01\n",
      " -6.28711411e+01  6.64375484e+01  1.21581509e+02  5.37800037e+01\n",
      " -5.60869319e+01  2.71627810e+00 -3.29295524e+01 -1.22137664e+00\n",
      " -9.07653799e+01  9.36895731e+01 -1.34636309e+02  6.59237796e+01\n",
      " -4.96289464e+01 -3.05168836e+01 -4.48084715e+01 -4.00476660e+01\n",
      "  6.37314852e+01 -1.72239065e+01  4.38597586e+01 -1.01795691e+02\n",
      " -5.42828115e+00  6.61030017e+00 -1.02186822e+02  6.94531499e+01\n",
      " -1.38874924e+01 -3.89936764e+01  8.85462511e+01  5.78175868e+01\n",
      "  4.22135421e+01  1.25507454e+02  4.92181090e+01  3.16579622e+01\n",
      " -1.13125595e+01  6.21558720e+01 -7.06383315e+00  2.80152321e+01\n",
      "  9.89525495e+01  4.98103006e+01  2.11228455e+01  3.72308086e+01\n",
      " -7.19259243e+01  5.95428938e+01  1.81008762e+01 -3.62901857e+01\n",
      "  7.99902301e+01  2.84966885e+01 -6.96083479e+01  1.68041740e+01\n",
      "  2.37471445e+01 -6.23250047e+01 -9.52074421e+01 -5.84974103e+01\n",
      "  1.11779076e+02  4.39161549e+01 -6.86846897e+01 -1.55999590e+01\n",
      "  3.33029592e+01 -1.49024679e+01 -1.33737534e+02  9.93695394e+01\n",
      "  9.47630211e+00  1.46780382e+02 -1.21905742e+02 -3.24668359e+01\n",
      " -3.55925552e+01 -4.86786630e-01 -1.80288395e+02  6.42804435e+01\n",
      " -1.06463544e+02 -1.07515790e+02 -2.71926076e+01  4.37382377e+01\n",
      " -5.14627308e+01  1.08406623e+01  1.16489534e+02  3.58027503e+00\n",
      " -5.98867946e+01 -7.74520157e+01  8.93183077e+00 -5.71139932e+01\n",
      "  5.99211169e+01  9.88553119e+00 -2.60789758e+01 -2.49343613e+01\n",
      "  1.98866661e+01  9.98885924e+01 -8.01609865e+01 -5.86938701e+01\n",
      " -8.04534329e+01 -7.71549968e+01  1.71917459e+01 -1.30502721e+01\n",
      " -2.80658014e+01 -1.24575667e+02  1.09984004e+02 -3.69475337e+00\n",
      " -7.07588134e+01 -4.72945517e+00 -5.53656373e+01  9.43018731e+00\n",
      "  1.80879529e+02 -1.62422293e+01 -1.88991796e+01 -3.71631376e+00\n",
      " -1.84587135e+01  2.81409750e+01 -1.42409378e+02 -1.59027927e+02\n",
      " -3.06339106e+00 -1.08838747e+02  6.01776791e+01 -7.04675663e-02\n",
      " -3.17856187e+01 -9.96285319e+01  2.26359536e+02  5.22828281e+01\n",
      " -1.59732885e+01  3.74665625e+01 -1.61478723e+02  1.19987917e+02\n",
      "  7.87590172e+01  4.60279131e+01 -4.32709551e+01  3.15448355e+01\n",
      " -5.97495506e+00  1.53345015e+02 -4.24247925e+01  5.19954966e+00\n",
      " -3.75952550e+01  5.08161265e+01 -1.29061398e+02  1.31220359e+02\n",
      " -3.52361200e+00  1.89684714e+01  8.50019740e+00 -1.55857177e+02\n",
      " -1.37917613e+02  9.39545106e+01  1.33033637e+01 -1.47961359e+02\n",
      "  1.74379801e+01 -3.31427063e+01  2.35201562e+01 -1.55896042e+02\n",
      "  1.67986417e+01 -4.54242739e+00  1.10700022e+01 -6.34499178e+01\n",
      "  7.28455962e+01 -1.31140961e+02  6.56885159e+01  1.44469414e+01\n",
      "  2.35581639e+01  1.82245547e-01  6.93332768e+01 -4.89121049e+00\n",
      " -7.50661440e+00  2.63357248e+01  1.28410574e+02  1.51982851e+01\n",
      "  7.33202129e+01 -1.60923831e+02  8.23822736e+00 -5.57668679e+01\n",
      " -1.67995912e+01 -1.53336712e+01  7.52505894e+01 -6.00894297e+01\n",
      "  3.23594493e+01  2.72859283e+01  1.48831290e+01 -7.70481687e+01\n",
      " -2.91880478e+01  9.95482214e+01 -7.00050208e+01  6.27257486e+01\n",
      "  9.66859534e+01 -4.88630037e+01  8.27053078e+01 -3.07207428e+01\n",
      "  1.07812147e+01 -7.27469597e+00 -3.37089702e+01 -1.16130107e+02\n",
      "  1.45810788e+02 -1.03780013e+02  3.66650011e+01  4.76512492e+01\n",
      " -4.68486748e+01  2.06240824e+02 -7.94474460e+00 -1.09891040e+02\n",
      "  2.71375575e+01  9.95004038e+00  6.08960167e+01  1.14512507e+02\n",
      "  1.14813873e+02  2.03399402e+01  3.06035162e+01 -1.18724651e+01\n",
      "  2.75210000e+01  3.41769457e+00 -5.34220726e+01 -8.23998004e+00\n",
      "  7.52535475e+01  1.86595899e+02  1.48699207e+01  1.02379914e+01\n",
      "  3.97228581e+01  8.17852944e+01  8.35111003e+01  1.41816772e+01\n",
      "  3.44789537e+01  5.88648394e+00 -3.32293727e+01  5.81781486e+01\n",
      " -3.28459224e+01  3.98054750e+01  2.18821353e+01  1.76920970e+02\n",
      " -1.65127356e+01  4.92325100e+01 -2.73659985e+02  6.36932273e+01\n",
      "  4.64161383e+01  5.17951152e+01  1.98148461e+01  1.93236334e+01\n",
      " -9.62962933e-01  2.55702325e+01  1.56485163e+02 -3.47651229e+01\n",
      " -7.50339481e+01 -7.25858259e+01  3.36302434e+01 -2.22680112e+02\n",
      " -3.65147782e+01 -3.42807059e+01 -7.78851180e+00  2.31593139e+01\n",
      " -1.47332611e+02 -3.51805188e+01 -4.84319781e+01  3.35872580e+01\n",
      " -2.74920882e-01 -1.55714074e+01 -1.60095716e+02 -2.66226408e+00]\n"
     ]
    }
   ],
   "source": [
    "print(sumTs[0:500])"
   ]
  },
  {
   "cell_type": "code",
   "execution_count": 60,
   "id": "c00c7f76",
   "metadata": {},
   "outputs": [
    {
     "data": {
      "image/png": "[encoded data removed]",
      "text/plain": [
       "<Figure size 432x288 with 1 Axes>"
      ]
     },
     "metadata": {
      "needs_background": "light"
     },
     "output_type": "display_data"
    }
   ],
   "source": [
    "np.random.seed(19680801)\n",
    "\n",
    "plt.scatter(STnsm,Mutnsm)\n",
    "plt.xlabel(\"STnsm\")\n",
    "plt.ylabel(\"VertexT\")\n",
    "plt.show()"
   ]
  },
  {
   "cell_type": "code",
   "execution_count": 61,
   "id": "542c2717",
   "metadata": {},
   "outputs": [
    {
     "data": {
      "text/plain": [
       "3641"
      ]
     },
     "execution_count": 61,
     "metadata": {},
     "output_type": "execute_result"
    }
   ],
   "source": [
    "len(MLL)"
   ]
  },
  {
   "cell_type": "code",
   "execution_count": 62,
   "id": "8a5c7f53",
   "metadata": {
    "scrolled": true
   },
   "outputs": [
    {
     "data": {
      "image/png": "[encoded data removed]",
      "text/plain": [
       "<Figure size 432x288 with 1 Axes>"
      ]
     },
     "metadata": {
      "needs_background": "light"
     },
     "output_type": "display_data"
    }
   ],
   "source": [
    "import matplotlib.pyplot as plt \n",
    "import numpy as np\n",
    "\n",
    "#Smeared\n",
    "np.random.seed(19680801)\n",
    "\n",
    "plt.scatter(MPP,MLL)\n",
    "plt.xlabel(\"mpp_2cuts\")\n",
    "plt.ylabel(\"mllt\")\n",
    "plt.show()"
   ]
  },
  {
   "cell_type": "code",
   "execution_count": 63,
   "id": "27504935",
   "metadata": {},
   "outputs": [
    {
     "data": {
      "image/png": "[encoded data removed]",
      "text/plain": [
       "<Figure size 432x288 with 1 Axes>"
      ]
     },
     "metadata": {
      "needs_background": "light"
     },
     "output_type": "display_data"
    }
   ],
   "source": [
    "np.random.seed(19680801)\n",
    "\n",
    "plt.scatter(YPP,YLL)\n",
    "plt.xlabel(\"Ypp_2cuts\")\n",
    "plt.ylabel(\"Yllt\")\n",
    "plt.show()"
   ]
  },
  {
   "cell_type": "code",
   "execution_count": 64,
   "id": "2cc89cdb",
   "metadata": {},
   "outputs": [
    {
     "data": {
      "image/png": "[encoded data removed]",
      "text/plain": [
       "<Figure size 432x288 with 1 Axes>"
      ]
     },
     "metadata": {
      "needs_background": "light"
     },
     "output_type": "display_data"
    }
   ],
   "source": [
    "plt.hist2d(YPP, YLL, bins=25)\n",
    "plt.show()"
   ]
  },
  {
   "cell_type": "code",
   "execution_count": 65,
   "id": "a6d88098",
   "metadata": {},
   "outputs": [
    {
     "data": {
      "text/plain": [
       "[Text(0.5, 33.0, 'Ypp-Yll'), Text(59.875, 0.5, 'number of entries')]"
      ]
     },
     "execution_count": 65,
     "metadata": {},
     "output_type": "execute_result"
    },
    {
     "data": {
      "image/png": "[encoded data removed]",
      "text/plain": [
       "<Figure size 720x432 with 1 Axes>"
      ]
     },
     "metadata": {
      "needs_background": "light"
     },
     "output_type": "display_data"
    }
   ],
   "source": [
    "f, ax = plt.subplots(figsize=(10,6))\n",
    "plt.hist(Y, bins=np.linspace(-5,5,100),label='Background')\n",
    "hep.cms.label(llabel=\"Preliminary\", rlabel=\"Summer 2022\", ax=ax)\n",
    "ax.legend(); \n",
    "ax.set(xlabel='Ypp-Yll', ylabel='number of entries')"
   ]
  },
  {
   "cell_type": "code",
   "execution_count": 66,
   "id": "3aad64cc",
   "metadata": {},
   "outputs": [
    {
     "data": {
      "image/png": "[encoded data removed]",
      "text/plain": [
       "<Figure size 432x288 with 1 Axes>"
      ]
     },
     "metadata": {
      "needs_background": "light"
     },
     "output_type": "display_data"
    }
   ],
   "source": [
    "import matplotlib.pyplot as plt\n",
    "import numpy as np\n",
    "\n",
    "#Un Smeared\n",
    "np.random.seed(19680801)\n",
    "\n",
    "plt.scatter(MPPnsm,MLLnsm)\n",
    "plt.xlabel(\"mpp_2cuts\")\n",
    "plt.ylabel(\"mllt\")\n",
    "plt.show()"
   ]
  },
  {
   "cell_type": "code",
   "execution_count": 67,
   "id": "67b71550",
   "metadata": {},
   "outputs": [
    {
     "data": {
      "text/plain": [
       "[Text(0.5, 33.0, 'Mpp-Mll'), Text(59.875, 0.5, 'number of entries')]"
      ]
     },
     "execution_count": 67,
     "metadata": {},
     "output_type": "execute_result"
    },
    {
     "data": {
      "image/png": "[encoded data removed]",
      "text/plain": [
       "<Figure size 720x432 with 1 Axes>"
      ]
     },
     "metadata": {
      "needs_background": "light"
     },
     "output_type": "display_data"
    }
   ],
   "source": [
    "#lets draw hisgorgam of number of muons:\n",
    "f, ax = plt.subplots(figsize=(10,6))\n",
    "plt.hist(M, bins=np.linspace(-1,1,100),label='Background')\n",
    "hep.cms.label(llabel=\"Preliminary\", rlabel=\"Summer 2022\", ax=ax)\n",
    "ax.legend(); \n",
    "ax.set(xlabel='Mpp-Mll', ylabel='number of entries')\n",
    "#plt.savefig('InvariantMassCorrBothSmearing.png')"
   ]
  },
  {
   "cell_type": "code",
   "execution_count": 68,
   "id": "a50a3d81",
   "metadata": {},
   "outputs": [
    {
     "data": {
      "text/plain": [
       "[Text(0.5, 24.0, 'MPP-MLL'), Text(59.875, 0.5, 'number of entries')]"
      ]
     },
     "execution_count": 68,
     "metadata": {},
     "output_type": "execute_result"
    },
    {
     "data": {
      "image/png": "[encoded data removed]",
      "text/plain": [
       "<Figure size 720x360 with 1 Axes>"
      ]
     },
     "metadata": {
      "needs_background": "light"
     },
     "output_type": "display_data"
    }
   ],
   "source": [
    "#lets draw hisgorgam of number of muons:\n",
    "f, ax = plt.subplots(figsize=(10,5))\n",
    "plt.hist(Mnsm, bins=np.linspace(-1,1,100),label='XiSmearing (N=1854)')\n",
    "hep.cms.label(llabel=\"Preliminary\", rlabel=\"Summer 2022\", ax=ax)\n",
    "ax.legend(); \n",
    "ax.set(xlabel='MPP-MLL', ylabel='number of entries')\n",
    "#plt.savefig('InvariantMassCorrXiSmearings.png')"
   ]
  },
  {
   "cell_type": "code",
   "execution_count": 69,
   "id": "0c45ec43",
   "metadata": {},
   "outputs": [
    {
     "data": {
      "text/plain": [
       "3641"
      ]
     },
     "execution_count": 69,
     "metadata": {},
     "output_type": "execute_result"
    }
   ],
   "source": [
    "len(M)"
   ]
  },
  {
   "cell_type": "code",
   "execution_count": 70,
   "id": "a233cd7d",
   "metadata": {},
   "outputs": [
    {
     "name": "stdout",
     "output_type": "stream",
     "text": [
      "23\n",
      "1291.68\n"
     ]
    }
   ],
   "source": [
    "kt=0\n",
    "for i in range (len(M)):\n",
    "    if np.abs(M[i])<0.025:\n",
    "        kt=kt+1\n",
    "print(kt)\n",
    "Lum=300e15\n",
    "Cross=18.72e-12\n",
    "Acc=kt/n_events\n",
    "NumbEv=Lum*Cross*Acc\n",
    "print(NumbEv)"
   ]
  },
  {
   "cell_type": "code",
   "execution_count": 71,
   "id": "89d8f278",
   "metadata": {},
   "outputs": [
    {
     "name": "stdout",
     "output_type": "stream",
     "text": [
      "22\n",
      "1235.52\n"
     ]
    }
   ],
   "source": [
    "ktnsm=0\n",
    "for i in range (len(Mnsm)):\n",
    "    if np.abs(Mnsm[i])<0.025:\n",
    "        ktnsm=ktnsm+1\n",
    "print(ktnsm)\n",
    "Lum=300e15\n",
    "Cross=18.72e-12\n",
    "Accnsm=ktnsm/n_events\n",
    "NumbEvnsm=Lum*Cross*Accnsm\n",
    "print(NumbEvnsm)"
   ]
  },
  {
   "cell_type": "code",
   "execution_count": null,
   "id": "c6d69651",
   "metadata": {},
   "outputs": [],
   "source": []
  },
  {
   "cell_type": "code",
   "execution_count": null,
   "id": "0d8e6b5b",
   "metadata": {
    "scrolled": true
   },
   "outputs": [],
   "source": []
  },
  {
   "cell_type": "code",
   "execution_count": null,
   "id": "08705458",
   "metadata": {},
   "outputs": [],
   "source": []
  },
  {
   "cell_type": "code",
   "execution_count": 72,
   "id": "633edc76",
   "metadata": {
    "scrolled": false
   },
   "outputs": [
    {
     "data": {
      "image/png": "[encoded data removed]",
      "text/plain": [
       "<Figure size 432x288 with 1 Axes>"
      ]
     },
     "metadata": {
      "needs_background": "light"
     },
     "output_type": "display_data"
    }
   ],
   "source": [
    "np.random.seed(19680801)\n",
    "\n",
    "plt.scatter(Muz,CTDif)\n",
    "plt.xlabel(\"Mu_z\")\n",
    "plt.ylabel(\"0.5*c*Tdiff\")\n",
    "plt.show()"
   ]
  },
  {
   "cell_type": "code",
   "execution_count": 73,
   "id": "3f54165f",
   "metadata": {},
   "outputs": [],
   "source": [
    "#Clean the events\n",
    "#Plot with density\n"
   ]
  },
  {
   "cell_type": "code",
   "execution_count": null,
   "id": "b0244fe5",
   "metadata": {},
   "outputs": [],
   "source": []
  },
  {
   "cell_type": "code",
   "execution_count": 74,
   "id": "d5a1ff76",
   "metadata": {
    "scrolled": false
   },
   "outputs": [
    {
     "data": {
      "image/png": "[encoded data removed]",
      "text/plain": [
       "<Figure size 432x288 with 1 Axes>"
      ]
     },
     "metadata": {
      "needs_background": "light"
     },
     "output_type": "display_data"
    }
   ],
   "source": [
    "np.random.seed(19680801)\n",
    "\n",
    "plt.scatter(Mut,ST)\n",
    "plt.xlabel(\"Mu_T\")\n",
    "plt.ylabel(\"c*Tsum-2Zpps\")\n",
    "#plt.ylim([-1,1])\n",
    "plt.show()"
   ]
  },
  {
   "cell_type": "code",
   "execution_count": 75,
   "id": "97e57185",
   "metadata": {},
   "outputs": [],
   "source": [
    "D=np.zeros(len(Mut))\n",
    "DD=np.zeros(len(Mut))\n",
    "\n",
    "for ev in range(len(Mut)):\n",
    "\n",
    "    D[ev]=Mut[ev]-ST[ev]\n",
    "    DD[ev]=Muz[ev]+CTDif[ev]"
   ]
  },
  {
   "cell_type": "code",
   "execution_count": 76,
   "id": "bd8c7067",
   "metadata": {
    "scrolled": true
   },
   "outputs": [
    {
     "name": "stderr",
     "output_type": "stream",
     "text": [
      "No handles with labels found to put in legend.\n"
     ]
    },
    {
     "data": {
      "text/plain": [
       "[Text(0.5, 33.0, 'Vertex time difference'),\n",
       " Text(59.875, 0.5, 'number of entries')]"
      ]
     },
     "execution_count": 76,
     "metadata": {},
     "output_type": "execute_result"
    },
    {
     "data": {
      "image/png": "[encoded data removed]",
      "text/plain": [
       "<Figure size 720x432 with 1 Axes>"
      ]
     },
     "metadata": {
      "needs_background": "light"
     },
     "output_type": "display_data"
    }
   ],
   "source": [
    "f, ax = plt.subplots(figsize=(10,6))\n",
    "plt.hist(D, bins=np.linspace(-5,5,100),label='')\n",
    "hep.cms.label(llabel=\"Preliminary\", rlabel=\"Summer 2022\", ax=ax)\n",
    "ax.legend(); \n",
    "ax.set(xlabel='Vertex time difference', ylabel='number of entries')\n",
    "#plt.savefig('InvariantMassCorrBothSmearings.png')"
   ]
  },
  {
   "cell_type": "code",
   "execution_count": 77,
   "id": "898ec7f9",
   "metadata": {},
   "outputs": [
    {
     "name": "stderr",
     "output_type": "stream",
     "text": [
      "No handles with labels found to put in legend.\n"
     ]
    },
    {
     "data": {
      "text/plain": [
       "[Text(0.5, 33.0, 'Vertex Z difference'), Text(66.25, 0.5, 'number of entries')]"
      ]
     },
     "execution_count": 77,
     "metadata": {},
     "output_type": "execute_result"
    },
    {
     "data": {
      "image/png": "[encoded data removed]",
      "text/plain": [
       "<Figure size 720x432 with 1 Axes>"
      ]
     },
     "metadata": {
      "needs_background": "light"
     },
     "output_type": "display_data"
    }
   ],
   "source": [
    "f, ax = plt.subplots(figsize=(10,6))\n",
    "plt.hist(DD, bins=np.linspace(-10,10,100),label='')\n",
    "hep.cms.label(llabel=\"Preliminary\", rlabel=\"Summer 2022\", ax=ax)\n",
    "ax.legend(); \n",
    "ax.set(xlabel='Vertex Z difference', ylabel='number of entries')\n",
    "#plt.savefig('InvariantMassCorrBothSmearings.png')"
   ]
  },
  {
   "cell_type": "code",
   "execution_count": 78,
   "id": "26fe239b",
   "metadata": {},
   "outputs": [
    {
     "name": "stdout",
     "output_type": "stream",
     "text": [
      "23\n",
      "1291.68\n"
     ]
    }
   ],
   "source": [
    "kt=0\n",
    "for i in range (len(M)):\n",
    "    if (np.abs(M[i])<0.025):\n",
    "        kt=kt+1\n",
    "print(kt)\n",
    "Lum=300e15\n",
    "Cross=18.72e-12\n",
    "Acc=kt/n_events\n",
    "NumbEv=Lum*Cross*Acc\n",
    "print(NumbEv)"
   ]
  },
  {
   "cell_type": "code",
   "execution_count": 79,
   "id": "5bbcafd4",
   "metadata": {},
   "outputs": [
    {
     "name": "stdout",
     "output_type": "stream",
     "text": [
      "90\n",
      "5054.4\n"
     ]
    }
   ],
   "source": [
    "kt=0\n",
    "for i in range (len(M)):\n",
    "    if (np.abs(Y[i])<0.05):\n",
    "        kt=kt+1\n",
    "print(kt)\n",
    "Lum=300e15\n",
    "Cross=18.72e-12\n",
    "Acc=kt/n_events\n",
    "NumbEv=Lum*Cross*Acc\n",
    "print(NumbEv)"
   ]
  },
  {
   "cell_type": "code",
   "execution_count": 80,
   "id": "fdfcd4c0",
   "metadata": {},
   "outputs": [
    {
     "name": "stdout",
     "output_type": "stream",
     "text": [
      "543\n",
      "30494.88\n"
     ]
    }
   ],
   "source": [
    "kt=0\n",
    "for i in range (len(M)):\n",
    "    if (np.abs(D[i])<0.25):\n",
    "        kt=kt+1\n",
    "print(kt)\n",
    "Lum=300e15\n",
    "Cross=18.72e-12\n",
    "Acc=kt/n_events\n",
    "NumbEv=Lum*Cross*Acc\n",
    "print(NumbEv)"
   ]
  },
  {
   "cell_type": "code",
   "execution_count": 81,
   "id": "c51729a2",
   "metadata": {},
   "outputs": [
    {
     "name": "stdout",
     "output_type": "stream",
     "text": [
      "709\n",
      "39817.44\n"
     ]
    }
   ],
   "source": [
    "kt=0\n",
    "for i in range (len(M)):\n",
    "    if (np.abs(DD[i])<1.5):\n",
    "        kt=kt+1\n",
    "print(kt)\n",
    "Lum=300e15\n",
    "Cross=18.72e-12\n",
    "Acc=kt/n_events\n",
    "NumbEv=Lum*Cross*Acc\n",
    "print(NumbEv)"
   ]
  },
  {
   "cell_type": "code",
   "execution_count": 82,
   "id": "c7179c34",
   "metadata": {},
   "outputs": [
    {
     "name": "stdout",
     "output_type": "stream",
     "text": [
      "2\n",
      "112.32000000000001\n"
     ]
    }
   ],
   "source": [
    "kt=0\n",
    "for i in range (len(M)):\n",
    "    if (np.abs(M[i])<0.025) and (np.abs(Y[i])<0.05):\n",
    "        kt=kt+1\n",
    "print(kt)\n",
    "Lum=300e15\n",
    "Cross=18.72e-12\n",
    "Acc=kt/n_events\n",
    "NumbEv=Lum*Cross*Acc\n",
    "print(NumbEv)"
   ]
  },
  {
   "cell_type": "code",
   "execution_count": 83,
   "id": "a7885b95",
   "metadata": {
    "scrolled": true
   },
   "outputs": [
    {
     "name": "stdout",
     "output_type": "stream",
     "text": [
      "5\n",
      "280.8\n"
     ]
    }
   ],
   "source": [
    "kt=0\n",
    "for i in range (len(M)):\n",
    "    if (np.abs(M[i])<0.025) and (np.abs(D[i])<0.25):\n",
    "        kt=kt+1\n",
    "print(kt)\n",
    "Lum=300e15\n",
    "Cross=18.72e-12\n",
    "Acc=kt/n_events\n",
    "NumbEv=Lum*Cross*Acc\n",
    "print(NumbEv)"
   ]
  },
  {
   "cell_type": "code",
   "execution_count": 84,
   "id": "3428dd75",
   "metadata": {},
   "outputs": [
    {
     "name": "stdout",
     "output_type": "stream",
     "text": [
      "12\n",
      "673.9200000000001\n"
     ]
    }
   ],
   "source": [
    "kt=0\n",
    "for i in range (len(M)):\n",
    "    if (np.abs(Y[i])<0.05) and (np.abs(D[i])<0.25):\n",
    "        kt=kt+1\n",
    "print(kt)\n",
    "Lum=300e15\n",
    "Cross=18.72e-12\n",
    "Acc=kt/n_events\n",
    "NumbEv=Lum*Cross*Acc\n",
    "print(NumbEv)"
   ]
  },
  {
   "cell_type": "code",
   "execution_count": 85,
   "id": "c8988ef1",
   "metadata": {},
   "outputs": [
    {
     "name": "stdout",
     "output_type": "stream",
     "text": [
      "0\n",
      "0.0\n"
     ]
    }
   ],
   "source": [
    "kt=0\n",
    "for i in range (len(M)):\n",
    "    if (np.abs(M[i])<0.025) and (np.abs(Y[i])<0.05) and (np.abs(D[i])<0.25):\n",
    "        kt=kt+1\n",
    "print(kt)\n",
    "Lum=300e15\n",
    "Cross=18.72e-12\n",
    "Acc=kt/n_events\n",
    "NumbEv=Lum*Cross*Acc\n",
    "print(NumbEv)"
   ]
  },
  {
   "cell_type": "code",
   "execution_count": 86,
   "id": "6e256c1c",
   "metadata": {},
   "outputs": [
    {
     "name": "stdout",
     "output_type": "stream",
     "text": [
      "56.16\n"
     ]
    }
   ],
   "source": [
    "print(Lum*Cross/n_events)"
   ]
  },
  {
   "cell_type": "code",
   "execution_count": 87,
   "id": "5936a640",
   "metadata": {},
   "outputs": [
    {
     "data": {
      "text/plain": [
       "100000"
      ]
     },
     "execution_count": 87,
     "metadata": {},
     "output_type": "execute_result"
    }
   ],
   "source": [
    "n_events"
   ]
  },
  {
   "cell_type": "code",
   "execution_count": 88,
   "id": "94d7f6b9",
   "metadata": {},
   "outputs": [],
   "source": [
    "#(tMt_sm[k]+tmt_sm[k])*c-2*23400"
   ]
  },
  {
   "cell_type": "code",
   "execution_count": 89,
   "id": "bbc49fba",
   "metadata": {},
   "outputs": [],
   "source": [
    "#            t[k]=(genproton_t[i][k]+(23400-genproton_vz[i][k])/30) \n",
    "\n",
    "#        else: \n",
    "#            t[k]=(genproton_t[i][k]+(23400+genproton_vz[i][k])/30) \n",
    "\n",
    "#Doing the table with the values with bkg\n",
    "#Changing the smearing values\n",
    "#Statistical discussion about the number of events in the BKG"
   ]
  },
  {
   "cell_type": "code",
   "execution_count": null,
   "id": "4ac1ca86",
   "metadata": {},
   "outputs": [],
   "source": []
  }
 ],
 "metadata": {
  "kernelspec": {
   "display_name": "Python 3",
   "language": "python",
   "name": "python3"
  },
  "language_info": {
   "codemirror_mode": {
    "name": "ipython",
    "version": 3
   },
   "file_extension": ".py",
   "mimetype": "text/x-python",
   "name": "python",
   "nbconvert_exporter": "python",
   "pygments_lexer": "ipython3",
   "version": "3.9.12"
  }
 },
 "nbformat": 4,
 "nbformat_minor": 5
}
