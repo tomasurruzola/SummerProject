{
 "cells": [
  {
   "cell_type": "code",
   "execution_count": 1,
   "id": "705a6a3f",
   "metadata": {},
   "outputs": [],
   "source": [
    "#import uproot\n",
    "import uproot4\n",
    "from tqdm import tqdm"
   ]
  },
  {
   "cell_type": "code",
   "execution_count": 2,
   "id": "b8cfaf9e",
   "metadata": {},
   "outputs": [],
   "source": [
    "# relace next line with the path to your file\n",
    "#path='data'\n",
    "path='/eos/cms/store/user/jjhollar/CERNSummerStudentProject2022/'\n",
    "filename=path+'/delphes_GammaGammaMuMu_FPMC_pT25_14TeV_10kEvents.root'"
   ]
  },
  {
   "cell_type": "code",
   "execution_count": 3,
   "id": "ec3eabc9",
   "metadata": {},
   "outputs": [],
   "source": [
    "#open the file, using uproot\n",
    "root_=uproot4.open( filename )"
   ]
  },
  {
   "cell_type": "code",
   "execution_count": 4,
   "id": "b530cb6c",
   "metadata": {},
   "outputs": [
    {
     "data": {
      "text/plain": [
       "['ProcessID0;1', 'Delphes;1']"
      ]
     },
     "execution_count": 4,
     "metadata": {},
     "output_type": "execute_result"
    }
   ],
   "source": [
    "root_.keys()"
   ]
  },
  {
   "cell_type": "code",
   "execution_count": 5,
   "id": "d2a2c3f4",
   "metadata": {},
   "outputs": [],
   "source": [
    "tree_ = root_[\"Delphes\"]"
   ]
  },
  {
   "cell_type": "code",
   "execution_count": 6,
   "id": "f4723b36",
   "metadata": {},
   "outputs": [],
   "source": [
    "vtx_size = tree_['Vertex_size'].array()"
   ]
  },
  {
   "cell_type": "code",
   "execution_count": 7,
   "id": "d4f56743",
   "metadata": {},
   "outputs": [
    {
     "data": {
      "text/plain": [
       "10000"
      ]
     },
     "execution_count": 7,
     "metadata": {},
     "output_type": "execute_result"
    }
   ],
   "source": [
    "len(vtx_size)"
   ]
  },
  {
   "cell_type": "code",
   "execution_count": 8,
   "id": "1a739923",
   "metadata": {},
   "outputs": [],
   "source": [
    "#variables_to_save=[tree_.keys()] # this will not work, due to vectors in the dataset\n",
    "#muons_df = tree_.arrays(['Muon_size','Muon.PT','Muon.Eta','Muon.Phi','Muon.T'], library=\"pd\")\n",
    "#genproton_df = tree_.arrays(['GenProton_size','GenProton.Pz','GenProton.Z','GenProton.IsPU'], library=\"pd\")\n",
    "#floats_df = tree_.arrays(['GenProton.T'], library=\"pd\")"
   ]
  },
  {
   "cell_type": "code",
   "execution_count": 9,
   "id": "d5fc599f",
   "metadata": {},
   "outputs": [],
   "source": [
    "import pandas as pd\n",
    "import numpy as np"
   ]
  },
  {
   "cell_type": "code",
   "execution_count": 10,
   "id": "eb83533d",
   "metadata": {},
   "outputs": [],
   "source": [
    "n_events = len(vtx_size)"
   ]
  },
  {
   "cell_type": "code",
   "execution_count": 11,
   "id": "bdc6d327",
   "metadata": {},
   "outputs": [
    {
     "name": "stdout",
     "output_type": "stream",
     "text": [
      "for xi range of (0.009,0.197) proton pz is in range from 5623.10 to 6933.50 GeV\n",
      "5512.947999999999\n",
      "6938.820000000001\n"
     ]
    }
   ],
   "source": [
    "#xi acceptance from Table 4 on page 40 of https://cds.cern.ch/record/2750358/files/NOTE2020_008.pdf\n",
    "xi_min = 0.0095 # using the 234m station\n",
    "xi_max = 0.1967 # using the 196m station\n",
    "pz_min = (1-xi_max)*7000\n",
    "pz_max = (1-xi_min)*7000\n",
    "pz_min1 =(1-1.08*xi_max)*7000\n",
    "pz_max1 =(1-0.92*xi_min)*7000\n",
    "print('for xi range of (%2.3f,%2.3f) proton pz is in range from %2.2f to %2.2f GeV'%(xi_min,xi_max,pz_min,pz_max))\n",
    "print(pz_min1)\n",
    "print(pz_max1)"
   ]
  },
  {
   "cell_type": "code",
   "execution_count": 77,
   "id": "b7f18f65",
   "metadata": {},
   "outputs": [
    {
     "name": "stdout",
     "output_type": "stream",
     "text": [
      "5623.1 6933.5\n"
     ]
    }
   ],
   "source": [
    "print(pz_min, pz_max)"
   ]
  },
  {
   "cell_type": "code",
   "execution_count": null,
   "id": "315f6959",
   "metadata": {},
   "outputs": [],
   "source": []
  },
  {
   "cell_type": "code",
   "execution_count": 12,
   "id": "8c603c6c",
   "metadata": {},
   "outputs": [],
   "source": [
    "#read protons only within the PPS acceptance\n",
    "protons = tree_.arrays(['GenProton.Pz','GenProton.Z','GenProton.IsPU','GenProton.T'],  cut=\"(abs(GenProton.Pz)>%g) & (abs(GenProton.Pz)<%g)\"%(pz_min,pz_max))"
   ]
  },
  {
   "cell_type": "code",
   "execution_count": 13,
   "id": "f611317a",
   "metadata": {
    "scrolled": true
   },
   "outputs": [
    {
     "name": "stdout",
     "output_type": "stream",
     "text": [
      "0.03\n",
      "[[-1.33e-10, 2.25e-11, 2.07e-12, -2.05e-10, ... -2.44e-11, -1.19e-10, 1.33e-10]]\n"
     ]
    }
   ],
   "source": [
    "tr=(10**9)*30E-12\n",
    "print(tr)\n",
    "print(protons['GenProton.T'])\n",
    "#print(pz)"
   ]
  },
  {
   "cell_type": "code",
   "execution_count": 14,
   "id": "68c1420c",
   "metadata": {},
   "outputs": [
    {
     "name": "stderr",
     "output_type": "stream",
     "text": [
      "100%|██████████| 10000/10000 [02:21<00:00, 70.72it/s]\n"
     ]
    }
   ],
   "source": [
    "N_protons=np.zeros(len(protons)).astype(int)\n",
    "genproton_pz=protons['GenProton.Pz']\n",
    "genproton_vz=protons['GenProton.Z']\n",
    "genproton_ispu=protons['GenProton.IsPU']\n",
    "genproton_t=(10**9)*protons['GenProton.T']\n",
    "genprotonpz=[]\n",
    "genprotonvz=[]\n",
    "genprotonispu=[]\n",
    "genprotont=[]\n",
    "genprotont_sm=[]\n",
    "genprotonxi=[]\n",
    "sig=[]\n",
    "\n",
    "\n",
    "for i in tqdm(range(len(genproton_pz))):\n",
    "    pz=genproton_pz[i]\n",
    "    xi=1-np.abs(pz)/7000\n",
    "    xi_smear=xi*(1+np.random.normal(0,0.02,len(xi)))\n",
    "    pz_smear=7000*(1-xi_smear)\n",
    "    t=np.zeros(len(pz))\n",
    "    DPPV=np.zeros(len(pz))\n",
    "    \n",
    "    \n",
    "    for k in range(len(pz)):\n",
    "    \n",
    "        if pz[k]>0:\n",
    "            t[k]=(genproton_t[i][k]+(23400-genproton_vz[i][k])/30) \n",
    "\n",
    "        else: \n",
    "            t[k]=(genproton_t[i][k]+(23400+genproton_vz[i][k])/30) \n",
    "\n",
    "            \n",
    "    t_smear=t+np.random.normal(0,tr,len(t))\n",
    "\n",
    "    lpz=len(pz)\n",
    "    Npr=0\n",
    "    for k in range(lpz):\n",
    "    \n",
    "        if (abs(pz_smear[k])>pz_min) and (abs(pz_smear[k])<pz_max):\n",
    "            sig.append(np.sign(pz[k]))\n",
    "            genprotonpz.append(pz_smear[k])\n",
    "            genprotonxi.append(xi_smear[k])\n",
    "            genprotonvz.append(genproton_vz[i][k])\n",
    "            genprotonispu.append(genproton_ispu[i][k])\n",
    "            genprotont.append(t[k])\n",
    "            genprotont_sm.append(t_smear[k])\n",
    "            Npr=Npr+1\n",
    "    N_protons[i]=Npr"
   ]
  },
  {
   "cell_type": "code",
   "execution_count": null,
   "id": "9d37c6ed",
   "metadata": {},
   "outputs": [],
   "source": []
  },
  {
   "cell_type": "code",
   "execution_count": null,
   "id": "7a57befe",
   "metadata": {
    "scrolled": true
   },
   "outputs": [],
   "source": []
  },
  {
   "cell_type": "code",
   "execution_count": 15,
   "id": "23dc3a4a",
   "metadata": {
    "scrolled": true
   },
   "outputs": [
    {
     "data": {
      "text/plain": [
       "array([ 4, 15,  8, 13,  4, 15,  9, 10, 11])"
      ]
     },
     "execution_count": 15,
     "metadata": {},
     "output_type": "execute_result"
    }
   ],
   "source": [
    "N_protons[0:9]"
   ]
  },
  {
   "cell_type": "code",
   "execution_count": 16,
   "id": "b2e28469",
   "metadata": {},
   "outputs": [
    {
     "name": "stdout",
     "output_type": "stream",
     "text": [
      "[-6.92e+03, -6.82e+03, -6.15e+03, 6.86e+03]\n",
      "[6920.236173054872, 6827.334653777754, 6149.483890270585, 6862.674760139426]\n"
     ]
    }
   ],
   "source": [
    "print(genproton_pz[0])\n",
    "print(genprotonpz[0:N_protons[0]])"
   ]
  },
  {
   "cell_type": "code",
   "execution_count": 17,
   "id": "13de3e63",
   "metadata": {
    "scrolled": true
   },
   "outputs": [
    {
     "name": "stdout",
     "output_type": "stream",
     "text": [
      "[780.0080180913114, 781.6508133518621, 778.0532111070602, 778.5588344463354, 777.0632907452231, 783.6193637432699, 778.6446564022915, 779.4972623285856, 778.3174118749763, 780.876447878026]\n",
      "[780.0210403534919, 781.6614212196257, 778.057091498769, 778.5545359003634, 777.0195053038946, 783.6163876895075, 778.6205365428569, 779.5074505404056, 778.3663814508184, 780.923888210852]\n"
     ]
    }
   ],
   "source": [
    "print(genprotont[0:10])\n",
    "print(genprotont_sm[0:10])"
   ]
  },
  {
   "cell_type": "code",
   "execution_count": null,
   "id": "167fb71d",
   "metadata": {},
   "outputs": [],
   "source": []
  },
  {
   "cell_type": "code",
   "execution_count": 18,
   "id": "846275fb",
   "metadata": {},
   "outputs": [],
   "source": [
    "n_events = len(N_protons)\n",
    "Prneg=np.zeros(n_events)\n",
    "Prpos=np.zeros(n_events)\n",
    "NmbPairs=np.zeros(n_events)"
   ]
  },
  {
   "cell_type": "code",
   "execution_count": null,
   "id": "d6203911",
   "metadata": {},
   "outputs": [],
   "source": []
  },
  {
   "cell_type": "code",
   "execution_count": 19,
   "id": "9e91c674",
   "metadata": {},
   "outputs": [],
   "source": [
    "nprot=np.zeros(n_events)"
   ]
  },
  {
   "cell_type": "code",
   "execution_count": null,
   "id": "4b6aa531",
   "metadata": {},
   "outputs": [],
   "source": []
  },
  {
   "cell_type": "code",
   "execution_count": null,
   "id": "42e0dc2e",
   "metadata": {},
   "outputs": [],
   "source": []
  },
  {
   "cell_type": "code",
   "execution_count": 20,
   "id": "622b8218",
   "metadata": {},
   "outputs": [],
   "source": [
    "Cnt=0\n",
    "for ev, nprotons in enumerate(N_protons):\n",
    "\n",
    "    for i in range(nprotons):\n",
    "        if (sig[Cnt+i]>0):\n",
    "            Prpos[ev]=Prpos[ev]+1\n",
    "            \n",
    "        else:\n",
    "            Prneg[ev]=Prneg[ev]+1\n",
    "\n",
    "        NmbPairs=Prpos*Prneg\n",
    "    Cnt=Cnt+nprotons"
   ]
  },
  {
   "cell_type": "code",
   "execution_count": 21,
   "id": "45d10675",
   "metadata": {
    "scrolled": false
   },
   "outputs": [
    {
     "name": "stdout",
     "output_type": "stream",
     "text": [
      "[1. 8. 5. ... 5. 4. 4.]\n",
      "[3. 7. 3. ... 7. 3. 5.]\n",
      "[ 3. 56. 15. ... 35. 12. 20.]\n",
      "[ 3 56 15 ... 35 12 20]\n"
     ]
    }
   ],
   "source": [
    "print(Prpos)\n",
    "print(Prneg)\n",
    "print(NmbPairs)\n",
    "sum(NmbPairs)\n",
    "NPs = NmbPairs.astype(int)\n",
    "print(NPs)"
   ]
  },
  {
   "cell_type": "code",
   "execution_count": null,
   "id": "b80f7ae1",
   "metadata": {},
   "outputs": [],
   "source": []
  },
  {
   "cell_type": "code",
   "execution_count": 22,
   "id": "21febff1",
   "metadata": {},
   "outputs": [],
   "source": [
    "N_muons=tree_['Muon_size'].array()\n",
    "mu_pt=tree_['Muon.PT'].array()\n",
    "mu_eta=tree_['Muon.Eta'].array()\n",
    "mu_phi=tree_['Muon.Phi'].array()\n",
    "mu_T=tree_['Muon.T'].array()\n",
    "#mu_z=tree_['Vertex.Z'].array()\n",
    "\n",
    "N_Tmuons=tree_['MuonTight_size'].array()\n",
    "Tmu_pt=tree_['MuonTight.PT'].array()\n",
    "Tmu_eta=tree_['MuonTight.Eta'].array()\n",
    "Tmu_phi=tree_['MuonTight.Phi'].array()\n",
    "Tmu_VT=(10**9)*tree_['Vertex.T'].array()\n",
    "Tmu_Vz=tree_['Vertex.Z'].array()"
   ]
  },
  {
   "cell_type": "code",
   "execution_count": null,
   "id": "e28f8b6d",
   "metadata": {},
   "outputs": [],
   "source": []
  },
  {
   "cell_type": "code",
   "execution_count": 23,
   "id": "69b93384",
   "metadata": {},
   "outputs": [],
   "source": [
    "yl=[]\n",
    "ylt=[]\n",
    "Tmu_T=[]\n",
    "Tmu_z=[]\n",
    "sumET=[]\n",
    "sumTPz=[]\n",
    "mll=[]\n",
    "mllt=[]\n",
    "TMu1_pt=[]\n",
    "TMu2_pt=[]\n",
    "ktm=np.zeros((len(N_Tmuons)))\n",
    "\n",
    "for ev, nmuons in enumerate(N_Tmuons):\n",
    "    Tmu1_pt=0; Tmu1_eta=0; Tmu1_phi=0; Tmu1_t=0; Tmu1_z=0\n",
    "    Tmu2_pt=0; Tmu2_eta=0; Tmu2_phi=0; Tmu2_t=0; Tmu2_z=0\n",
    "    for i in range(nmuons):\n",
    "        if Tmu_pt[ev][i]>Tmu1_pt:\n",
    "            Tmu2_pt=Tmu1_pt\n",
    "            Tmu2_eta=Tmu1_eta\n",
    "            Tmu2_phi=Tmu1_phi          \n",
    "            \n",
    "            \n",
    "            Tmu1_pt=Tmu_pt[ev][i]\n",
    "            Tmu1_eta=Tmu_eta[ev][i]\n",
    "            Tmu1_phi=Tmu_phi[ev][i]\n",
    "        elif Tmu_pt[ev][i]>Tmu2_pt:\n",
    "            Tmu2_pt=Tmu_pt[ev][i]\n",
    "            Tmu2_eta=Tmu_eta[ev][i]\n",
    "            Tmu2_phi=Tmu_phi[ev][i]\n",
    "\n",
    "    if (Tmu1_pt!=0) and (Tmu2_pt!=0) and (Prpos[ev]!=0) and (Prneg[ev]!=0):\n",
    "        TMu1_pt.append(Tmu1_pt)\n",
    "        TMu2_pt.append(Tmu2_pt)\n",
    "        # compute invariant mass of lepton pair\n",
    "        sumET.append(Tmu1_pt*np.cosh(Tmu1_eta)+Tmu2_pt*np.cosh(Tmu2_eta))\n",
    "        sumTPx=Tmu1_pt*np.cos(Tmu1_phi)+Tmu2_pt*np.cos(Tmu2_phi)\n",
    "        sumTPy=Tmu1_pt*np.sin(Tmu1_phi)+Tmu2_pt*np.sin(Tmu2_phi)\n",
    "        sumTPz.append(Tmu1_pt*np.sinh(Tmu1_eta)+Tmu2_pt*np.sinh(Tmu2_eta))\n",
    "            #Building the di lepton\n",
    "        dTmuP=np.sqrt(sumTPx**2 + sumTPy**2 + (Tmu1_pt*np.sinh(Tmu1_eta)+Tmu2_pt*np.sinh(Tmu2_eta))**2)\n",
    "\n",
    "        mllt2 = (Tmu1_pt*np.cosh(Tmu1_eta)+Tmu2_pt*np.cosh(Tmu2_eta))**2 - dTmuP**2  #- sumTPx**2 - sumTPy**2 - sumTPz**2\n",
    "        if(mllt2<0): mllt2=0\n",
    "        mllt.append(np.sqrt(mllt2))\n",
    "    #    ylt[ev]=Tmu1_eta+Tmu2_eta\n",
    "        Tmu_T.append(Tmu_VT[ev])\n",
    "        Tmu_z.append(Tmu_Vz[ev])\n",
    "\n",
    "        ylt.append(0.5*np.log(((Tmu1_pt*np.cosh(Tmu1_eta)+Tmu2_pt*np.cosh(Tmu2_eta))+(Tmu1_pt*np.sinh(Tmu1_eta)+Tmu2_pt*np.sinh(Tmu2_eta)))/((Tmu1_pt*np.cosh(Tmu1_eta)+Tmu2_pt*np.cosh(Tmu2_eta))-(Tmu1_pt*np.sinh(Tmu1_eta)+Tmu2_pt*np.sinh(Tmu2_eta)))))\n",
    "    else:\n",
    "        ktm[ev]=1"
   ]
  },
  {
   "cell_type": "code",
   "execution_count": null,
   "id": "62f8d542",
   "metadata": {},
   "outputs": [],
   "source": []
  },
  {
   "cell_type": "code",
   "execution_count": 24,
   "id": "5025394f",
   "metadata": {
    "scrolled": false
   },
   "outputs": [
    {
     "name": "stderr",
     "output_type": "stream",
     "text": [
      "100%|██████████| 10000/10000 [00:01<00:00, 6288.17it/s]"
     ]
    },
    {
     "name": "stdout",
     "output_type": "stream",
     "text": [
      "5272\n",
      "5272\n"
     ]
    },
    {
     "name": "stderr",
     "output_type": "stream",
     "text": [
      "\n"
     ]
    }
   ],
   "source": [
    "NP=[]\n",
    "tPairs = []\n",
    "t_smPairs = []\n",
    "zPairs = []\n",
    "xiPairs = []\n",
    "nevents=len(N_protons)\n",
    "Cnt=0\n",
    "kt=np.zeros(nevents)\n",
    "for ev in tqdm(range(nevents)):\n",
    "    nprotons=N_protons[ev]\n",
    "    x1=0; x2=0 ; z1=0; z2=0; t1=0; t2=0; t1sm=0; t2sm=0\n",
    "    zPair = []\n",
    "    t_Pair = []\n",
    "    t_smPair = []\n",
    "    xiPair = []\n",
    "\n",
    "    if (ktm[ev]==0) and (Prpos[ev]!=0) and (Prneg[ev]!=0):\n",
    "\n",
    "        for i in range(nprotons):\n",
    "            if (sig[Cnt+i]>0):\n",
    "                x1=genprotonxi[Cnt+i]\n",
    "                z1=genprotonvz[Cnt+i]\n",
    "                t1sm=genprotont_sm[Cnt+i]\n",
    "                t1=genprotont[Cnt+i]\n",
    "                #print(t1,genproton_t[ev][i],(23400-genproton_vz[ev][i])/30)\n",
    "                for n in range (i+1,nprotons):\n",
    "                    if (sig[Cnt+n]<0):\n",
    "                        x2=genprotonxi[Cnt+n]\n",
    "                        z2=genprotonvz[Cnt+n]\n",
    "                        t2sm=genprotont_sm[Cnt+n]\n",
    "                        t2=genprotont[Cnt+n]\n",
    "\n",
    "                        xiPs=np.array([x1,x2])\n",
    "                        xiPair.append(xiPs)\n",
    "                        zPs=np.array([z1,z2])\n",
    "                        zPair.append(zPs)\n",
    "                        tPsm=np.array([t1sm,t2sm])\n",
    "                        t_smPair.append(tPsm)\n",
    "                        tPs=np.array([t1,t2])\n",
    "                        t_Pair.append(tPs)\n",
    "                    #print(0.5*30*(tPs[1]-tPs[0]),Tmu_z[ev][0])    \n",
    "            elif (sig[Cnt+i]<0):\n",
    "                x2=genprotonxi[Cnt+i]\n",
    "                z2=genprotonvz[Cnt+i]\n",
    "                t2=genprotont[Cnt+i]\n",
    "                t2sm=genprotont_sm[Cnt+i]\n",
    "                for n in range (i+1,nprotons):\n",
    "                    if (sig[Cnt+n]>0):\n",
    "                        x1=genprotonxi[Cnt+n]\n",
    "                        z1=genprotonvz[Cnt+n]\n",
    "                        t1sm=genprotont_sm[Cnt+n]\n",
    "                        t1=genprotont[Cnt+n]\n",
    "\n",
    "                        xiPs=np.array([x1,x2])\n",
    "                        xiPair.append(xiPs)\n",
    "                        zPs=np.array([z1,z2])\n",
    "                        zPair.append(zPs)\n",
    "                        tPsm=np.array([t1sm,t2sm])\n",
    "                        t_smPair.append(tPsm)\n",
    "                        tPs=np.array([t1,t2])\n",
    "                        t_Pair.append(tPs)\n",
    "            else:\n",
    "                kt[ev]=1    #Discuss this part!!\n",
    "\n",
    "                    #print(0.5*30*(tPs[1]-tPs[0]),Tmu_z[ev][0])\n",
    "        t_smPairs.append(t_smPair)\n",
    "        tPairs.append(t_Pair)\n",
    "        zPairs.append(zPair)\n",
    "        xiPairs.append(xiPair)\n",
    "        NP.append(NPs[ev])\n",
    "        Cnt=Cnt+nprotons\n",
    "        \n",
    "    else:\n",
    "        Cnt=Cnt+nprotons\n",
    "\n",
    "nmevents=len(mllt)\n",
    "nevents=len(t_smPairs)\n",
    "print(nevents)\n",
    "print(nmevents)"
   ]
  },
  {
   "cell_type": "code",
   "execution_count": 25,
   "id": "c45d53da",
   "metadata": {
    "scrolled": true
   },
   "outputs": [
    {
     "data": {
      "text/plain": [
       "149110"
      ]
     },
     "execution_count": 25,
     "metadata": {},
     "output_type": "execute_result"
    }
   ],
   "source": [
    "sum([len(x) for x in tPairs])"
   ]
  },
  {
   "cell_type": "code",
   "execution_count": 26,
   "id": "88a5bde7",
   "metadata": {},
   "outputs": [
    {
     "name": "stdout",
     "output_type": "stream",
     "text": [
      "5272\n"
     ]
    }
   ],
   "source": [
    "print(len(NP))"
   ]
  },
  {
   "cell_type": "code",
   "execution_count": 27,
   "id": "f7c6dfb5",
   "metadata": {},
   "outputs": [
    {
     "name": "stdout",
     "output_type": "stream",
     "text": [
      "10000\n",
      "5272\n"
     ]
    }
   ],
   "source": [
    "kk=0\n",
    "kkk=0\n",
    "for ev in range(len(ktm)):\n",
    "    if (ktm[ev]==0):\n",
    "        kkk=kkk+1\n",
    "    if (kt[ev]==0):\n",
    "        kk=kk+1\n",
    "print(kk)\n",
    "print(kkk)"
   ]
  },
  {
   "cell_type": "code",
   "execution_count": null,
   "id": "1d092806",
   "metadata": {},
   "outputs": [],
   "source": []
  },
  {
   "cell_type": "code",
   "execution_count": 28,
   "id": "4ead95ee",
   "metadata": {
    "scrolled": true
   },
   "outputs": [
    {
     "name": "stdout",
     "output_type": "stream",
     "text": [
      "10000\n"
     ]
    }
   ],
   "source": [
    "print(len(N_Tmuons))"
   ]
  },
  {
   "cell_type": "code",
   "execution_count": null,
   "id": "b6fee125",
   "metadata": {},
   "outputs": [],
   "source": []
  },
  {
   "cell_type": "code",
   "execution_count": 29,
   "id": "d3b638a6",
   "metadata": {
    "scrolled": true
   },
   "outputs": [
    {
     "name": "stdout",
     "output_type": "stream",
     "text": [
      "3\n",
      "3\n",
      "5272\n",
      "5272\n",
      "5272\n",
      "5272\n",
      "5272\n",
      "0.019617891408653488\n",
      "0.011394832420732583\n"
     ]
    }
   ],
   "source": [
    "print(len(xiPairs[0]))\n",
    "print(NP[0])\n",
    "print(len(NP))\n",
    "print(len(sumET))\n",
    "print(len(sumTPz))\n",
    "print(nevents)\n",
    "print(len(xiPairs))\n",
    "print(xiPairs[0][0][0])\n",
    "print(xiPairs[0][0][1])"
   ]
  },
  {
   "cell_type": "code",
   "execution_count": 30,
   "id": "7f9c79a3",
   "metadata": {},
   "outputs": [
    {
     "name": "stdout",
     "output_type": "stream",
     "text": [
      "5272\n"
     ]
    }
   ],
   "source": [
    "prum=0\n",
    "for ev in range(nevents):\n",
    "    if (len(xiPairs[ev])==NP[ev]):\n",
    "        prum=prum+1\n",
    "        \n",
    "print(prum)"
   ]
  },
  {
   "cell_type": "code",
   "execution_count": 31,
   "id": "e9a78624",
   "metadata": {
    "scrolled": true
   },
   "outputs": [],
   "source": [
    "xiM=np.ones(nevents)\n",
    "xim=np.ones(nevents)\n",
    "yP=np.zeros(nevents)\n",
    "mpp=np.zeros(nevents)\n",
    "diff1=np.zeros(nevents)\n",
    "diff2=np.zeros(nevents)\n",
    "\n",
    "mppt=[]\n",
    "mppt_sm=[]\n",
    "diff1t=[]\n",
    "diff2t=[]\n",
    "diff1t_sm=[]\n",
    "diff2t_sm=[]\n",
    "\n",
    "\n",
    "for ev in range(nevents):\n",
    "\n",
    "    for i in range(NP[ev]):\n",
    "\n",
    "        if ((xiPairs[ev][i][0]-((sumET[ev]+sumTPz[ev])/14000))**2 + (xiPairs[ev][i][1]-((sumET[ev]-sumTPz[ev])/14000))**2) < ((xiM[ev]-((sumET[ev]+sumTPz[ev])/14000))**2 + (xim[ev]-((sumET[ev]-sumTPz[ev])/14000))**2):\n",
    "\n",
    "            xiM[ev]=xiPairs[ev][i][0]\n",
    "            xim[ev]=xiPairs[ev][i][1]\n",
    "            mpp[ev]=14000.*np.sqrt(xiPairs[ev][i][0]*xiPairs[ev][i][1])\n",
    "            yP[ev]=-0.5*np.log(xiM[ev]/xim[ev])\n",
    "            diff1[ev]=xiPairs[ev][i][0]-((sumET[ev]+sumTPz[ev])/14000)\n",
    "            diff2[ev]=xiPairs[ev][i][1]-((sumET[ev]-sumTPz[ev])/14000)\n"
   ]
  },
  {
   "cell_type": "code",
   "execution_count": 32,
   "id": "fcecf334",
   "metadata": {
    "scrolled": false
   },
   "outputs": [
    {
     "name": "stdout",
     "output_type": "stream",
     "text": [
      "[209.31876808 179.85787614 420.04385852 ... 305.00744445 378.69624905\n",
      " 220.04057879]\n",
      "[0.017175   0.00014197 0.02920383 ... 0.03658707 0.00392848 0.01474295]\n",
      "[-1.00794344e-04  2.20762307e-05  2.87113185e-04 ... -4.57605493e-05\n",
      "  6.34452775e-02  2.26695018e-04]\n"
     ]
    }
   ],
   "source": [
    "print(mpp)\n",
    "print(diff1)\n",
    "print(diff2)"
   ]
  },
  {
   "cell_type": "code",
   "execution_count": 80,
   "id": "58f6d34b",
   "metadata": {},
   "outputs": [
    {
     "data": {
      "image/png": "[encoded data removed]",
      "text/plain": [
       "<Figure size 432x288 with 1 Axes>"
      ]
     },
     "metadata": {
      "needs_background": "light"
     },
     "output_type": "display_data"
    },
    {
     "data": {
      "text/plain": [
       "<Figure size 432x288 with 0 Axes>"
      ]
     },
     "metadata": {},
     "output_type": "display_data"
    }
   ],
   "source": [
    "import matplotlib.pyplot as plt\n",
    "import numpy as np\n",
    "\n",
    "# Fixing random state for reproducibility\n",
    "np.random.seed(19680801)\n",
    "\n",
    "plt.scatter(mpp, mllt)\n",
    "plt.xlabel(\"mpp\")\n",
    "plt.ylabel(\"mllt\")\n",
    "plt.show()\n",
    "plt.savefig('InvariantMassCorrXiCriteria.png')"
   ]
  },
  {
   "cell_type": "code",
   "execution_count": 34,
   "id": "4fb19b6b",
   "metadata": {},
   "outputs": [
    {
     "data": {
      "image/png": "[encoded data removed]",
      "text/plain": [
       "<Figure size 432x288 with 1 Axes>"
      ]
     },
     "metadata": {
      "needs_background": "light"
     },
     "output_type": "display_data"
    },
    {
     "data": {
      "text/plain": [
       "<Figure size 432x288 with 0 Axes>"
      ]
     },
     "metadata": {},
     "output_type": "display_data"
    }
   ],
   "source": [
    "np.random.seed(19680801)\n",
    "\n",
    "plt.scatter(yP, ylt)\n",
    "plt.xlabel(\"yP\")\n",
    "plt.ylabel(\"yM\")\n",
    "plt.show()\n",
    "plt.savefig('RapidityCorrXiCriteria.png')"
   ]
  },
  {
   "cell_type": "code",
   "execution_count": 35,
   "id": "eaceda54",
   "metadata": {},
   "outputs": [
    {
     "data": {
      "image/png": "[encoded data removed]",
      "text/plain": [
       "<Figure size 432x288 with 1 Axes>"
      ]
     },
     "metadata": {
      "needs_background": "light"
     },
     "output_type": "display_data"
    }
   ],
   "source": [
    "plt.hist2d(yP, ylt, bins=25)\n",
    "plt.xlabel(\"yP\")\n",
    "plt.ylabel(\"yM\")\n",
    "plt.show()"
   ]
  },
  {
   "cell_type": "code",
   "execution_count": 36,
   "id": "41abb821",
   "metadata": {},
   "outputs": [],
   "source": [
    "import matplotlib.pyplot as plt\n",
    "import mplhep as hep\n",
    "from matplotlib.colors import LogNorm"
   ]
  },
  {
   "cell_type": "code",
   "execution_count": 37,
   "id": "c34e2d6b",
   "metadata": {},
   "outputs": [
    {
     "data": {
      "text/plain": [
       "[Text(0.5, 24.0, 'DiffXi1'), Text(53.5, 0.5, 'number of entries')]"
      ]
     },
     "execution_count": 37,
     "metadata": {},
     "output_type": "execute_result"
    },
    {
     "data": {
      "image/png": "[encoded data removed]",
      "text/plain": [
       "<Figure size 720x360 with 1 Axes>"
      ]
     },
     "metadata": {
      "needs_background": "light"
     },
     "output_type": "display_data"
    }
   ],
   "source": [
    "#lets draw hisgorgam of number of muons:\n",
    "f, ax = plt.subplots(figsize=(10,5))\n",
    "plt.hist(diff1, bins=np.linspace(-0.1,0.1,100),label='DiffXi1')\n",
    "hep.cms.label(llabel=\"Preliminary\", rlabel=\"Summer 2021\", ax=ax)\n",
    "ax.legend(); \n",
    "ax.set(xlabel='DiffXi1', ylabel='number of entries')\n",
    "#plt.savefig('number_muons_signal.png')"
   ]
  },
  {
   "cell_type": "code",
   "execution_count": 38,
   "id": "880bf3f8",
   "metadata": {},
   "outputs": [
    {
     "data": {
      "text/plain": [
       "[Text(0.5, 24.0, 'DiffXi2'), Text(53.5, 0.5, 'number of entries')]"
      ]
     },
     "execution_count": 38,
     "metadata": {},
     "output_type": "execute_result"
    },
    {
     "data": {
      "image/png": "[encoded data removed]",
      "text/plain": [
       "<Figure size 720x360 with 1 Axes>"
      ]
     },
     "metadata": {
      "needs_background": "light"
     },
     "output_type": "display_data"
    }
   ],
   "source": [
    "#lets draw hisgorgam of number of muons:\n",
    "f, ax = plt.subplots(figsize=(10,5))\n",
    "plt.hist(diff2, bins=np.linspace(-0.1,0.1,100),label='DiffXi2')\n",
    "hep.cms.label(llabel=\"Preliminary\", rlabel=\"Summer 2021\", ax=ax)\n",
    "ax.legend(); \n",
    "ax.set(xlabel='DiffXi2', ylabel='number of entries')\n",
    "#plt.savefig('number_muons_signal.png')\n",
    "    "
   ]
  },
  {
   "cell_type": "code",
   "execution_count": 39,
   "id": "56e77238",
   "metadata": {},
   "outputs": [],
   "source": [
    "mppt=np.zeros(nevents)\n",
    "mppt_sm=np.zeros(nevents)\n",
    "diff1t=np.zeros(nevents)\n",
    "diff2t=np.zeros(nevents)\n",
    "diff1t_sm=np.zeros(nevents)\n",
    "diff2t_sm=np.zeros(nevents)\n",
    "\n",
    "xiMt=np.zeros(nevents)\n",
    "ximt=np.zeros(nevents)\n",
    "xiMt_sm=np.zeros(nevents)\n",
    "ximt_sm=np.zeros(nevents)\n",
    "tMt=np.zeros(nevents)\n",
    "tmt=np.zeros(nevents)\n",
    "tMt_sm=np.zeros(nevents)\n",
    "tmt_sm=np.zeros(nevents)\n",
    "difzT=np.zeros(nevents)-100\n",
    "difzT_sm=np.zeros(nevents)-100\n",
    "difzT1_sm=np.zeros(nevents)\n",
    "difzT2_sm=np.zeros(nevents)\n",
    "yPtsm=np.zeros(nevents)\n",
    "yPt=np.zeros(nevents)\n",
    "sumTs=np.zeros(nevents)"
   ]
  },
  {
   "cell_type": "code",
   "execution_count": 40,
   "id": "a3197a23",
   "metadata": {},
   "outputs": [],
   "source": [
    "sumTsnsm=np.zeros(nevents)"
   ]
  },
  {
   "cell_type": "code",
   "execution_count": 41,
   "id": "be8cfdde",
   "metadata": {
    "scrolled": false
   },
   "outputs": [
    {
     "name": "stderr",
     "output_type": "stream",
     "text": [
      "100%|██████████| 5272/5272 [00:18<00:00, 279.41it/s]\n"
     ]
    }
   ],
   "source": [
    "NumDZT=0\n",
    "c=30\n",
    "\n",
    "for k in tqdm(range(nevents)):\n",
    "    #print(k)\n",
    "    if len(xiPairs[k])>0:\n",
    "        xiMt[k]=xiPairs[k][0][0]\n",
    "        ximt[k]=xiPairs[k][0][1]\n",
    "        tMt[k]=tPairs[k][0][0]\n",
    "        tmt[k]=tPairs[k][0][1]\n",
    "        mppt[k]=14000.*np.sqrt(xiPairs[k][0][0]*xiPairs[k][0][1])\n",
    "        diff1t[k]=xiPairs[k][0][0]-((sumET[k]+sumTPz[k])/14000)\n",
    "        diff2t[k]=xiPairs[k][0][1]-((sumET[k]-sumTPz[k])/14000)\n",
    "        difzT[k]=Tmu_z[k][0]-0.5*c*(tPairs[k][0][1]-tPairs[k][0][0])\n",
    "        yPt[k]=-0.5*np.log(xiMt[k]/ximt[k])\n",
    "        sumTsnsm[k]=(tMt[k]+tmt[k])*c-2*23400\n",
    "        Dzt=[]\n",
    "        for i in range (NP[k]):\n",
    "            Dzt=((Tmu_z[k][0]-0.5*c*(tPairs[k][i][1]-tPairs[k][i][0])))\n",
    "            #print(i,Tmu_z[k][0],0.5*c*(tPairs[k][i][1]-tPairs[k][i][0]))\n",
    "            if Dzt**2 < (Tmu_z[k][0]-0.5*c*(tmt[k]-tMt[k]))**2:\n",
    "                #print(k,i,Tmu_z[k][0],0.5*c*(tPairs[k][i][1]-tPairs[k][i][0]))\n",
    "                xiMt[k]=xiPairs[k][i][0]\n",
    "                ximt[k]=xiPairs[k][i][1]\n",
    "                tMt[k]=tPairs[k][i][0]\n",
    "                tmt[k]=tPairs[k][i][1]\n",
    "                mppt[k]=14000.*np.sqrt(xiPairs[k][i][0]*xiPairs[k][i][1])\n",
    "                diff1t[k]=xiPairs[k][i][0]-((sumET[k]+sumTPz[k])/14000)\n",
    "                diff2t[k]=xiPairs[k][i][1]-((sumET[k]-sumTPz[k])/14000)\n",
    "                difzT[k]=Tmu_z[k][0]-0.5*c*(tPairs[k][i][1]-tPairs[k][i][0])\n",
    "                yPt[k]=-0.5*np.log(xiMt[k]/ximt[k])\n",
    "                sumTsnsm[k]=(tMt[k]+tmt[k])*c-2*23400\n",
    "                #print(k,Tmu_z[k][0])\n",
    "                \n",
    "    if difzT[k]==0:\n",
    "        NumDZT=NumDZT+1\n",
    "                #print(i,0.5*c*(tPairs[k][i][1]-tPairs[k][i][0]))"
   ]
  },
  {
   "cell_type": "code",
   "execution_count": null,
   "id": "3937f185",
   "metadata": {},
   "outputs": [],
   "source": []
  },
  {
   "cell_type": "code",
   "execution_count": null,
   "id": "8206c84b",
   "metadata": {},
   "outputs": [],
   "source": []
  },
  {
   "cell_type": "code",
   "execution_count": 42,
   "id": "3b6d6665",
   "metadata": {},
   "outputs": [
    {
     "name": "stderr",
     "output_type": "stream",
     "text": [
      "100%|██████████| 5272/5272 [00:18<00:00, 284.67it/s]\n"
     ]
    }
   ],
   "source": [
    "NumDZT_sm=0\n",
    "NumST_sm=0\n",
    "c=30\n",
    "\n",
    "for k in tqdm(range(nevents)):\n",
    "    #print(k)\n",
    "    if len(xiPairs[k])>0:\n",
    "        xiMt_sm[k]=xiPairs[k][0][0]\n",
    "        ximt_sm[k]=xiPairs[k][0][1]        \n",
    "        tMt_sm[k]=t_smPairs[k][0][0]\n",
    "        tmt_sm[k]=t_smPairs[k][0][1]\n",
    "        mppt_sm[k]=14000.*np.sqrt(xiPairs[k][0][0]*xiPairs[k][0][1])\n",
    "        diff1t_sm[k]=xiPairs[k][0][0]-((sumET[k]+sumTPz[k])/14000)\n",
    "        diff2t_sm[k]=xiPairs[k][0][1]-((sumET[k]-sumTPz[k])/14000)\n",
    "        difzT_sm[k]=Tmu_z[k][0]-0.5*c*(t_smPairs[k][0][1]-t_smPairs[k][0][0])   \n",
    "        Dzt=[]\n",
    "        yPtsm[k]=-0.5*np.log(xiMt_sm[k]/ximt_sm[k])        \n",
    "        sumTs[k]=(tMt_sm[k]+tmt_sm[k])*c-2*23400\n",
    "        \n",
    "        for i in range (NP[k]):\n",
    "            Dzt=((Tmu_z[k][0]-0.5*c*(t_smPairs[k][i][1]-t_smPairs[k][i][0])))\n",
    "            #print(i,Tmu_z[k][0],0.5*c*(tPairs[k][i][1]-tPairs[k][i][0]))\n",
    "            if Dzt**2 < (Tmu_z[k][0]-0.5*c*(tmt_sm[k]-tMt_sm[k]))**2:\n",
    "                #print(k,i,Tmu_z[k][0],0.5*c*(tPairs[k][i][1]-tPairs[k][i][0]))\n",
    "                xiMt_sm[k]=xiPairs[k][i][0]\n",
    "                ximt_sm[k]=xiPairs[k][i][1]\n",
    "                tMt_sm[k]=t_smPairs[k][i][0]\n",
    "                tmt_sm[k]=t_smPairs[k][i][1]\n",
    "                mppt_sm[k]=14000.*np.sqrt(xiPairs[k][i][0]*xiPairs[k][i][1])\n",
    "                diff1t_sm[k]=xiPairs[k][i][0]-((sumET[k]+sumTPz[k])/14000)\n",
    "                diff2t_sm[k]=xiPairs[k][i][1]-((sumET[k]-sumTPz[k])/14000)\n",
    "                \n",
    "                yPtsm[k]=-0.5*np.log(xiMt_sm[k]/ximt_sm[k])\n",
    "                \n",
    "                sumTs[k]=(tMt_sm[k]+tmt_sm[k])*c-2*23400\n",
    "#                difzT1_sm[k]=Tmu_T[k][0]-(t_smPairs[k][i][0]-(23400-Tmu_z[k][0])/c)\n",
    "#                difzT2_sm[k]=Tmu_T[k][0]-(t_smPairs[k][i][1]-(23400-Tmu_z[k][0])/c)                \n",
    "                difzT_sm[k]=Tmu_z[k][0]-0.5*c*(t_smPairs[k][i][1]-t_smPairs[k][i][0])\n",
    "                #print(k,Tmu_z[k][0])\n",
    "                \n",
    "    if difzT_sm[k]==0:\n",
    "        NumDZT_sm=NumDZT_sm+1\n",
    "        \n",
    "    if sumTs[k]==0:\n",
    "        NumST_sm=NumST_sm+1\n",
    "                #print(i,0.5*c*(tPairs[k][i][1]-tPairs[k][i][0]))"
   ]
  },
  {
   "cell_type": "code",
   "execution_count": null,
   "id": "0b93bfca",
   "metadata": {},
   "outputs": [],
   "source": []
  },
  {
   "cell_type": "code",
   "execution_count": null,
   "id": "a4c620f8",
   "metadata": {
    "scrolled": false
   },
   "outputs": [],
   "source": []
  },
  {
   "cell_type": "code",
   "execution_count": 43,
   "id": "a45e3b7d",
   "metadata": {},
   "outputs": [
    {
     "name": "stdout",
     "output_type": "stream",
     "text": [
      "20\n",
      "0\n",
      "0\n"
     ]
    }
   ],
   "source": [
    "len(xiMt)\n",
    "print(NumDZT)\n",
    "print(NumDZT_sm)\n",
    "print(NumST_sm)"
   ]
  },
  {
   "cell_type": "code",
   "execution_count": null,
   "id": "f8e6c169",
   "metadata": {},
   "outputs": [],
   "source": []
  },
  {
   "cell_type": "code",
   "execution_count": 44,
   "id": "80a90125",
   "metadata": {
    "scrolled": false
   },
   "outputs": [
    {
     "data": {
      "text/plain": [
       "[Text(0.5, 24.0, 'DiffzT'), Text(59.875, 0.5, 'number of entries')]"
      ]
     },
     "execution_count": 44,
     "metadata": {},
     "output_type": "execute_result"
    },
    {
     "data": {
      "image/png": "[encoded data removed]",
      "text/plain": [
       "<Figure size 720x360 with 1 Axes>"
      ]
     },
     "metadata": {
      "needs_background": "light"
     },
     "output_type": "display_data"
    }
   ],
   "source": [
    "#lets draw hisgorgam of number of muons:\n",
    "f, ax = plt.subplots(figsize=(10,5))\n",
    "plt.hist(difzT, bins=np.linspace(-10,10,100),label='DiffzT')\n",
    "hep.cms.label(llabel=\"Preliminary\", rlabel=\"Summer 2021\", ax=ax)\n",
    "ax.legend(); \n",
    "ax.set(xlabel='DiffzT', ylabel='number of entries')\n",
    "#plt.savefig('VtxZ-TimeDiff XiSmear.png')"
   ]
  },
  {
   "cell_type": "code",
   "execution_count": 45,
   "id": "45b2c84c",
   "metadata": {
    "scrolled": false
   },
   "outputs": [
    {
     "data": {
      "text/plain": [
       "[Text(0.5, 24.0, 'DiffzT_tsmear'), Text(59.875, 0.5, 'number of entries')]"
      ]
     },
     "execution_count": 45,
     "metadata": {},
     "output_type": "execute_result"
    },
    {
     "data": {
      "image/png": "[encoded data removed]",
      "text/plain": [
       "<Figure size 720x360 with 1 Axes>"
      ]
     },
     "metadata": {
      "needs_background": "light"
     },
     "output_type": "display_data"
    }
   ],
   "source": [
    "#lets draw hisgorgam of number of muons:\n",
    "f, ax = plt.subplots(figsize=(10,5))\n",
    "plt.hist(difzT_sm, bins=np.linspace(-10,10,100),label='DiffzT_tsmear')\n",
    "hep.cms.label(llabel=\"Preliminary\", rlabel=\"Summer 2022\", ax=ax)\n",
    "ax.legend(); \n",
    "ax.set(xlabel='DiffzT_tsmear', ylabel='number of entries')\n",
    "#plt.savefig('VtxZ-TimeDiff Xi&TSmear.png')"
   ]
  },
  {
   "cell_type": "code",
   "execution_count": null,
   "id": "c124abb6",
   "metadata": {},
   "outputs": [],
   "source": []
  },
  {
   "cell_type": "code",
   "execution_count": null,
   "id": "253bb63d",
   "metadata": {},
   "outputs": [],
   "source": []
  },
  {
   "cell_type": "code",
   "execution_count": null,
   "id": "3f8ec8f1",
   "metadata": {},
   "outputs": [],
   "source": []
  },
  {
   "cell_type": "code",
   "execution_count": 46,
   "id": "e1a7cb5f",
   "metadata": {
    "scrolled": false
   },
   "outputs": [
    {
     "data": {
      "image/png": "[encoded data removed]",
      "text/plain": [
       "<Figure size 432x288 with 1 Axes>"
      ]
     },
     "metadata": {
      "needs_background": "light"
     },
     "output_type": "display_data"
    }
   ],
   "source": [
    "import matplotlib.pyplot as plt\n",
    "import numpy as np\n",
    "\n",
    "# Fixing random state for reproducibility\n",
    "np.random.seed(19680801)\n",
    "\n",
    "plt.scatter(mppt, mllt)\n",
    "plt.xlabel(\"mppt\")\n",
    "plt.ylabel(\"mllt\")\n",
    "plt.show()"
   ]
  },
  {
   "cell_type": "code",
   "execution_count": 47,
   "id": "0a9ccee2",
   "metadata": {},
   "outputs": [
    {
     "data": {
      "image/png": "[encoded data removed]",
      "text/plain": [
       "<Figure size 432x288 with 1 Axes>"
      ]
     },
     "metadata": {
      "needs_background": "light"
     },
     "output_type": "display_data"
    }
   ],
   "source": [
    "import matplotlib.pyplot as plt\n",
    "import numpy as np\n",
    "\n",
    "# Fixing random state for reproducibility\n",
    "np.random.seed(19680801)\n",
    "\n",
    "plt.scatter(mppt_sm, mllt)\n",
    "plt.xlabel(\"mppt_sm\")\n",
    "plt.ylabel(\"mllt\")\n",
    "plt.show()"
   ]
  },
  {
   "cell_type": "code",
   "execution_count": 48,
   "id": "bac10d91",
   "metadata": {},
   "outputs": [
    {
     "data": {
      "image/png": "[encoded data removed]",
      "text/plain": [
       "<Figure size 432x288 with 1 Axes>"
      ]
     },
     "metadata": {
      "needs_background": "light"
     },
     "output_type": "display_data"
    }
   ],
   "source": [
    "# Fixing random state for reproducibility\n",
    "np.random.seed(19680801)\n",
    "\n",
    "plt.scatter(yPtsm, ylt)\n",
    "plt.xlabel(\"yPsm\")\n",
    "plt.ylabel(\"ylt\")\n",
    "plt.show()"
   ]
  },
  {
   "cell_type": "code",
   "execution_count": 49,
   "id": "7709026e",
   "metadata": {},
   "outputs": [
    {
     "data": {
      "image/png": "[encoded data removed]",
      "text/plain": [
       "<Figure size 432x288 with 1 Axes>"
      ]
     },
     "metadata": {
      "needs_background": "light"
     },
     "output_type": "display_data"
    }
   ],
   "source": [
    "plt.hist2d(yPtsm, ylt, bins=25)\n",
    "plt.xlabel(\"yPsm\")\n",
    "plt.ylabel(\"ylt\")\n",
    "plt.show()"
   ]
  },
  {
   "cell_type": "code",
   "execution_count": 50,
   "id": "12632582",
   "metadata": {},
   "outputs": [
    {
     "name": "stdout",
     "output_type": "stream",
     "text": [
      "[0.01961789 0.01487087 0.02971607 ... 0.03886652 0.01112667 0.01633813]\n",
      "[0.01139483 0.01109856 0.03029297 ... 0.01221207 0.06575986 0.01511983]\n",
      "[0.01961789 0.01487087 0.1414212  ... 0.13175414 0.01798679 0.01633813]\n",
      "[0.1215023  0.01109856 0.06796519 ... 0.0156666  0.16394377 0.01511983]\n"
     ]
    }
   ],
   "source": [
    "print(xiM)\n",
    "print(xim)\n",
    "print(xiMt)\n",
    "print(ximt)"
   ]
  },
  {
   "cell_type": "code",
   "execution_count": 51,
   "id": "037d71ba",
   "metadata": {},
   "outputs": [
    {
     "name": "stdout",
     "output_type": "stream",
     "text": [
      "5272\n",
      "5272\n"
     ]
    }
   ],
   "source": [
    "print(len(xiM))\n",
    "print(len(xiMt))"
   ]
  },
  {
   "cell_type": "code",
   "execution_count": 52,
   "id": "b0944cbd",
   "metadata": {},
   "outputs": [],
   "source": [
    "XIM=np.zeros(nevents)\n",
    "XIm=np.zeros(nevents)\n",
    "TMt=np.zeros(nevents)\n",
    "Tmt=np.zeros(nevents)\n",
    "\n",
    "numnz=0\n",
    "XIMnsm=np.zeros(nevents)\n",
    "XImnsm=np.zeros(nevents)\n",
    "numnznsm=0"
   ]
  },
  {
   "cell_type": "code",
   "execution_count": 53,
   "id": "58f186c3",
   "metadata": {},
   "outputs": [],
   "source": [
    "TMtnsm=np.zeros(nevents)\n",
    "Tmtnsm=np.zeros(nevents)"
   ]
  },
  {
   "cell_type": "code",
   "execution_count": 54,
   "id": "ccc4e835",
   "metadata": {},
   "outputs": [
    {
     "name": "stderr",
     "output_type": "stream",
     "text": [
      "100%|██████████| 5272/5272 [00:00<00:00, 704193.20it/s]\n"
     ]
    }
   ],
   "source": [
    "for i in tqdm(range(nevents)):\n",
    "    #print(k)\n",
    "    if xiM[i]==xiMt_sm[i] and xim[i]==ximt_sm[i]:\n",
    "        XIM[i]=xiM[i]\n",
    "        XIm[i]=xim[i]\n",
    "        TMt[i]=tMt_sm[i]\n",
    "        Tmt[i]=tmt_sm[i]\n",
    "        numnz=numnz+1"
   ]
  },
  {
   "cell_type": "code",
   "execution_count": 55,
   "id": "0c6867d4",
   "metadata": {},
   "outputs": [
    {
     "name": "stderr",
     "output_type": "stream",
     "text": [
      "100%|██████████| 5272/5272 [00:00<00:00, 774432.48it/s]\n"
     ]
    }
   ],
   "source": [
    "for i in tqdm(range(nevents)):\n",
    "    #print(k)\n",
    "    if xiM[i]==xiMt[i] and xim[i]==ximt[i]:\n",
    "        XIMnsm[i]=xiM[i]\n",
    "        XImnsm[i]=xim[i]\n",
    "        TMtnsm[i]=tMt[i]\n",
    "        Tmtnsm[i]=tmt[i]\n",
    "        numnznsm=numnznsm+1"
   ]
  },
  {
   "cell_type": "code",
   "execution_count": 56,
   "id": "21ce837b",
   "metadata": {},
   "outputs": [
    {
     "name": "stdout",
     "output_type": "stream",
     "text": [
      "[0.         0.01487087 0.         ... 0.         0.         0.01633813]\n",
      "677\n",
      "[0.         0.01487087 0.         ... 0.         0.         0.01633813]\n",
      "722\n"
     ]
    }
   ],
   "source": [
    "print(XIM)\n",
    "print(numnz)\n",
    "print(XIMnsm)\n",
    "print(numnznsm)"
   ]
  },
  {
   "cell_type": "code",
   "execution_count": 57,
   "id": "389a3fc5",
   "metadata": {},
   "outputs": [
    {
     "name": "stdout",
     "output_type": "stream",
     "text": [
      "0.0677\n",
      "0.0722\n"
     ]
    }
   ],
   "source": [
    "MPP=[]\n",
    "MLL=[]\n",
    "M=[]\n",
    "YPP=[]\n",
    "YLL=[]\n",
    "Y=[]\n",
    "CTDif=[]\n",
    "Muz=[]\n",
    "Mut=[]\n",
    "ST=[]\n",
    "\n",
    "for i in range (nevents):\n",
    "    if (XIM[i]!=0) and (TMu2_pt[i]>0):\n",
    "        MPP.append(14000.*np.sqrt(XIM[i]*XIm[i]))\n",
    "        MLL.append(mllt[i])\n",
    "        YPP.append(-0.5*np.log(XIM[i]/XIm[i]))\n",
    "        YLL.append(ylt[i])\n",
    "        CTDif.append(0.5*c*(TMt[i]-Tmt[i]))\n",
    "        Muz.append(Tmu_z[i][0])\n",
    "        Mut.append(Tmu_T[i][0])\n",
    "        ST.append((0.5*sumTs[i])/c)\n",
    "    \n",
    "print(len(MPP)/10000)\n",
    "for i in range (len(MPP)):\n",
    "    M.append((MPP[i]-MLL[i])/(MPP[i]+MLL[i]))\n",
    "    Y.append((YPP[i]-YLL[i])) #/(YPP[i]+YLL[i]))\n",
    "\n",
    "\n",
    "MPPnsm=[]\n",
    "MLLnsm=[]\n",
    "Mnsm=[]\n",
    "YPPnsm=[]\n",
    "YLLnsm=[]\n",
    "Ynsm=[]\n",
    "CTDifnsm=[]\n",
    "Muznsm=[]\n",
    "Mutnsm=[]\n",
    "STnsm=[]\n",
    "for i in range (nevents):\n",
    "    if (XIMnsm[i]!=0) and (TMu2_pt[i]>0):\n",
    "        MPPnsm.append(14000.*np.sqrt(XIMnsm[i]*XImnsm[i]))\n",
    "        MLLnsm.append(mllt[i])\n",
    "        CTDifnsm.append(0.5*c*(TMtnsm[i]-Tmtnsm[i]))\n",
    "        Muznsm.append(Tmu_z[i][0])\n",
    "        Mutnsm.append(Tmu_T[i][0])\n",
    "        STnsm.append((0.5*sumTsnsm[i])/c)\n",
    "print(len(MPPnsm)/10000)\n",
    "for i in range (len(MPPnsm)):\n",
    "    Mnsm.append((MPPnsm[i]-MLLnsm[i])/(MPPnsm[i]+MLLnsm[i]))\n",
    "\n"
   ]
  },
  {
   "cell_type": "code",
   "execution_count": 58,
   "id": "efcec85e",
   "metadata": {
    "scrolled": true
   },
   "outputs": [
    {
     "name": "stdout",
     "output_type": "stream",
     "text": [
      "[-1.01651178e+02  1.90767898e+01 -6.09719364e+01  1.61162668e+02\n",
      "  1.56460995e+02  3.49871688e+01 -2.26406250e+01 -1.65073605e+02\n",
      "  1.70722116e+01 -1.16056200e+00  3.75147214e+01  1.43547656e+01\n",
      "  1.29120605e+02 -9.87230116e+01 -3.51156200e+01  3.76586584e+01\n",
      " -1.29916094e+02 -5.41808693e+01 -4.26486370e+00 -1.27882044e+01\n",
      " -1.28955467e+01 -8.16234947e+01 -4.16704137e+00 -3.07196776e+01\n",
      " -1.38742726e+02  2.92481664e+00 -2.83143623e+01 -1.34698892e+02\n",
      " -1.03606384e+02 -8.79223883e+00  1.84972568e+00  5.97770587e+01\n",
      " -7.18379133e+01  2.58757466e+01 -2.17755561e+00 -4.74952400e+01\n",
      " -5.09573544e+00 -1.62267892e+01 -5.34473354e+01 -1.22071087e+01\n",
      " -2.12917244e+01 -7.74547796e+00  1.74290152e+01 -4.19570688e+00\n",
      " -7.24267383e+01  2.91228232e+01 -7.40125517e+01  1.01354831e+02\n",
      "  2.30565240e+01  4.10027894e+00 -1.92002705e+01 -4.91729121e+01\n",
      " -5.33303358e+00  2.61719118e+01  5.93606819e-01 -7.63837715e+01\n",
      " -3.68436252e+01  3.72288177e+00 -1.08969643e+02 -9.86826385e+01\n",
      " -1.48110025e+01 -6.38511746e+01 -1.40740481e+02  6.81554786e+01\n",
      " -2.88186054e+01  7.86817956e+00  3.72705938e-01 -6.48381148e+01\n",
      "  1.69983010e+02  6.04932028e+01  2.49083237e+01 -5.63642886e+01\n",
      " -1.33218671e+01 -8.57393698e+00 -1.10363843e+01  2.41623808e+01\n",
      "  4.85282669e+01  3.02458889e+01 -3.55667862e+00 -1.85838105e+02\n",
      " -7.10670107e+01 -8.27974821e+01  2.59498284e+01  1.13509298e+01\n",
      " -2.09227839e+00 -8.06254488e+01 -1.00010231e+02  3.76082336e+01\n",
      " -3.45104897e+01 -1.95940166e+00  5.88272022e+01 -1.64226260e+01\n",
      " -7.74990700e+01 -1.18716895e+00  1.34797812e+01  3.59170436e+01\n",
      " -2.36834626e+01 -7.90960924e-01  5.08059061e+01 -1.27019419e+02\n",
      " -8.81516107e+01  7.03783098e+01  3.78840056e+01 -4.91029746e+01\n",
      "  7.96253332e+01  2.22509964e+01 -9.05530680e+01  8.04950718e+00\n",
      " -2.81838313e+01 -6.53323460e+01 -1.75505297e+00 -9.94772044e+01\n",
      " -9.40730598e+00 -1.90849136e+01 -1.76914342e+01 -2.13292828e+01\n",
      "  1.17519458e+01  2.36158799e+01  1.10660628e+02  1.03902466e+02\n",
      "  2.81952552e+01  5.50379828e+01 -7.14608992e+01  8.44384145e+01\n",
      " -3.30340034e+01  4.25508385e+01  6.36432078e+00 -1.00454873e+02\n",
      "  2.17231009e+00  4.44762562e+01  2.89063670e+00  5.59669155e+01\n",
      "  1.44498925e+01 -2.15003556e+01 -6.79174946e+00  1.50325954e+00\n",
      "  1.19101166e+01  1.42524314e+01 -4.80148658e+01  1.03623192e+01\n",
      "  4.92952406e+00  1.25120288e+02  1.50022803e+02 -7.99714817e+01\n",
      "  4.61969761e+01  7.37961647e+01 -1.02308874e+01 -1.11381886e+02\n",
      "  8.17363955e+01 -4.51240564e+01  1.20371639e+02  7.68660431e+01\n",
      " -3.37347071e+01 -3.60047664e+01  1.19189905e+01  1.05377049e+02\n",
      "  5.20719892e+01  6.56411392e+00  9.74537696e+00  6.30067842e-01\n",
      "  1.28752242e+02  7.59559962e+01 -7.44921563e+00 -3.22405226e+01\n",
      "  2.22773269e+02 -9.40959129e+01 -1.24461883e+02  3.97319643e+01\n",
      "  1.17049878e+00  4.46959813e+01 -7.90393175e+00  5.11134907e+01\n",
      "  3.86954396e+01 -1.65059145e+02 -6.74292163e+01  3.14513400e+01\n",
      "  1.92483802e+02  5.81200369e+01  1.93862415e+01 -1.95160466e+00\n",
      "  6.49236785e+01 -2.00033470e+01  3.91752977e+00  1.64822495e+01\n",
      " -1.62947667e+02 -4.71074716e+00  7.18044389e+01  2.36443180e+01\n",
      " -1.08332197e+02 -2.08034986e+01  3.81152095e+01 -4.32137997e+01\n",
      "  2.25183443e+01 -3.32560948e+01 -2.44177507e+02  6.21806996e+00\n",
      "  9.97149005e+00 -3.86159174e+01  1.56776964e+02 -1.35797587e+01\n",
      " -4.93496648e+01 -5.86693554e+01 -2.35300527e-01  6.81568819e+00\n",
      " -1.11015094e+02  1.10661910e+01 -2.30368021e+01  7.74775284e+01\n",
      "  4.70087605e+01  6.82107681e+01  5.40017966e+01 -1.58520214e+02\n",
      " -9.79979016e+01 -1.56904364e+02 -1.03525179e+01  9.27957643e+00\n",
      " -6.25039095e+00 -6.99128132e+01  1.30491336e+02  1.00157844e+02\n",
      " -5.10370809e+01 -5.79396827e+01  8.16738915e+01  8.85358709e-01\n",
      " -9.00138885e+01  4.67774087e+01  1.34855937e+00  1.95821814e+01\n",
      "  3.80398211e+01  6.33250507e+01  9.20344000e+01 -1.07022419e+02\n",
      "  1.51108643e+01  1.27957317e+01  1.08335710e+01 -1.11136079e+02\n",
      "  1.41124271e+01 -5.34453229e+01 -5.39595697e+01  3.69915456e+01\n",
      " -2.11928154e+01  5.62294706e+01  1.64037281e+02 -3.71479663e+00\n",
      " -8.55286886e+01  6.35617537e+00 -6.02248362e-01  7.45139263e+01\n",
      " -2.07575895e+01 -4.87573276e-01  6.03478463e+01 -6.22635110e+01\n",
      "  1.36689558e+02  1.77317163e+01 -3.26028545e+01 -7.13450675e+00\n",
      "  1.25267827e+01 -1.06544534e+00  1.37547486e+00  7.29727204e+01\n",
      "  1.10313328e+01  1.25398037e+02  3.91573806e+01 -9.42343160e+00\n",
      "  6.74507254e+01 -4.37828824e+01 -5.67993409e+01 -8.76737970e+01\n",
      " -2.18516642e+01  2.30179482e+01 -4.43656145e+01 -1.16029983e+02\n",
      "  1.44400849e+01  1.01466800e+01 -3.16603533e+02 -8.77520595e+01\n",
      "  2.75022355e+01  2.09946207e+01  1.03249525e+01 -6.84124054e+00\n",
      " -9.98261677e+01  1.19089766e+02  6.78624996e+00 -5.69034260e+01\n",
      " -2.06084561e+01 -5.72340304e+01  2.24919079e+01 -9.73694821e+01\n",
      "  1.92819392e+02  1.84226525e+01  2.31510653e+01  2.11779245e+01\n",
      "  7.17156697e+01 -7.41081940e+01  3.05954303e+01 -5.71008881e+01\n",
      " -7.15560911e+01  3.02944802e+01 -6.64857229e+01  1.49070781e+01\n",
      "  6.79835961e+01  3.73520596e+01 -6.21122669e+01 -9.38290046e+01\n",
      " -3.79937392e+00  3.82023112e+01  1.00140626e+02 -3.36263543e+01\n",
      "  7.73462884e+01  9.22500655e+00 -7.64408473e+00 -4.32355147e+00\n",
      "  1.52692165e+01 -5.11347588e+01  6.40310500e+01  8.65267066e+01\n",
      " -4.09062784e+00 -1.23986669e+00 -1.33790653e+01  3.30650268e+00\n",
      "  8.95302471e+00 -7.26980706e+01  9.66553874e+01  1.47224804e+00\n",
      " -2.67623753e+01 -1.49766155e+01 -7.53817237e-01  6.53519862e+01\n",
      " -9.12392311e+01 -1.68095969e+01  1.02188588e+01  1.06283747e+01\n",
      "  1.72947845e+01 -1.01277897e+02  1.50249514e+02  7.28762964e+01\n",
      " -3.78500398e+00  3.92412817e+01 -3.23837994e+01 -1.36482086e+02\n",
      " -5.86139090e+01 -2.45826277e+01  2.53042476e+01  4.26944318e+00\n",
      " -1.07240428e+01 -8.41366225e+01  5.99583938e+00 -7.80609294e+01\n",
      " -1.11805905e+02  9.18791034e+01 -3.51682772e+01 -1.11297047e+01\n",
      " -6.20622282e+01  5.87662103e+00  9.72504524e+01  5.71244664e+00\n",
      "  3.00362164e+01  4.62670490e+01  1.74758384e+02  4.33542178e+01\n",
      " -7.15334220e+00 -1.50295368e+01 -1.09484919e+02 -2.03410293e+01\n",
      " -1.29991352e+02 -2.94410676e+00  8.71373588e+00  1.29280385e+01\n",
      "  5.77848962e-01  1.84113310e+01 -3.51441513e+01 -1.41577515e+02\n",
      " -1.72234462e+01 -3.65474628e+01  7.32044142e+01  7.17263846e+01\n",
      " -2.54327021e+01  9.87140233e+01 -4.15707006e+01  5.22253984e+01\n",
      " -9.02290974e+01 -1.73786644e+02 -4.06834697e+01 -2.55097955e+01\n",
      "  1.86040407e+01 -1.67209708e+01 -7.83279887e+01 -1.29817171e+01\n",
      " -1.22202115e+01  4.25311232e+00 -3.33920674e+01 -9.33300618e+01\n",
      " -3.62456509e+00 -1.99707422e+01  9.90882475e+01  1.57574583e+02\n",
      " -5.44108347e+01 -1.91419782e-01  4.64921860e+01 -1.33437002e+00\n",
      "  8.22373568e+00 -1.95631075e+01 -5.61513242e+01  4.74243997e+01\n",
      "  2.99092667e+01  1.57642092e+01  6.05184761e+01 -8.81217886e-01\n",
      "  4.63877489e+00  5.73237440e+01  5.63975945e+01 -1.48324653e+01\n",
      " -6.30890156e+01 -1.04286130e+02 -2.35618895e+00 -7.20721218e+00\n",
      "  4.82602609e+01  2.99073978e+01  5.06969654e+01  7.72836613e+00\n",
      "  6.54895496e+01 -1.22593740e+02  6.65911142e+00 -2.93493426e+01\n",
      " -7.99188417e+01 -4.97802269e+01  1.10994802e+02  2.51587825e+01\n",
      "  1.40722806e+01 -2.93541180e+01 -1.80746284e+01 -5.70820967e+01\n",
      " -9.94204682e+00 -7.00931748e+01 -9.62980217e+00  6.99028194e+01\n",
      " -3.73398200e+01  3.38319634e+01  1.19170785e+02  1.42210973e+02\n",
      " -6.33500934e+01  1.02598272e+02 -1.55701813e+02  1.47647281e+02\n",
      " -4.64878080e+01 -5.91305959e+01  4.99547819e+01  7.32136216e+01\n",
      " -3.32036087e+01  1.74858075e+01  1.61657280e+02 -5.81239173e+00\n",
      " -9.01264644e+01 -1.99314721e+02  3.31174907e+01 -5.68232544e+01\n",
      " -3.61933581e+01 -3.51696293e+01  3.12533216e+01 -2.01420347e+01\n",
      " -3.02339290e+00  5.90339569e+01 -1.51101838e+01  6.69003155e+00\n",
      "  2.59652617e-01 -2.22102215e+01  4.13073423e+01  6.49509840e+01\n",
      " -1.75703980e+01 -1.10214941e+02  5.22260210e+00  2.18442758e+01\n",
      "  2.72075805e+01  8.22304580e+01  4.02830241e+00 -4.58729014e+01\n",
      "  3.45498789e+01  9.34667969e+00 -1.28340974e+01  1.07708372e+01\n",
      "  5.67813348e+01  1.03161826e+02 -1.81270489e+01 -4.59146717e+01\n",
      " -4.96407856e+01  3.44719971e+01 -9.44290126e+01  4.03994701e+01\n",
      "  3.67943039e+01  7.93995399e+00 -8.20260137e+00 -4.06709691e+01\n",
      " -5.04550416e+00 -9.48134417e+00  1.52429884e+01  6.65872342e+00\n",
      " -4.40656818e+00  5.90707873e+01 -9.46591140e+01 -9.20840041e+01]\n"
     ]
    }
   ],
   "source": [
    "print(sumTs[0:500])"
   ]
  },
  {
   "cell_type": "code",
   "execution_count": 59,
   "id": "c00c7f76",
   "metadata": {},
   "outputs": [
    {
     "data": {
      "image/png": "[encoded data removed]",
      "text/plain": [
       "<Figure size 432x288 with 1 Axes>"
      ]
     },
     "metadata": {
      "needs_background": "light"
     },
     "output_type": "display_data"
    }
   ],
   "source": [
    "np.random.seed(19680801)\n",
    "\n",
    "plt.scatter(STnsm,Mutnsm)\n",
    "plt.xlabel(\"STnsm\")\n",
    "plt.ylabel(\"VertexT\")\n",
    "plt.show()"
   ]
  },
  {
   "cell_type": "code",
   "execution_count": 60,
   "id": "542c2717",
   "metadata": {},
   "outputs": [
    {
     "data": {
      "text/plain": [
       "677"
      ]
     },
     "execution_count": 60,
     "metadata": {},
     "output_type": "execute_result"
    }
   ],
   "source": [
    "len(MLL)"
   ]
  },
  {
   "cell_type": "code",
   "execution_count": 61,
   "id": "8a5c7f53",
   "metadata": {
    "scrolled": true
   },
   "outputs": [
    {
     "data": {
      "image/png": "[encoded data removed]",
      "text/plain": [
       "<Figure size 432x288 with 1 Axes>"
      ]
     },
     "metadata": {
      "needs_background": "light"
     },
     "output_type": "display_data"
    }
   ],
   "source": [
    "import matplotlib.pyplot as plt \n",
    "import numpy as np\n",
    "\n",
    "#Smeared\n",
    "np.random.seed(19680801)\n",
    "\n",
    "plt.scatter(MPP,MLL)\n",
    "plt.xlabel(\"mpp_2\")\n",
    "plt.ylabel(\"mllt\")\n",
    "plt.show()"
   ]
  },
  {
   "cell_type": "code",
   "execution_count": 62,
   "id": "27504935",
   "metadata": {},
   "outputs": [
    {
     "data": {
      "image/png": "[encoded data removed]",
      "text/plain": [
       "<Figure size 432x288 with 1 Axes>"
      ]
     },
     "metadata": {
      "needs_background": "light"
     },
     "output_type": "display_data"
    }
   ],
   "source": [
    "np.random.seed(19680801)\n",
    "\n",
    "plt.scatter(YPP,YLL)\n",
    "plt.xlabel(\"Ypp\")\n",
    "plt.ylabel(\"Yllt\")\n",
    "plt.show()"
   ]
  },
  {
   "cell_type": "code",
   "execution_count": 63,
   "id": "2cc89cdb",
   "metadata": {},
   "outputs": [
    {
     "data": {
      "image/png": "[encoded data removed]",
      "text/plain": [
       "<Figure size 432x288 with 1 Axes>"
      ]
     },
     "metadata": {
      "needs_background": "light"
     },
     "output_type": "display_data"
    }
   ],
   "source": [
    "plt.hist2d(YPP, YLL, bins=25)\n",
    "plt.xlabel(\"Ypp_2cuts\")\n",
    "plt.ylabel(\"Yllt\")\n",
    "plt.show()"
   ]
  },
  {
   "cell_type": "code",
   "execution_count": 64,
   "id": "a6d88098",
   "metadata": {},
   "outputs": [
    {
     "name": "stderr",
     "output_type": "stream",
     "text": [
      "No handles with labels found to put in legend.\n"
     ]
    },
    {
     "data": {
      "text/plain": [
       "[Text(0.5, 24.0, 'Y'), Text(66.25, 0.5, 'number of entries')]"
      ]
     },
     "execution_count": 64,
     "metadata": {},
     "output_type": "execute_result"
    },
    {
     "data": {
      "image/png": "[encoded data removed]",
      "text/plain": [
       "<Figure size 720x360 with 1 Axes>"
      ]
     },
     "metadata": {
      "needs_background": "light"
     },
     "output_type": "display_data"
    }
   ],
   "source": [
    "f, ax = plt.subplots(figsize=(10,5))\n",
    "plt.hist(Y, bins=np.linspace(-5,5,100))\n",
    "hep.cms.label(llabel=\"Preliminary\", rlabel=\"Summer 2022\", ax=ax)\n",
    "ax.legend(); \n",
    "ax.set(xlabel='Y', ylabel='number of entries')"
   ]
  },
  {
   "cell_type": "code",
   "execution_count": 65,
   "id": "3aad64cc",
   "metadata": {},
   "outputs": [
    {
     "data": {
      "image/png": "[encoded data removed]",
      "text/plain": [
       "<Figure size 432x288 with 1 Axes>"
      ]
     },
     "metadata": {
      "needs_background": "light"
     },
     "output_type": "display_data"
    }
   ],
   "source": [
    "import matplotlib.pyplot as plt\n",
    "import numpy as np\n",
    "\n",
    "#Un Smeared\n",
    "np.random.seed(19680801)\n",
    "\n",
    "plt.scatter(MPPnsm,MLLnsm)\n",
    "plt.xlabel(\"mpp_2cuts\")\n",
    "plt.ylabel(\"mllt\")\n",
    "plt.show()"
   ]
  },
  {
   "cell_type": "code",
   "execution_count": 66,
   "id": "67b71550",
   "metadata": {},
   "outputs": [
    {
     "data": {
      "text/plain": [
       "[Text(0.5, 24.0, 'MPP-MLL'), Text(59.875, 0.5, 'number of entries')]"
      ]
     },
     "execution_count": 66,
     "metadata": {},
     "output_type": "execute_result"
    },
    {
     "data": {
      "image/png": "[encoded data removed]",
      "text/plain": [
       "<Figure size 720x360 with 1 Axes>"
      ]
     },
     "metadata": {
      "needs_background": "light"
     },
     "output_type": "display_data"
    }
   ],
   "source": [
    "#lets draw hisgorgam of number of muons:\n",
    "f, ax = plt.subplots(figsize=(10,5))\n",
    "plt.hist(M, bins=np.linspace(-1,1,100),label='BothCriteria')\n",
    "hep.cms.label(llabel=\"Preliminary\", rlabel=\"Summer 2022\", ax=ax)\n",
    "ax.legend(); \n",
    "ax.set(xlabel='MPP-MLL', ylabel='number of entries')\n",
    "#plt.savefig('InvariantMassCorrBothSmearing.png')"
   ]
  },
  {
   "cell_type": "code",
   "execution_count": 67,
   "id": "a50a3d81",
   "metadata": {},
   "outputs": [
    {
     "data": {
      "text/plain": [
       "[Text(0.5, 24.0, 'MPP-MLL'), Text(59.875, 0.5, 'number of entries')]"
      ]
     },
     "execution_count": 67,
     "metadata": {},
     "output_type": "execute_result"
    },
    {
     "data": {
      "image/png": "[encoded data removed]",
      "text/plain": [
       "<Figure size 720x360 with 1 Axes>"
      ]
     },
     "metadata": {
      "needs_background": "light"
     },
     "output_type": "display_data"
    }
   ],
   "source": [
    "#lets draw hisgorgam of number of muons:\n",
    "f, ax = plt.subplots(figsize=(10,5))\n",
    "plt.hist(Mnsm, bins=np.linspace(-1,1,100),label='XiSmearing (N=1854)')\n",
    "hep.cms.label(llabel=\"Preliminary\", rlabel=\"Summer 2022\", ax=ax)\n",
    "ax.legend(); \n",
    "ax.set(xlabel='MPP-MLL', ylabel='number of entries')\n",
    "#plt.savefig('InvariantMassCorrXiSmearings.png')"
   ]
  },
  {
   "cell_type": "code",
   "execution_count": 68,
   "id": "0c45ec43",
   "metadata": {},
   "outputs": [
    {
     "data": {
      "text/plain": [
       "677"
      ]
     },
     "execution_count": 68,
     "metadata": {},
     "output_type": "execute_result"
    }
   ],
   "source": [
    "len(M)"
   ]
  },
  {
   "cell_type": "code",
   "execution_count": 69,
   "id": "a233cd7d",
   "metadata": {},
   "outputs": [
    {
     "name": "stdout",
     "output_type": "stream",
     "text": [
      "195\n",
      "1599.975\n"
     ]
    }
   ],
   "source": [
    "kt=0\n",
    "for i in range (len(M)):\n",
    "    if np.abs(M[i])<0.025:\n",
    "        kt=kt+1\n",
    "print(kt)\n",
    "Lum=300e15\n",
    "Cross=0.2735e-12\n",
    "Acc=kt/10000\n",
    "NumbEv=Lum*Cross*Acc\n",
    "print(NumbEv)"
   ]
  },
  {
   "cell_type": "code",
   "execution_count": 70,
   "id": "89d8f278",
   "metadata": {},
   "outputs": [
    {
     "name": "stdout",
     "output_type": "stream",
     "text": [
      "240\n",
      "1969.2\n"
     ]
    }
   ],
   "source": [
    "ktnsm=0\n",
    "for i in range (len(Mnsm)):\n",
    "    if np.abs(Mnsm[i])<0.025:\n",
    "        ktnsm=ktnsm+1\n",
    "print(ktnsm)\n",
    "Lum=300e15\n",
    "Cross=0.2735e-12\n",
    "Accnsm=ktnsm/10000\n",
    "NumbEvnsm=Lum*Cross*Accnsm\n",
    "print(NumbEvnsm)"
   ]
  },
  {
   "cell_type": "code",
   "execution_count": null,
   "id": "c6d69651",
   "metadata": {},
   "outputs": [],
   "source": []
  },
  {
   "cell_type": "code",
   "execution_count": null,
   "id": "0d8e6b5b",
   "metadata": {
    "scrolled": true
   },
   "outputs": [],
   "source": []
  },
  {
   "cell_type": "code",
   "execution_count": null,
   "id": "08705458",
   "metadata": {},
   "outputs": [],
   "source": []
  },
  {
   "cell_type": "code",
   "execution_count": 71,
   "id": "633edc76",
   "metadata": {
    "scrolled": false
   },
   "outputs": [
    {
     "data": {
      "image/png": "[encoded data removed]",
      "text/plain": [
       "<Figure size 432x288 with 1 Axes>"
      ]
     },
     "metadata": {
      "needs_background": "light"
     },
     "output_type": "display_data"
    }
   ],
   "source": [
    "np.random.seed(19680801)\n",
    "\n",
    "plt.scatter(Muz,CTDif)\n",
    "plt.xlabel(\"Mu_z\")\n",
    "plt.ylabel(\"0.5*c*Tdiff\")\n",
    "plt.show()"
   ]
  },
  {
   "cell_type": "code",
   "execution_count": 72,
   "id": "3f54165f",
   "metadata": {},
   "outputs": [],
   "source": [
    "#Clean the events\n",
    "#Plot with density\n"
   ]
  },
  {
   "cell_type": "code",
   "execution_count": null,
   "id": "b0244fe5",
   "metadata": {},
   "outputs": [],
   "source": []
  },
  {
   "cell_type": "code",
   "execution_count": 88,
   "id": "d5a1ff76",
   "metadata": {
    "scrolled": true
   },
   "outputs": [
    {
     "data": {
      "image/png": "[encoded data removed]",
      "text/plain": [
       "<Figure size 432x288 with 1 Axes>"
      ]
     },
     "metadata": {
      "needs_background": "light"
     },
     "output_type": "display_data"
    }
   ],
   "source": [
    "np.random.seed(19680801)\n",
    "\n",
    "plt.scatter(Mut,ST)\n",
    "plt.xlabel(\"Mu_T\")\n",
    "plt.ylabel(\"c*Tsum-2Zpps\")\n",
    "#plt.ylim([-1,1])\n",
    "plt.show()"
   ]
  },
  {
   "cell_type": "code",
   "execution_count": 74,
   "id": "de61f837",
   "metadata": {},
   "outputs": [
    {
     "data": {
      "image/png": "[encoded data removed]",
      "text/plain": [
       "<Figure size 432x288 with 1 Axes>"
      ]
     },
     "metadata": {
      "needs_background": "light"
     },
     "output_type": "display_data"
    }
   ],
   "source": [
    "plt.hist2d(Mut, ST, bins=25)\n",
    "plt.xlabel(\"Mut\")\n",
    "plt.ylabel(\"c*Tsum-2Zpps\")\n",
    "plt.show()"
   ]
  },
  {
   "cell_type": "code",
   "execution_count": 75,
   "id": "97e57185",
   "metadata": {},
   "outputs": [],
   "source": [
    "D=np.zeros(len(Mut))\n",
    "\n",
    "for ev in range(len(Mut)):\n",
    "\n",
    "    D[ev]=Mut[ev]-ST[ev]"
   ]
  },
  {
   "cell_type": "code",
   "execution_count": 76,
   "id": "bd8c7067",
   "metadata": {},
   "outputs": [
    {
     "name": "stderr",
     "output_type": "stream",
     "text": [
      "No handles with labels found to put in legend.\n"
     ]
    },
    {
     "data": {
      "text/plain": [
       "[Text(0.5, 24.0, 'D'), Text(59.875, 0.5, 'number of entries')]"
      ]
     },
     "execution_count": 76,
     "metadata": {},
     "output_type": "execute_result"
    },
    {
     "data": {
      "image/png": "[encoded data removed]",
      "text/plain": [
       "<Figure size 720x360 with 1 Axes>"
      ]
     },
     "metadata": {
      "needs_background": "light"
     },
     "output_type": "display_data"
    }
   ],
   "source": [
    "f, ax = plt.subplots(figsize=(10,5))\n",
    "plt.hist(D, bins=np.linspace(-4,4,100),label='')\n",
    "hep.cms.label(llabel=\"Preliminary\", rlabel=\"Summer 2022\", ax=ax)\n",
    "ax.legend(); \n",
    "ax.set(xlabel='D', ylabel='number of entries')\n",
    "#plt.savefig('InvariantMassCorrBothSmearings.png')"
   ]
  },
  {
   "cell_type": "code",
   "execution_count": null,
   "id": "94d7f6b9",
   "metadata": {},
   "outputs": [],
   "source": [
    "#(tMt_sm[k]+tmt_sm[k])*c-2*23400"
   ]
  },
  {
   "cell_type": "code",
   "execution_count": null,
   "id": "bbc49fba",
   "metadata": {},
   "outputs": [],
   "source": [
    "#            t[k]=(genproton_t[i][k]+(23400-genproton_vz[i][k])/30) \n",
    "\n",
    "#        else: \n",
    "#            t[k]=(genproton_t[i][k]+(23400+genproton_vz[i][k])/30) "
   ]
  }
 ],
 "metadata": {
  "kernelspec": {
   "display_name": "Python 3",
   "language": "python",
   "name": "python3"
  },
  "language_info": {
   "codemirror_mode": {
    "name": "ipython",
    "version": 3
   },
   "file_extension": ".py",
   "mimetype": "text/x-python",
   "name": "python",
   "nbconvert_exporter": "python",
   "pygments_lexer": "ipython3",
   "version": "3.9.12"
  }
 },
 "nbformat": 4,
 "nbformat_minor": 5
}
