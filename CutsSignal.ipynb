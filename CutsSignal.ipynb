{
 "cells": [
  {
   "cell_type": "code",
   "execution_count": 105,
   "id": "705a6a3f",
   "metadata": {},
   "outputs": [],
   "source": [
    "#import uproot\n",
    "import uproot4\n",
    "from tqdm import tqdm"
   ]
  },
  {
   "cell_type": "code",
   "execution_count": 106,
   "id": "b8cfaf9e",
   "metadata": {},
   "outputs": [],
   "source": [
    "# relace next line with the path to your file\n",
    "#path='data'\n",
    "path='/eos/cms/store/user/jjhollar/CERNSummerStudentProject2022/'\n",
    "filename=path+'/delphes_GammaGammaMuMu_FPMC_pT25_14TeV_10kEvents.root'"
   ]
  },
  {
   "cell_type": "code",
   "execution_count": 107,
   "id": "ec3eabc9",
   "metadata": {},
   "outputs": [],
   "source": [
    "#open the file, using uproot\n",
    "root_=uproot4.open( filename )"
   ]
  },
  {
   "cell_type": "code",
   "execution_count": 108,
   "id": "b530cb6c",
   "metadata": {},
   "outputs": [
    {
     "data": {
      "text/plain": [
       "['ProcessID0;1', 'Delphes;1']"
      ]
     },
     "execution_count": 108,
     "metadata": {},
     "output_type": "execute_result"
    }
   ],
   "source": [
    "root_.keys()"
   ]
  },
  {
   "cell_type": "code",
   "execution_count": 109,
   "id": "d2a2c3f4",
   "metadata": {},
   "outputs": [],
   "source": [
    "tree_ = root_[\"Delphes\"]"
   ]
  },
  {
   "cell_type": "code",
   "execution_count": 110,
   "id": "f4723b36",
   "metadata": {},
   "outputs": [],
   "source": [
    "vtx_size = tree_['Vertex_size'].array()"
   ]
  },
  {
   "cell_type": "code",
   "execution_count": 111,
   "id": "d4f56743",
   "metadata": {},
   "outputs": [
    {
     "data": {
      "text/plain": [
       "10000"
      ]
     },
     "execution_count": 111,
     "metadata": {},
     "output_type": "execute_result"
    }
   ],
   "source": [
    "len(vtx_size)"
   ]
  },
  {
   "cell_type": "code",
   "execution_count": 112,
   "id": "1a739923",
   "metadata": {},
   "outputs": [],
   "source": [
    "#variables_to_save=[tree_.keys()] # this will not work, due to vectors in the dataset\n",
    "#muons_df = tree_.arrays(['Muon_size','Muon.PT','Muon.Eta','Muon.Phi','Muon.T'], library=\"pd\")\n",
    "#genproton_df = tree_.arrays(['GenProton_size','GenProton.Pz','GenProton.Z','GenProton.IsPU'], library=\"pd\")\n",
    "#floats_df = tree_.arrays(['GenProton.T'], library=\"pd\")"
   ]
  },
  {
   "cell_type": "code",
   "execution_count": 113,
   "id": "d5fc599f",
   "metadata": {},
   "outputs": [],
   "source": [
    "import pandas as pd\n",
    "import numpy as np\n",
    "#Smeared\n",
    "np.random.seed(19680801)"
   ]
  },
  {
   "cell_type": "code",
   "execution_count": 114,
   "id": "eb83533d",
   "metadata": {},
   "outputs": [],
   "source": [
    "n_events = len(vtx_size)"
   ]
  },
  {
   "cell_type": "code",
   "execution_count": 115,
   "id": "bdc6d327",
   "metadata": {},
   "outputs": [
    {
     "name": "stdout",
     "output_type": "stream",
     "text": [
      "for xi range of (0.009,0.197) proton pz is in range from 5623.10 to 6933.50 GeV\n",
      "5512.947999999999\n",
      "6938.820000000001\n"
     ]
    }
   ],
   "source": [
    "#xi acceptance from Table 4 on page 40 of https://cds.cern.ch/record/2750358/files/NOTE2020_008.pdf\n",
    "xi_min = 0.0095 # using the 234m station\n",
    "xi_max = 0.1967 # using the 196m station\n",
    "pz_min = (1-xi_max)*7000\n",
    "pz_max = (1-xi_min)*7000\n",
    "pz_min1 =(1-1.08*xi_max)*7000\n",
    "pz_max1 =(1-0.92*xi_min)*7000\n",
    "print('for xi range of (%2.3f,%2.3f) proton pz is in range from %2.2f to %2.2f GeV'%(xi_min,xi_max,pz_min,pz_max))\n",
    "print(pz_min1)\n",
    "print(pz_max1)"
   ]
  },
  {
   "cell_type": "code",
   "execution_count": 116,
   "id": "b7f18f65",
   "metadata": {},
   "outputs": [
    {
     "name": "stdout",
     "output_type": "stream",
     "text": [
      "5623.1 6933.5\n"
     ]
    }
   ],
   "source": [
    "print(pz_min, pz_max)"
   ]
  },
  {
   "cell_type": "code",
   "execution_count": null,
   "id": "315f6959",
   "metadata": {},
   "outputs": [],
   "source": []
  },
  {
   "cell_type": "code",
   "execution_count": 117,
   "id": "8c603c6c",
   "metadata": {},
   "outputs": [],
   "source": [
    "#read protons only within the PPS acceptance\n",
    "protons = tree_.arrays(['GenProton.Pz','GenProton.Z','GenProton.IsPU','GenProton.T'],  cut=\"(abs(GenProton.Pz)>%g) & (abs(GenProton.Pz)<%g)\"%(pz_min,pz_max))"
   ]
  },
  {
   "cell_type": "code",
   "execution_count": 118,
   "id": "f611317a",
   "metadata": {
    "scrolled": true
   },
   "outputs": [
    {
     "name": "stdout",
     "output_type": "stream",
     "text": [
      "0.05\n",
      "[[-1.33e-10, 2.25e-11, 2.07e-12, -2.05e-10, ... -2.44e-11, -1.19e-10, 1.33e-10]]\n"
     ]
    }
   ],
   "source": [
    "tr=(10**9)*50E-12\n",
    "trM=(10**9)*40E-12\n",
    "print(tr)\n",
    "print(protons['GenProton.T'])\n",
    "#print(pz)"
   ]
  },
  {
   "cell_type": "code",
   "execution_count": 119,
   "id": "8da0639a",
   "metadata": {},
   "outputs": [
    {
     "name": "stdout",
     "output_type": "stream",
     "text": [
      "[[0, 1, 1, 1], [0, 0, 1, 1, 1, 1, 1, 1, 1, ... 1, 1, 1], [0, 1, 1, 1, 1, 1, 1, 1, 1]]\n"
     ]
    }
   ],
   "source": [
    "print(protons['GenProton.IsPU'])"
   ]
  },
  {
   "cell_type": "code",
   "execution_count": 120,
   "id": "68c1420c",
   "metadata": {},
   "outputs": [
    {
     "name": "stderr",
     "output_type": "stream",
     "text": [
      "100%|██████████| 10000/10000 [01:33<00:00, 106.56it/s]\n"
     ]
    }
   ],
   "source": [
    "N_protons=np.zeros(len(protons)).astype(int)\n",
    "genproton_pz=protons['GenProton.Pz']\n",
    "genproton_vz=protons['GenProton.Z']\n",
    "genproton_ispu=protons['GenProton.IsPU']\n",
    "genproton_t=(10**9)*protons['GenProton.T']\n",
    "genprotonpz=[]\n",
    "genprotonvz=[]\n",
    "genprotonispu=[]\n",
    "genprotont=[]\n",
    "genprotont_sm=[]\n",
    "genprotonxi=[]\n",
    "sig=[]\n",
    "\n",
    "\n",
    "for i in tqdm(range(len(genproton_pz))):\n",
    "    pz=genproton_pz[i]\n",
    "    xi=1-np.abs(pz)/7000\n",
    "    xi_smear=xi*(1+np.random.normal(0,0.02,len(xi)))\n",
    "    pz_smear=7000*(1-xi_smear)\n",
    "    t=np.zeros(len(pz))\n",
    "    DPPV=np.zeros(len(pz))\n",
    "    \n",
    "    \n",
    "    for k in range(len(pz)):\n",
    "    \n",
    "        if pz[k]>0:\n",
    "            t[k]=(genproton_t[i][k]+(23400-genproton_vz[i][k])/30) \n",
    "\n",
    "        else: \n",
    "            t[k]=(genproton_t[i][k]+(23400+genproton_vz[i][k])/30) \n",
    "\n",
    "            \n",
    "    t_smear=t+np.random.normal(0,tr,len(t))\n",
    "\n",
    "    lpz=len(pz)\n",
    "    Npr=0\n",
    "    for k in range(lpz):\n",
    "    \n",
    "        if (abs(pz_smear[k])>pz_min) and (abs(pz_smear[k])<pz_max):\n",
    "            sig.append(np.sign(pz[k]))\n",
    "            genprotonpz.append(pz_smear[k])\n",
    "            genprotonxi.append(xi_smear[k])\n",
    "            genprotonvz.append(genproton_vz[i][k])\n",
    "            genprotonispu.append(genproton_ispu[i][k])\n",
    "            genprotont.append(t[k])\n",
    "            genprotont_sm.append(t_smear[k])\n",
    "            Npr=Npr+1\n",
    "    N_protons[i]=Npr"
   ]
  },
  {
   "cell_type": "code",
   "execution_count": null,
   "id": "9d37c6ed",
   "metadata": {},
   "outputs": [],
   "source": []
  },
  {
   "cell_type": "code",
   "execution_count": null,
   "id": "7a57befe",
   "metadata": {
    "scrolled": true
   },
   "outputs": [],
   "source": []
  },
  {
   "cell_type": "code",
   "execution_count": 121,
   "id": "23dc3a4a",
   "metadata": {
    "scrolled": true
   },
   "outputs": [
    {
     "data": {
      "text/plain": [
       "array([ 4, 15,  8, 13,  4, 15,  9, 10, 11])"
      ]
     },
     "execution_count": 121,
     "metadata": {},
     "output_type": "execute_result"
    }
   ],
   "source": [
    "N_protons[0:9]"
   ]
  },
  {
   "cell_type": "code",
   "execution_count": 122,
   "id": "b2e28469",
   "metadata": {},
   "outputs": [
    {
     "name": "stdout",
     "output_type": "stream",
     "text": [
      "[-6.92e+03, -6.82e+03, -6.15e+03, 6.86e+03]\n",
      "[6917.250438247394, 6818.641057776754, 6144.042220132557, 6858.512008713221]\n"
     ]
    }
   ],
   "source": [
    "print(genproton_pz[0])\n",
    "print(genprotonpz[0:N_protons[0]])"
   ]
  },
  {
   "cell_type": "code",
   "execution_count": 123,
   "id": "13de3e63",
   "metadata": {
    "scrolled": true
   },
   "outputs": [
    {
     "name": "stdout",
     "output_type": "stream",
     "text": [
      "[780.0080180913114, 781.6508133518621, 778.0532111070602, 778.5588344463354, 777.0632907452231, 783.6193637432699, 778.6446564022915, 779.4972623285856, 778.3174118749763, 780.876447878026]\n",
      "[779.9755536854693, 781.6268923730443, 778.1071053623131, 778.6072749629766, 777.038424770398, 783.6164078724851, 778.5889261690231, 779.435912439314, 778.2469074652562, 780.9419909037705]\n"
     ]
    }
   ],
   "source": [
    "print(genprotont[0:10])\n",
    "print(genprotont_sm[0:10])"
   ]
  },
  {
   "cell_type": "code",
   "execution_count": null,
   "id": "167fb71d",
   "metadata": {},
   "outputs": [],
   "source": []
  },
  {
   "cell_type": "code",
   "execution_count": 124,
   "id": "846275fb",
   "metadata": {},
   "outputs": [],
   "source": [
    "n_events = len(N_protons)\n",
    "Prneg=np.zeros(n_events)\n",
    "Prpos=np.zeros(n_events)\n",
    "NmbPairs=np.zeros(n_events)"
   ]
  },
  {
   "cell_type": "code",
   "execution_count": null,
   "id": "d6203911",
   "metadata": {},
   "outputs": [],
   "source": []
  },
  {
   "cell_type": "code",
   "execution_count": 125,
   "id": "9e91c674",
   "metadata": {},
   "outputs": [],
   "source": [
    "nprot=np.zeros(n_events)"
   ]
  },
  {
   "cell_type": "code",
   "execution_count": null,
   "id": "4b6aa531",
   "metadata": {},
   "outputs": [],
   "source": []
  },
  {
   "cell_type": "code",
   "execution_count": null,
   "id": "42e0dc2e",
   "metadata": {},
   "outputs": [],
   "source": []
  },
  {
   "cell_type": "code",
   "execution_count": 126,
   "id": "622b8218",
   "metadata": {},
   "outputs": [],
   "source": [
    "Cnt=0\n",
    "for ev, nprotons in enumerate(N_protons):\n",
    "\n",
    "    for i in range(nprotons):\n",
    "        if (sig[Cnt+i]>0):\n",
    "            Prpos[ev]=Prpos[ev]+1\n",
    "            \n",
    "        else:\n",
    "            Prneg[ev]=Prneg[ev]+1\n",
    "\n",
    "        NmbPairs=Prpos*Prneg\n",
    "    Cnt=Cnt+nprotons"
   ]
  },
  {
   "cell_type": "code",
   "execution_count": 127,
   "id": "45d10675",
   "metadata": {
    "scrolled": false
   },
   "outputs": [
    {
     "name": "stdout",
     "output_type": "stream",
     "text": [
      "[1. 8. 5. ... 5. 4. 4.]\n",
      "[3. 7. 3. ... 6. 3. 5.]\n",
      "[ 3. 56. 15. ... 30. 12. 20.]\n",
      "[ 3 56 15 ... 30 12 20]\n"
     ]
    }
   ],
   "source": [
    "print(Prpos)\n",
    "print(Prneg)\n",
    "print(NmbPairs)\n",
    "sum(NmbPairs)\n",
    "NPs = NmbPairs.astype(int)\n",
    "print(NPs)"
   ]
  },
  {
   "cell_type": "code",
   "execution_count": null,
   "id": "b80f7ae1",
   "metadata": {},
   "outputs": [],
   "source": []
  },
  {
   "cell_type": "code",
   "execution_count": 128,
   "id": "21febff1",
   "metadata": {},
   "outputs": [],
   "source": [
    "N_muons=tree_['Muon_size'].array()\n",
    "mu_pt=tree_['Muon.PT'].array()\n",
    "mu_eta=tree_['Muon.Eta'].array()\n",
    "mu_phi=tree_['Muon.Phi'].array()\n",
    "mu_T=tree_['Muon.T'].array()\n",
    "#mu_z=tree_['Vertex.Z'].array()\n",
    "\n",
    "N_Tmuons=tree_['MuonTight_size'].array()\n",
    "Tmu_pt=tree_['MuonTight.PT'].array()\n",
    "Tmu_eta=tree_['MuonTight.Eta'].array()\n",
    "Tmu_phi=tree_['MuonTight.Phi'].array()\n",
    "VT=(10**9)*tree_['Vertex.T'].array()\n",
    "Tmu_VT=VT+np.random.normal(0,trM,len(VT))\n",
    "Tmu_Vz=tree_['Vertex.Z'].array()"
   ]
  },
  {
   "cell_type": "code",
   "execution_count": null,
   "id": "e28f8b6d",
   "metadata": {},
   "outputs": [],
   "source": []
  },
  {
   "cell_type": "code",
   "execution_count": 129,
   "id": "69b93384",
   "metadata": {},
   "outputs": [],
   "source": [
    "yl=[]\n",
    "ylt=[]\n",
    "Tmu_T=[]\n",
    "Tmu_z=[]\n",
    "sumET=[]\n",
    "sumTPz=[]\n",
    "mll=[]\n",
    "mllt=[]\n",
    "TMu1_pt=[]\n",
    "TMu2_pt=[]\n",
    "ktm=np.zeros((len(N_Tmuons)))\n",
    "\n",
    "for ev, nmuons in enumerate(N_Tmuons):\n",
    "    Tmu1_pt=0; Tmu1_eta=0; Tmu1_phi=0; Tmu1_t=0; Tmu1_z=0\n",
    "    Tmu2_pt=0; Tmu2_eta=0; Tmu2_phi=0; Tmu2_t=0; Tmu2_z=0\n",
    "    for i in range(nmuons):\n",
    "        if Tmu_pt[ev][i]>Tmu1_pt:\n",
    "            Tmu2_pt=Tmu1_pt\n",
    "            Tmu2_eta=Tmu1_eta\n",
    "            Tmu2_phi=Tmu1_phi          \n",
    "            \n",
    "            \n",
    "            Tmu1_pt=Tmu_pt[ev][i]\n",
    "            Tmu1_eta=Tmu_eta[ev][i]\n",
    "            Tmu1_phi=Tmu_phi[ev][i]\n",
    "        elif Tmu_pt[ev][i]>Tmu2_pt:\n",
    "            Tmu2_pt=Tmu_pt[ev][i]\n",
    "            Tmu2_eta=Tmu_eta[ev][i]\n",
    "            Tmu2_phi=Tmu_phi[ev][i]\n",
    "\n",
    "    if (Tmu1_pt!=0) and (Tmu2_pt!=0) and (Prpos[ev]!=0) and (Prneg[ev]!=0):\n",
    "        TMu1_pt.append(Tmu1_pt)\n",
    "        TMu2_pt.append(Tmu2_pt)\n",
    "        # compute invariant mass of lepton pair\n",
    "        sumET.append(Tmu1_pt*np.cosh(Tmu1_eta)+Tmu2_pt*np.cosh(Tmu2_eta))\n",
    "        sumTPx=Tmu1_pt*np.cos(Tmu1_phi)+Tmu2_pt*np.cos(Tmu2_phi)\n",
    "        sumTPy=Tmu1_pt*np.sin(Tmu1_phi)+Tmu2_pt*np.sin(Tmu2_phi)\n",
    "        sumTPz.append(Tmu1_pt*np.sinh(Tmu1_eta)+Tmu2_pt*np.sinh(Tmu2_eta))\n",
    "            #Building the di lepton\n",
    "        dTmuP=np.sqrt(sumTPx**2 + sumTPy**2 + (Tmu1_pt*np.sinh(Tmu1_eta)+Tmu2_pt*np.sinh(Tmu2_eta))**2)\n",
    "\n",
    "        mllt2 = (Tmu1_pt*np.cosh(Tmu1_eta)+Tmu2_pt*np.cosh(Tmu2_eta))**2 - dTmuP**2  #- sumTPx**2 - sumTPy**2 - sumTPz**2\n",
    "        if(mllt2<0): mllt2=0\n",
    "        mllt.append(np.sqrt(mllt2))\n",
    "    #    ylt[ev]=Tmu1_eta+Tmu2_eta\n",
    "        Tmu_T.append(Tmu_VT[ev])\n",
    "        Tmu_z.append(Tmu_Vz[ev])\n",
    "\n",
    "        ylt.append(0.5*np.log(((Tmu1_pt*np.cosh(Tmu1_eta)+Tmu2_pt*np.cosh(Tmu2_eta))+(Tmu1_pt*np.sinh(Tmu1_eta)+Tmu2_pt*np.sinh(Tmu2_eta)))/((Tmu1_pt*np.cosh(Tmu1_eta)+Tmu2_pt*np.cosh(Tmu2_eta))-(Tmu1_pt*np.sinh(Tmu1_eta)+Tmu2_pt*np.sinh(Tmu2_eta)))))\n",
    "    else:\n",
    "        ktm[ev]=1"
   ]
  },
  {
   "cell_type": "code",
   "execution_count": null,
   "id": "62f8d542",
   "metadata": {},
   "outputs": [],
   "source": []
  },
  {
   "cell_type": "code",
   "execution_count": 130,
   "id": "5025394f",
   "metadata": {
    "scrolled": true
   },
   "outputs": [
    {
     "name": "stderr",
     "output_type": "stream",
     "text": [
      "100%|██████████| 10000/10000 [00:01<00:00, 5199.03it/s]"
     ]
    },
    {
     "name": "stdout",
     "output_type": "stream",
     "text": [
      "5272\n",
      "5272\n"
     ]
    },
    {
     "name": "stderr",
     "output_type": "stream",
     "text": [
      "\n"
     ]
    }
   ],
   "source": [
    "NP=[]\n",
    "tPairs = []\n",
    "t_smPairs = []\n",
    "zPairs = []\n",
    "xiPairs = []\n",
    "PU=[]\n",
    "nevents=len(N_protons)\n",
    "Cnt=0\n",
    "kt=np.zeros(nevents)\n",
    "for ev in tqdm(range(nevents)):\n",
    "    nprotons=N_protons[ev]\n",
    "    x1=0; x2=0 ; z1=0; z2=0; t1=0; t2=0; t1sm=0; t2sm=0; pu1=0; pu2=0\n",
    "    zPair = []\n",
    "    t_Pair = []\n",
    "    t_smPair = []\n",
    "    xiPair = []\n",
    "    isPU=[]\n",
    "\n",
    "    if (ktm[ev]==0) and (Prpos[ev]!=0) and (Prneg[ev]!=0):\n",
    "\n",
    "        for i in range(nprotons):\n",
    "            if (sig[Cnt+i]>0):\n",
    "                x1=genprotonxi[Cnt+i]\n",
    "                z1=genprotonvz[Cnt+i]\n",
    "                t1sm=genprotont_sm[Cnt+i]\n",
    "                t1=genprotont[Cnt+i]\n",
    "                pu1=genprotonispu[Cnt+i]\n",
    "                #print(t1,genproton_t[ev][i],(23400-genproton_vz[ev][i])/30)\n",
    "                for n in range (i+1,nprotons):\n",
    "                    if (sig[Cnt+n]<0):\n",
    "                        x2=genprotonxi[Cnt+n]\n",
    "                        z2=genprotonvz[Cnt+n]\n",
    "                        t2sm=genprotont_sm[Cnt+n]\n",
    "                        t2=genprotont[Cnt+n]\n",
    "                        pu2=genprotonispu[Cnt+n]\n",
    "\n",
    "                        xiPs=np.array([x1,x2])\n",
    "                        xiPair.append(xiPs)\n",
    "                        zPs=np.array([z1,z2])\n",
    "                        zPair.append(zPs)\n",
    "                        tPsm=np.array([t1sm,t2sm])\n",
    "                        t_smPair.append(tPsm)\n",
    "                        tPs=np.array([t1,t2])\n",
    "                        t_Pair.append(tPs)\n",
    "                        Ps=np.array([pu1,pu2])\n",
    "                        isPU.append(Ps)\n",
    "                    #print(0.5*30*(tPs[1]-tPs[0]),Tmu_z[ev][0])    \n",
    "            elif (sig[Cnt+i]<0):\n",
    "                x2=genprotonxi[Cnt+i]\n",
    "                z2=genprotonvz[Cnt+i]\n",
    "                t2=genprotont[Cnt+i]\n",
    "                t2sm=genprotont_sm[Cnt+i]\n",
    "                pu2=genprotonispu[Cnt+i]\n",
    "                for n in range (i+1,nprotons):\n",
    "                    if (sig[Cnt+n]>0):\n",
    "                        x1=genprotonxi[Cnt+n]\n",
    "                        z1=genprotonvz[Cnt+n]\n",
    "                        t1sm=genprotont_sm[Cnt+n]\n",
    "                        t1=genprotont[Cnt+n]\n",
    "                        pu1=genprotonispu[Cnt+n]\n",
    "\n",
    "                        xiPs=np.array([x1,x2])\n",
    "                        xiPair.append(xiPs)\n",
    "                        zPs=np.array([z1,z2])\n",
    "                        zPair.append(zPs)\n",
    "                        tPsm=np.array([t1sm,t2sm])\n",
    "                        t_smPair.append(tPsm)\n",
    "                        tPs=np.array([t1,t2])\n",
    "                        t_Pair.append(tPs)\n",
    "                        Ps=np.array([pu1,pu2])\n",
    "                        isPU.append(Ps)\n",
    "            else:\n",
    "                kt[ev]=1    #Discuss this part!!\n",
    "\n",
    "                    #print(0.5*30*(tPs[1]-tPs[0]),Tmu_z[ev][0])\n",
    "        t_smPairs.append(t_smPair)\n",
    "        tPairs.append(t_Pair)\n",
    "        zPairs.append(zPair)\n",
    "        xiPairs.append(xiPair)\n",
    "        NP.append(NPs[ev])\n",
    "        PU.append(isPU)\n",
    "        Cnt=Cnt+nprotons\n",
    "        \n",
    "    else:\n",
    "        Cnt=Cnt+nprotons\n",
    "\n",
    "nmevents=len(mllt)\n",
    "nevents=len(t_smPairs)\n",
    "print(nevents)\n",
    "print(nmevents)"
   ]
  },
  {
   "cell_type": "code",
   "execution_count": 131,
   "id": "59ba3e73",
   "metadata": {},
   "outputs": [
    {
     "data": {
      "text/plain": [
       "[array([1, 0]), array([1, 1]), array([1, 1])]"
      ]
     },
     "execution_count": 131,
     "metadata": {},
     "output_type": "execute_result"
    }
   ],
   "source": [
    "PU[0]"
   ]
  },
  {
   "cell_type": "code",
   "execution_count": 132,
   "id": "3641d3b6",
   "metadata": {},
   "outputs": [
    {
     "name": "stdout",
     "output_type": "stream",
     "text": [
      "265\n"
     ]
    }
   ],
   "source": [
    "ii=0\n",
    "\n",
    "for i in range(nevents):\n",
    "    for k in range(len(PU[i])):\n",
    "        if PU[i][k][0]+PU[i][k][1]==0:\n",
    "            ii=ii+1\n",
    "        \n",
    "print(ii)"
   ]
  },
  {
   "cell_type": "code",
   "execution_count": 133,
   "id": "c45d53da",
   "metadata": {
    "scrolled": true
   },
   "outputs": [
    {
     "data": {
      "text/plain": [
       "149000"
      ]
     },
     "execution_count": 133,
     "metadata": {},
     "output_type": "execute_result"
    }
   ],
   "source": [
    "sum([len(x) for x in tPairs])"
   ]
  },
  {
   "cell_type": "code",
   "execution_count": 134,
   "id": "88a5bde7",
   "metadata": {},
   "outputs": [
    {
     "name": "stdout",
     "output_type": "stream",
     "text": [
      "5272\n"
     ]
    }
   ],
   "source": [
    "print(len(NP))"
   ]
  },
  {
   "cell_type": "code",
   "execution_count": 135,
   "id": "f7c6dfb5",
   "metadata": {},
   "outputs": [
    {
     "name": "stdout",
     "output_type": "stream",
     "text": [
      "10000\n",
      "5272\n"
     ]
    }
   ],
   "source": [
    "kk=0\n",
    "kkk=0\n",
    "for ev in range(len(ktm)):\n",
    "    if (ktm[ev]==0):\n",
    "        kkk=kkk+1\n",
    "    if (kt[ev]==0):\n",
    "        kk=kk+1\n",
    "print(kk)\n",
    "print(kkk)"
   ]
  },
  {
   "cell_type": "code",
   "execution_count": null,
   "id": "1d092806",
   "metadata": {},
   "outputs": [],
   "source": []
  },
  {
   "cell_type": "code",
   "execution_count": 136,
   "id": "4ead95ee",
   "metadata": {
    "scrolled": true
   },
   "outputs": [
    {
     "name": "stdout",
     "output_type": "stream",
     "text": [
      "10000\n"
     ]
    }
   ],
   "source": [
    "print(len(N_Tmuons))"
   ]
  },
  {
   "cell_type": "code",
   "execution_count": null,
   "id": "b6fee125",
   "metadata": {},
   "outputs": [],
   "source": []
  },
  {
   "cell_type": "code",
   "execution_count": 137,
   "id": "d3b638a6",
   "metadata": {
    "scrolled": true
   },
   "outputs": [
    {
     "name": "stdout",
     "output_type": "stream",
     "text": [
      "3\n",
      "3\n",
      "5272\n",
      "5272\n",
      "5272\n",
      "5272\n",
      "5272\n",
      "0.020212570183825638\n",
      "0.011821365964657994\n"
     ]
    }
   ],
   "source": [
    "print(len(xiPairs[0]))\n",
    "print(NP[0])\n",
    "print(len(NP))\n",
    "print(len(sumET))\n",
    "print(len(sumTPz))\n",
    "print(nevents)\n",
    "print(len(xiPairs))\n",
    "print(xiPairs[0][0][0])\n",
    "print(xiPairs[0][0][1])"
   ]
  },
  {
   "cell_type": "code",
   "execution_count": 138,
   "id": "7f9c79a3",
   "metadata": {},
   "outputs": [
    {
     "name": "stdout",
     "output_type": "stream",
     "text": [
      "5272\n"
     ]
    }
   ],
   "source": [
    "prum=0\n",
    "for ev in range(nevents):\n",
    "    if (len(xiPairs[ev])==NP[ev]):\n",
    "        prum=prum+1\n",
    "        \n",
    "print(prum)"
   ]
  },
  {
   "cell_type": "code",
   "execution_count": 139,
   "id": "e9a78624",
   "metadata": {
    "scrolled": true
   },
   "outputs": [],
   "source": [
    "xiM=np.ones(nevents)\n",
    "xim=np.ones(nevents)\n",
    "yP=np.zeros(nevents)\n",
    "mpp=np.zeros(nevents)\n",
    "diff1=np.zeros(nevents)\n",
    "diff2=np.zeros(nevents)\n",
    "PU1=np.zeros(nevents)\n",
    "PU2=np.zeros(nevents)\n",
    "\n",
    "\n",
    "mppt=[]\n",
    "mppt_sm=[]\n",
    "diff1t=[]\n",
    "diff2t=[]\n",
    "diff1t_sm=[]\n",
    "diff2t_sm=[]\n",
    "\n",
    "\n",
    "for ev in range(nevents):\n",
    "\n",
    "    for i in range(NP[ev]):\n",
    "\n",
    "        if ((xiPairs[ev][i][0]-((sumET[ev]+sumTPz[ev])/14000))**2 + (xiPairs[ev][i][1]-((sumET[ev]-sumTPz[ev])/14000))**2) < ((xiM[ev]-((sumET[ev]+sumTPz[ev])/14000))**2 + (xim[ev]-((sumET[ev]-sumTPz[ev])/14000))**2):\n",
    "            \n",
    "            PU1[ev]=PU[ev][i][0]\n",
    "            PU2[ev]=PU[ev][i][1]\n",
    "            xiM[ev]=xiPairs[ev][i][0]\n",
    "            xim[ev]=xiPairs[ev][i][1]\n",
    "            mpp[ev]=14000.*np.sqrt(xiPairs[ev][i][0]*xiPairs[ev][i][1])\n",
    "            yP[ev]=-0.5*np.log(xiM[ev]/xim[ev])\n",
    "            diff1[ev]=xiPairs[ev][i][0]-((sumET[ev]+sumTPz[ev])/14000)\n",
    "            diff2[ev]=xiPairs[ev][i][1]-((sumET[ev]-sumTPz[ev])/14000)\n"
   ]
  },
  {
   "cell_type": "code",
   "execution_count": 140,
   "id": "fcecf334",
   "metadata": {
    "scrolled": false
   },
   "outputs": [
    {
     "name": "stdout",
     "output_type": "stream",
     "text": [
      "[216.40766412 178.42049024 412.77839994 ... 300.70497345 373.86848098\n",
      " 223.57618258]\n",
      "[ 0.01776968 -0.00038056  0.02765861 ...  0.03481323  0.00380487\n",
      "  0.01497403]\n",
      "[0.00032574 0.00024313 0.00085287 ... 0.00017978 0.06249937 0.00049879]\n"
     ]
    }
   ],
   "source": [
    "print(mpp)\n",
    "print(diff1)\n",
    "print(diff2)"
   ]
  },
  {
   "cell_type": "code",
   "execution_count": 141,
   "id": "58f6d34b",
   "metadata": {},
   "outputs": [
    {
     "data": {
      "image/png": "[encoded data removed]",
      "text/plain": [
       "<Figure size 432x288 with 1 Axes>"
      ]
     },
     "metadata": {
      "needs_background": "light"
     },
     "output_type": "display_data"
    },
    {
     "data": {
      "text/plain": [
       "<Figure size 432x288 with 0 Axes>"
      ]
     },
     "metadata": {},
     "output_type": "display_data"
    }
   ],
   "source": [
    "import matplotlib.pyplot as plt\n",
    "import numpy as np\n",
    "\n",
    "# Fixing random state for reproducibility\n",
    "np.random.seed(19680801)\n",
    "\n",
    "plt.scatter(mpp, mllt)\n",
    "plt.xlabel(\"mpp\")\n",
    "plt.ylabel(\"mllt\")\n",
    "plt.show()\n",
    "plt.savefig('InvariantMassCorrXiCriteria.png')"
   ]
  },
  {
   "cell_type": "code",
   "execution_count": 142,
   "id": "4fb19b6b",
   "metadata": {},
   "outputs": [
    {
     "data": {
      "image/png": "[encoded data removed]",
      "text/plain": [
       "<Figure size 432x288 with 1 Axes>"
      ]
     },
     "metadata": {
      "needs_background": "light"
     },
     "output_type": "display_data"
    },
    {
     "data": {
      "text/plain": [
       "<Figure size 432x288 with 0 Axes>"
      ]
     },
     "metadata": {},
     "output_type": "display_data"
    }
   ],
   "source": [
    "np.random.seed(19680801)\n",
    "\n",
    "plt.scatter(yP, ylt)\n",
    "plt.xlabel(\"yP\")\n",
    "plt.ylabel(\"yM\")\n",
    "plt.show()\n",
    "plt.savefig('RapidityCorrXiCriteria.png')"
   ]
  },
  {
   "cell_type": "code",
   "execution_count": 143,
   "id": "eaceda54",
   "metadata": {},
   "outputs": [
    {
     "data": {
      "image/png": "[encoded data removed]",
      "text/plain": [
       "<Figure size 432x288 with 1 Axes>"
      ]
     },
     "metadata": {
      "needs_background": "light"
     },
     "output_type": "display_data"
    }
   ],
   "source": [
    "plt.hist2d(yP, ylt, bins=25)\n",
    "plt.xlabel(\"yP\")\n",
    "plt.ylabel(\"yM\")\n",
    "plt.show()"
   ]
  },
  {
   "cell_type": "code",
   "execution_count": 144,
   "id": "41abb821",
   "metadata": {},
   "outputs": [],
   "source": [
    "import matplotlib.pyplot as plt\n",
    "import mplhep as hep\n",
    "from matplotlib.colors import LogNorm"
   ]
  },
  {
   "cell_type": "code",
   "execution_count": 145,
   "id": "c34e2d6b",
   "metadata": {},
   "outputs": [
    {
     "data": {
      "text/plain": [
       "[Text(0.5, 24.0, 'DiffXi1'), Text(53.5, 0.5, 'number of entries')]"
      ]
     },
     "execution_count": 145,
     "metadata": {},
     "output_type": "execute_result"
    },
    {
     "data": {
      "image/png": "[encoded data removed]",
      "text/plain": [
       "<Figure size 720x360 with 1 Axes>"
      ]
     },
     "metadata": {
      "needs_background": "light"
     },
     "output_type": "display_data"
    }
   ],
   "source": [
    "#lets draw hisgorgam of number of muons:\n",
    "f, ax = plt.subplots(figsize=(10,5))\n",
    "plt.hist(diff1, bins=np.linspace(-0.1,0.1,100),label='DiffXi1')\n",
    "hep.cms.label(llabel=\"Preliminary\", rlabel=\"Summer 2021\", ax=ax)\n",
    "ax.legend(); \n",
    "ax.set(xlabel='DiffXi1', ylabel='number of entries')\n",
    "#plt.savefig('number_muons_signal.png')"
   ]
  },
  {
   "cell_type": "code",
   "execution_count": 146,
   "id": "880bf3f8",
   "metadata": {},
   "outputs": [
    {
     "data": {
      "text/plain": [
       "[Text(0.5, 24.0, 'DiffXi2'), Text(53.5, 0.5, 'number of entries')]"
      ]
     },
     "execution_count": 146,
     "metadata": {},
     "output_type": "execute_result"
    },
    {
     "data": {
      "image/png": "[encoded data removed]",
      "text/plain": [
       "<Figure size 720x360 with 1 Axes>"
      ]
     },
     "metadata": {
      "needs_background": "light"
     },
     "output_type": "display_data"
    }
   ],
   "source": [
    "#lets draw hisgorgam of number of muons:\n",
    "f, ax = plt.subplots(figsize=(10,5))\n",
    "plt.hist(diff2, bins=np.linspace(-0.1,0.1,100),label='DiffXi2')\n",
    "hep.cms.label(llabel=\"Preliminary\", rlabel=\"Summer 2021\", ax=ax)\n",
    "ax.legend(); \n",
    "ax.set(xlabel='DiffXi2', ylabel='number of entries')\n",
    "#plt.savefig('number_muons_signal.png')\n",
    "    "
   ]
  },
  {
   "cell_type": "code",
   "execution_count": 147,
   "id": "56e77238",
   "metadata": {},
   "outputs": [],
   "source": [
    "mppt=np.zeros(nevents)\n",
    "mppt_sm=np.zeros(nevents)\n",
    "diff1t=np.zeros(nevents)\n",
    "diff2t=np.zeros(nevents)\n",
    "diff1t_sm=np.zeros(nevents)\n",
    "diff2t_sm=np.zeros(nevents)\n",
    "PU1t=np.zeros(nevents)\n",
    "PU2t=np.zeros(nevents)\n",
    "PU1tsm=np.zeros(nevents)\n",
    "PU2tsm=np.zeros(nevents)\n",
    "\n",
    "xiMt=np.zeros(nevents)\n",
    "ximt=np.zeros(nevents)\n",
    "xiMt_sm=np.zeros(nevents)\n",
    "ximt_sm=np.zeros(nevents)\n",
    "tMt=np.zeros(nevents)\n",
    "tmt=np.zeros(nevents)\n",
    "tMt_sm=np.zeros(nevents)\n",
    "tmt_sm=np.zeros(nevents)\n",
    "difzT=np.zeros(nevents)-100\n",
    "difzT_sm=np.zeros(nevents)-100\n",
    "difzT1_sm=np.zeros(nevents)\n",
    "difzT2_sm=np.zeros(nevents)\n",
    "yPtsm=np.zeros(nevents)\n",
    "yPt=np.zeros(nevents)\n",
    "sumTs=np.zeros(nevents)"
   ]
  },
  {
   "cell_type": "code",
   "execution_count": 148,
   "id": "a3197a23",
   "metadata": {},
   "outputs": [],
   "source": [
    "sumTsnsm=np.zeros(nevents)"
   ]
  },
  {
   "cell_type": "code",
   "execution_count": 149,
   "id": "be8cfdde",
   "metadata": {
    "scrolled": false
   },
   "outputs": [
    {
     "name": "stderr",
     "output_type": "stream",
     "text": [
      "100%|██████████| 5272/5272 [00:19<00:00, 264.56it/s]\n"
     ]
    }
   ],
   "source": [
    "NumDZT=0\n",
    "c=30\n",
    "\n",
    "for k in tqdm(range(nevents)):\n",
    "    #print(k)\n",
    "    if len(xiPairs[k])>0:\n",
    "        xiMt[k]=xiPairs[k][0][0]\n",
    "        ximt[k]=xiPairs[k][0][1]\n",
    "        PU1t[k]=PU[k][0][0]\n",
    "        PU2t[k]=PU[k][0][1]\n",
    "        tMt[k]=tPairs[k][0][0]\n",
    "        tmt[k]=tPairs[k][0][1]\n",
    "        mppt[k]=14000.*np.sqrt(xiPairs[k][0][0]*xiPairs[k][0][1])\n",
    "        diff1t[k]=xiPairs[k][0][0]-((sumET[k]+sumTPz[k])/14000)\n",
    "        diff2t[k]=xiPairs[k][0][1]-((sumET[k]-sumTPz[k])/14000)\n",
    "        difzT[k]=Tmu_z[k][0]-0.5*c*(tPairs[k][0][1]-tPairs[k][0][0])\n",
    "        yPt[k]=-0.5*np.log(xiMt[k]/ximt[k])\n",
    "        sumTsnsm[k]=(tMt[k]+tmt[k])*c-2*23400\n",
    "        Dzt=[]\n",
    "        for i in range (NP[k]):\n",
    "            Dzt=((Tmu_z[k][0]-0.5*c*(tPairs[k][i][1]-tPairs[k][i][0])))\n",
    "            #print(i,Tmu_z[k][0],0.5*c*(tPairs[k][i][1]-tPairs[k][i][0]))\n",
    "            if Dzt**2 < (Tmu_z[k][0]-0.5*c*(tmt[k]-tMt[k]))**2:\n",
    "                #print(k,i,Tmu_z[k][0],0.5*c*(tPairs[k][i][1]-tPairs[k][i][0]))\n",
    "                PU1t[k]=PU[k][i][0]\n",
    "                PU2t[k]=PU[k][i][1]\n",
    "                xiMt[k]=xiPairs[k][i][0]\n",
    "                ximt[k]=xiPairs[k][i][1]\n",
    "                tMt[k]=tPairs[k][i][0]\n",
    "                tmt[k]=tPairs[k][i][1]\n",
    "                mppt[k]=14000.*np.sqrt(xiPairs[k][i][0]*xiPairs[k][i][1])\n",
    "                diff1t[k]=xiPairs[k][i][0]-((sumET[k]+sumTPz[k])/14000)\n",
    "                diff2t[k]=xiPairs[k][i][1]-((sumET[k]-sumTPz[k])/14000)\n",
    "                difzT[k]=Tmu_z[k][0]-0.5*c*(tPairs[k][i][1]-tPairs[k][i][0])\n",
    "                yPt[k]=-0.5*np.log(xiMt[k]/ximt[k])\n",
    "                sumTsnsm[k]=(tMt[k]+tmt[k])*c-2*23400\n",
    "                #print(k,Tmu_z[k][0])\n",
    "                \n",
    "    if difzT[k]==0:\n",
    "        NumDZT=NumDZT+1\n",
    "                #print(i,0.5*c*(tPairs[k][i][1]-tPairs[k][i][0]))"
   ]
  },
  {
   "cell_type": "code",
   "execution_count": null,
   "id": "3937f185",
   "metadata": {},
   "outputs": [],
   "source": []
  },
  {
   "cell_type": "code",
   "execution_count": null,
   "id": "8206c84b",
   "metadata": {},
   "outputs": [],
   "source": []
  },
  {
   "cell_type": "code",
   "execution_count": 150,
   "id": "3b6d6665",
   "metadata": {},
   "outputs": [
    {
     "name": "stderr",
     "output_type": "stream",
     "text": [
      "100%|██████████| 5272/5272 [00:19<00:00, 265.25it/s]\n"
     ]
    }
   ],
   "source": [
    "NumDZT_sm=0\n",
    "NumST_sm=0\n",
    "c=30\n",
    "\n",
    "for k in tqdm(range(nevents)):\n",
    "    #print(k)\n",
    "    if len(xiPairs[k])>0:\n",
    "        xiMt_sm[k]=xiPairs[k][0][0]\n",
    "        ximt_sm[k]=xiPairs[k][0][1]\n",
    "        PU1tsm[k]=PU[k][0][0]\n",
    "        PU2tsm[k]=PU[k][0][1]\n",
    "        tMt_sm[k]=t_smPairs[k][0][0]\n",
    "        tmt_sm[k]=t_smPairs[k][0][1]\n",
    "        mppt_sm[k]=14000.*np.sqrt(xiPairs[k][0][0]*xiPairs[k][0][1])\n",
    "        diff1t_sm[k]=xiPairs[k][0][0]-((sumET[k]+sumTPz[k])/14000)\n",
    "        diff2t_sm[k]=xiPairs[k][0][1]-((sumET[k]-sumTPz[k])/14000)\n",
    "        difzT_sm[k]=Tmu_z[k][0]-0.5*c*(t_smPairs[k][0][1]-t_smPairs[k][0][0])   \n",
    "        Dzt=[]\n",
    "        yPtsm[k]=-0.5*np.log(xiMt_sm[k]/ximt_sm[k])        \n",
    "        sumTs[k]=(tMt_sm[k]+tmt_sm[k])*c-2*23400\n",
    "        \n",
    "        for i in range (NP[k]):\n",
    "            Dzt=((Tmu_z[k][0]-0.5*c*(t_smPairs[k][i][1]-t_smPairs[k][i][0])))\n",
    "            #print(i,Tmu_z[k][0],0.5*c*(tPairs[k][i][1]-tPairs[k][i][0]))\n",
    "            if Dzt**2 < (Tmu_z[k][0]-0.5*c*(tmt_sm[k]-tMt_sm[k]))**2:\n",
    "                #print(k,i,Tmu_z[k][0],0.5*c*(tPairs[k][i][1]-tPairs[k][i][0]))\n",
    "                xiMt_sm[k]=xiPairs[k][i][0]\n",
    "                ximt_sm[k]=xiPairs[k][i][1]\n",
    "                PU1tsm[k]=PU[k][0][0]\n",
    "                PU2tsm[k]=PU[k][0][1]\n",
    "                tMt_sm[k]=t_smPairs[k][i][0]\n",
    "                tmt_sm[k]=t_smPairs[k][i][1]\n",
    "                mppt_sm[k]=14000.*np.sqrt(xiPairs[k][i][0]*xiPairs[k][i][1])\n",
    "                diff1t_sm[k]=xiPairs[k][i][0]-((sumET[k]+sumTPz[k])/14000)\n",
    "                diff2t_sm[k]=xiPairs[k][i][1]-((sumET[k]-sumTPz[k])/14000)\n",
    "                \n",
    "                yPtsm[k]=-0.5*np.log(xiMt_sm[k]/ximt_sm[k])\n",
    "                \n",
    "                sumTs[k]=(tMt_sm[k]+tmt_sm[k])*c-2*23400\n",
    "#                difzT1_sm[k]=Tmu_T[k][0]-(t_smPairs[k][i][0]-(23400-Tmu_z[k][0])/c)\n",
    "#                difzT2_sm[k]=Tmu_T[k][0]-(t_smPairs[k][i][1]-(23400-Tmu_z[k][0])/c)                \n",
    "                difzT_sm[k]=Tmu_z[k][0]-0.5*c*(t_smPairs[k][i][1]-t_smPairs[k][i][0])\n",
    "                #print(k,Tmu_z[k][0])\n",
    "                \n",
    "    if difzT_sm[k]==0:\n",
    "        NumDZT_sm=NumDZT_sm+1\n",
    "        \n",
    "    if sumTs[k]==0:\n",
    "        NumST_sm=NumST_sm+1\n",
    "                #print(i,0.5*c*(tPairs[k][i][1]-tPairs[k][i][0]))"
   ]
  },
  {
   "cell_type": "code",
   "execution_count": null,
   "id": "0b93bfca",
   "metadata": {},
   "outputs": [],
   "source": []
  },
  {
   "cell_type": "code",
   "execution_count": null,
   "id": "a4c620f8",
   "metadata": {
    "scrolled": false
   },
   "outputs": [],
   "source": []
  },
  {
   "cell_type": "code",
   "execution_count": 151,
   "id": "a45e3b7d",
   "metadata": {},
   "outputs": [
    {
     "name": "stdout",
     "output_type": "stream",
     "text": [
      "20\n",
      "0\n",
      "0\n"
     ]
    }
   ],
   "source": [
    "len(xiMt)\n",
    "print(NumDZT)\n",
    "print(NumDZT_sm)\n",
    "print(NumST_sm)"
   ]
  },
  {
   "cell_type": "code",
   "execution_count": null,
   "id": "f8e6c169",
   "metadata": {},
   "outputs": [],
   "source": []
  },
  {
   "cell_type": "code",
   "execution_count": 152,
   "id": "80a90125",
   "metadata": {
    "scrolled": false
   },
   "outputs": [
    {
     "data": {
      "text/plain": [
       "[Text(0.5, 24.0, 'DiffzT'), Text(59.875, 0.5, 'number of entries')]"
      ]
     },
     "execution_count": 152,
     "metadata": {},
     "output_type": "execute_result"
    },
    {
     "data": {
      "image/png": "[encoded data removed]",
      "text/plain": [
       "<Figure size 720x360 with 1 Axes>"
      ]
     },
     "metadata": {
      "needs_background": "light"
     },
     "output_type": "display_data"
    }
   ],
   "source": [
    "#lets draw hisgorgam of number of muons:\n",
    "f, ax = plt.subplots(figsize=(10,5))\n",
    "plt.hist(difzT, bins=np.linspace(-10,10,100),label='DiffzT')\n",
    "hep.cms.label(llabel=\"Preliminary\", rlabel=\"Summer 2021\", ax=ax)\n",
    "ax.legend(); \n",
    "ax.set(xlabel='DiffzT', ylabel='number of entries')\n",
    "#plt.savefig('VtxZ-TimeDiff XiSmear.png')"
   ]
  },
  {
   "cell_type": "code",
   "execution_count": 153,
   "id": "45b2c84c",
   "metadata": {
    "scrolled": true
   },
   "outputs": [
    {
     "data": {
      "text/plain": [
       "[Text(0.5, 24.0, 'DiffzT_tsmear'), Text(59.875, 0.5, 'number of entries')]"
      ]
     },
     "execution_count": 153,
     "metadata": {},
     "output_type": "execute_result"
    },
    {
     "data": {
      "image/png": "[encoded data removed]",
      "text/plain": [
       "<Figure size 720x360 with 1 Axes>"
      ]
     },
     "metadata": {
      "needs_background": "light"
     },
     "output_type": "display_data"
    }
   ],
   "source": [
    "#lets draw hisgorgam of number of muons:\n",
    "f, ax = plt.subplots(figsize=(10,5))\n",
    "plt.hist(difzT_sm, bins=np.linspace(-10,10,100),label='DiffzT_tsmear')\n",
    "hep.cms.label(llabel=\"Preliminary\", rlabel=\"Summer 2022\", ax=ax)\n",
    "ax.legend(); \n",
    "ax.set(xlabel='DiffzT_tsmear', ylabel='number of entries')\n",
    "#plt.savefig('VtxZ-TimeDiff Xi&TSmear.png')"
   ]
  },
  {
   "cell_type": "code",
   "execution_count": null,
   "id": "ea47370d",
   "metadata": {},
   "outputs": [],
   "source": []
  },
  {
   "cell_type": "code",
   "execution_count": 154,
   "id": "c124abb6",
   "metadata": {},
   "outputs": [],
   "source": [
    "sig=[]\n",
    "bk=[]\n",
    "for i in range (len(difzT_sm)):\n",
    "    if (PU1tsm[i]+PU2tsm[i]==0):\n",
    "        sig.append(difzT_sm[i])\n",
    "    else:\n",
    "        bk.append(difzT_sm[i])"
   ]
  },
  {
   "cell_type": "code",
   "execution_count": 155,
   "id": "d93a20b3",
   "metadata": {},
   "outputs": [
    {
     "data": {
      "text/plain": [
       "265"
      ]
     },
     "execution_count": 155,
     "metadata": {},
     "output_type": "execute_result"
    }
   ],
   "source": [
    "len(sig)"
   ]
  },
  {
   "cell_type": "code",
   "execution_count": 156,
   "id": "253bb63d",
   "metadata": {},
   "outputs": [
    {
     "data": {
      "text/plain": [
       "[Text(0.5, 24.0, 'DiffT'), Text(59.875, 0.5, 'number of entries')]"
      ]
     },
     "execution_count": 156,
     "metadata": {},
     "output_type": "execute_result"
    },
    {
     "data": {
      "image/png": "[encoded data removed]",
      "text/plain": [
       "<Figure size 720x360 with 1 Axes>"
      ]
     },
     "metadata": {
      "needs_background": "light"
     },
     "output_type": "display_data"
    }
   ],
   "source": [
    "\n",
    "\n",
    "#lets draw hisgorgam of number of muons:\n",
    "f, ax = plt.subplots(figsize=(10,5))\n",
    "plt.hist(sig, bins=np.linspace(-10,10,100), alpha=0.5 ,label='two signal protons')\n",
    "plt.hist(bk, bins=np.linspace(-10,10,100), alpha=0.5 ,label='less than two signal protons')\n",
    "\n",
    "hep.cms.label(llabel=\"Preliminary\", rlabel=\"Summer 2022\", ax=ax)\n",
    "ax.legend(); \n",
    "ax.set(xlabel='DiffT', ylabel='number of entries')\n",
    "#plt.savefig('InvariantMassCorrBothSmearing.png')"
   ]
  },
  {
   "cell_type": "code",
   "execution_count": null,
   "id": "3f8ec8f1",
   "metadata": {},
   "outputs": [],
   "source": []
  },
  {
   "cell_type": "code",
   "execution_count": 157,
   "id": "e1a7cb5f",
   "metadata": {
    "scrolled": false
   },
   "outputs": [
    {
     "data": {
      "image/png": "[encoded data removed]",
      "text/plain": [
       "<Figure size 432x288 with 1 Axes>"
      ]
     },
     "metadata": {
      "needs_background": "light"
     },
     "output_type": "display_data"
    }
   ],
   "source": [
    "import matplotlib.pyplot as plt\n",
    "import numpy as np\n",
    "\n",
    "# Fixing random state for reproducibility\n",
    "np.random.seed(19680801)\n",
    "\n",
    "plt.scatter(mppt, mllt)\n",
    "plt.xlabel(\"mppt\")\n",
    "plt.ylabel(\"mllt\")\n",
    "plt.show()"
   ]
  },
  {
   "cell_type": "code",
   "execution_count": 158,
   "id": "0a9ccee2",
   "metadata": {},
   "outputs": [
    {
     "data": {
      "image/png": "[encoded data removed]",
      "text/plain": [
       "<Figure size 432x288 with 1 Axes>"
      ]
     },
     "metadata": {
      "needs_background": "light"
     },
     "output_type": "display_data"
    }
   ],
   "source": [
    "import matplotlib.pyplot as plt\n",
    "import numpy as np\n",
    "\n",
    "# Fixing random state for reproducibility\n",
    "np.random.seed(19680801)\n",
    "\n",
    "plt.scatter(mppt_sm, mllt)\n",
    "plt.xlabel(\"mppt_sm\")\n",
    "plt.ylabel(\"mllt\")\n",
    "plt.show()"
   ]
  },
  {
   "cell_type": "code",
   "execution_count": 159,
   "id": "bac10d91",
   "metadata": {},
   "outputs": [
    {
     "data": {
      "image/png": "[encoded data removed]",
      "text/plain": [
       "<Figure size 432x288 with 1 Axes>"
      ]
     },
     "metadata": {
      "needs_background": "light"
     },
     "output_type": "display_data"
    }
   ],
   "source": [
    "# Fixing random state for reproducibility\n",
    "np.random.seed(19680801)\n",
    "\n",
    "plt.scatter(yPtsm, ylt)\n",
    "plt.xlabel(\"yPsm\")\n",
    "plt.ylabel(\"ylt\")\n",
    "plt.show()"
   ]
  },
  {
   "cell_type": "code",
   "execution_count": 160,
   "id": "7709026e",
   "metadata": {},
   "outputs": [
    {
     "data": {
      "image/png": "[encoded data removed]",
      "text/plain": [
       "<Figure size 432x288 with 1 Axes>"
      ]
     },
     "metadata": {
      "needs_background": "light"
     },
     "output_type": "display_data"
    }
   ],
   "source": [
    "plt.hist2d(yPtsm, ylt, bins=25)\n",
    "plt.xlabel(\"yPsm\")\n",
    "plt.ylabel(\"ylt\")\n",
    "plt.show()"
   ]
  },
  {
   "cell_type": "code",
   "execution_count": 161,
   "id": "12632582",
   "metadata": {},
   "outputs": [
    {
     "name": "stdout",
     "output_type": "stream",
     "text": [
      "[0.02021257 0.01434835 0.02817084 ... 0.03709268 0.01100305 0.01656922]\n",
      "[0.01182137 0.01131961 0.03085873 ... 0.01243761 0.06481395 0.01539193]\n",
      "[0.02021257 0.01434835 0.13278395 ... 0.12402555 0.01744411 0.01656922]\n",
      "[0.12227968 0.01081518 0.06874511 ... 0.01627625 0.16990605 0.01539193]\n"
     ]
    }
   ],
   "source": [
    "print(xiM)\n",
    "print(xim)\n",
    "print(xiMt)\n",
    "print(ximt)"
   ]
  },
  {
   "cell_type": "code",
   "execution_count": 162,
   "id": "037d71ba",
   "metadata": {},
   "outputs": [
    {
     "name": "stdout",
     "output_type": "stream",
     "text": [
      "5272\n",
      "5272\n"
     ]
    }
   ],
   "source": [
    "print(len(xiM))\n",
    "print(len(xiMt))"
   ]
  },
  {
   "cell_type": "code",
   "execution_count": 163,
   "id": "b0944cbd",
   "metadata": {},
   "outputs": [],
   "source": [
    "XIM=np.zeros(nevents)\n",
    "XIm=np.zeros(nevents)\n",
    "TMt=np.zeros(nevents)\n",
    "Tmt=np.zeros(nevents)\n",
    "PUP1=np.zeros(nevents)\n",
    "PUP2=np.zeros(nevents)\n",
    "\n",
    "numnz=0\n",
    "XIMnsm=np.zeros(nevents)\n",
    "XImnsm=np.zeros(nevents)\n",
    "numnznsm=0"
   ]
  },
  {
   "cell_type": "code",
   "execution_count": 164,
   "id": "58f186c3",
   "metadata": {},
   "outputs": [],
   "source": [
    "TMtnsm=np.zeros(nevents)\n",
    "Tmtnsm=np.zeros(nevents)"
   ]
  },
  {
   "cell_type": "code",
   "execution_count": 165,
   "id": "ccc4e835",
   "metadata": {},
   "outputs": [
    {
     "name": "stderr",
     "output_type": "stream",
     "text": [
      "100%|██████████| 5272/5272 [00:00<00:00, 1457926.46it/s]\n"
     ]
    }
   ],
   "source": [
    "for i in tqdm(range(nevents)):\n",
    "    #print(k)\n",
    "    if xiM[i]==xiMt_sm[i] and xim[i]==ximt_sm[i]:\n",
    "        XIM[i]=xiM[i]\n",
    "        XIm[i]=xim[i]\n",
    "        TMt[i]=tMt_sm[i]\n",
    "        Tmt[i]=tmt_sm[i]\n",
    "        PUP1[i]=PU1[i]\n",
    "        PUP2[i]=PU2[i]\n",
    "        numnz=numnz+1"
   ]
  },
  {
   "cell_type": "code",
   "execution_count": 166,
   "id": "0c6867d4",
   "metadata": {},
   "outputs": [
    {
     "name": "stderr",
     "output_type": "stream",
     "text": [
      "100%|██████████| 5272/5272 [00:00<00:00, 1515168.61it/s]\n"
     ]
    }
   ],
   "source": [
    "for i in tqdm(range(nevents)):\n",
    "    #print(k)\n",
    "    if xiM[i]==xiMt[i] and xim[i]==ximt[i]:\n",
    "        XIMnsm[i]=xiM[i]\n",
    "        XImnsm[i]=xim[i]\n",
    "        TMtnsm[i]=tMt[i]\n",
    "        Tmtnsm[i]=tmt[i]\n",
    "        numnznsm=numnznsm+1"
   ]
  },
  {
   "cell_type": "code",
   "execution_count": 167,
   "id": "21ce837b",
   "metadata": {},
   "outputs": [
    {
     "name": "stdout",
     "output_type": "stream",
     "text": [
      "[0.         0.         0.         0.         0.         0.\n",
      " 0.         0.         0.03715353 0.01850273 0.         0.12074076\n",
      " 0.         0.07988519 0.         0.         0.         0.\n",
      " 0.         0.        ]\n",
      "670\n",
      "[0.         0.         0.         0.         0.         0.\n",
      " 0.         0.         0.03715353 0.01850273 0.         0.12074076\n",
      " 0.         0.07988519 0.         0.         0.         0.\n",
      " 0.         0.        ]\n",
      "715\n"
     ]
    }
   ],
   "source": [
    "print(XIM[0:20])\n",
    "print(numnz)\n",
    "print(XIMnsm[0:20])\n",
    "print(numnznsm)"
   ]
  },
  {
   "cell_type": "code",
   "execution_count": 168,
   "id": "389a3fc5",
   "metadata": {},
   "outputs": [
    {
     "name": "stdout",
     "output_type": "stream",
     "text": [
      "0.067\n",
      "0.0715\n"
     ]
    }
   ],
   "source": [
    "MPP=[]\n",
    "MLL=[]\n",
    "M=[]\n",
    "YPP=[]\n",
    "YLL=[]\n",
    "Y=[]\n",
    "CTDif=[]\n",
    "Muz=[]\n",
    "Mut=[]\n",
    "ST=[]\n",
    "SP=[]\n",
    "\n",
    "for i in range (nevents):\n",
    "    if (XIM[i]!=0) and (TMu2_pt[i]>0):\n",
    "        MPP.append(14000.*np.sqrt(XIM[i]*XIm[i]))\n",
    "        MLL.append(mllt[i])\n",
    "        YPP.append(0.5*np.log(XIM[i]/XIm[i]))\n",
    "        YLL.append(ylt[i])\n",
    "        CTDif.append(0.5*c*(TMt[i]-Tmt[i]))\n",
    "        Muz.append(Tmu_z[i][0])\n",
    "        Mut.append(Tmu_T[i][0])\n",
    "        ST.append((0.5*sumTs[i])/c)\n",
    "        SP.append(PUP1[i]+PUP2[i])\n",
    "    \n",
    "print(len(MPP)/10000)\n",
    "for i in range (len(MPP)):\n",
    "    M.append((MPP[i]-MLL[i])/(MPP[i]+MLL[i]))\n",
    "    Y.append((YPP[i]-YLL[i])) #/(YPP[i]+YLL[i]))\n",
    "\n",
    "\n",
    "MPPnsm=[]\n",
    "MLLnsm=[]\n",
    "Mnsm=[]\n",
    "YPPnsm=[]\n",
    "YLLnsm=[]\n",
    "Ynsm=[]\n",
    "CTDifnsm=[]\n",
    "Muznsm=[]\n",
    "Mutnsm=[]\n",
    "STnsm=[]\n",
    "for i in range (nevents):\n",
    "    if (XIMnsm[i]!=0) and (TMu2_pt[i]>0):\n",
    "        MPPnsm.append(14000.*np.sqrt(XIMnsm[i]*XImnsm[i]))\n",
    "        MLLnsm.append(mllt[i])\n",
    "        CTDifnsm.append(0.5*c*(TMtnsm[i]-Tmtnsm[i]))\n",
    "        Muznsm.append(Tmu_z[i][0])\n",
    "        Mutnsm.append(Tmu_T[i][0])\n",
    "        STnsm.append((0.5*sumTsnsm[i])/c)\n",
    "print(len(MPPnsm)/10000)\n",
    "for i in range (len(MPPnsm)):\n",
    "    Mnsm.append((MPPnsm[i]-MLLnsm[i])/(MPPnsm[i]+MLLnsm[i]))\n",
    "\n"
   ]
  },
  {
   "cell_type": "code",
   "execution_count": 169,
   "id": "efcec85e",
   "metadata": {
    "scrolled": true
   },
   "outputs": [
    {
     "name": "stdout",
     "output_type": "stream",
     "text": [
      "[-9.85685902e+01  1.96449793e+01 -5.94683373e+01  1.59454474e+02\n",
      "  1.54240495e+02  3.74945526e+01 -2.29610170e+01 -1.62867708e+02\n",
      "  1.49436777e+01  6.16459022e-01  3.74170837e+01  1.60106934e+01\n",
      "  1.30079449e+02 -9.88298121e+01 -1.55000951e+01  3.75889657e+01\n",
      " -1.31114846e+02 -5.27018618e+01 -1.81957707e+02 -1.19756450e+02\n",
      " -1.08194603e+01 -8.27326746e+01 -3.48911958e+00 -3.03582383e+01\n",
      "  1.02805931e+01  3.67279575e-01 -2.84832864e+01  1.00986193e+02\n",
      "  2.62696154e+00 -9.36931650e+00  5.24913798e+00  6.08132304e+01\n",
      " -7.02325781e+01  2.37414669e+01 -4.90775721e+00 -4.47684520e+01\n",
      " -4.84588344e+00 -3.14789037e+01 -5.35815106e+01 -1.03119160e+02\n",
      " -5.52712130e+01 -4.18843903e+00  1.67728726e+01 -5.37932655e+00\n",
      " -7.51449213e+01  2.40944520e+01 -7.30032178e+01  9.92400403e+01\n",
      "  2.72770661e+01  6.01872101e-01 -1.90221684e+01 -4.96660387e+01\n",
      " -3.27136074e+00  2.65397343e+01 -6.25417307e-01 -7.84365800e+01\n",
      " -3.52266933e+01  6.35338787e+00 -1.05441469e+02 -9.46511705e+01\n",
      " -1.29827239e+01 -6.48438303e+01 -1.42818555e+02  6.81382512e+01\n",
      " -3.23748149e+01  8.09754350e+00  2.96779000e+00 -6.32716032e+01\n",
      "  1.63994940e+02  5.69919213e+01  3.14536839e+01 -5.53206278e+01\n",
      " -1.17375691e+01 -8.59220792e+00 -1.56868957e+01  2.24342169e+01\n",
      " -9.44112391e+01  2.96849060e+01 -6.34418603e+00 -1.88420758e+02\n",
      " -7.70784233e+01 -8.31032032e+01  2.61293950e+01  7.13648309e+00\n",
      " -3.04808531e+00 -7.78927383e+01  1.57518187e+02  3.60306444e+01\n",
      " -3.72955807e+01 -4.24263719e+00  5.77830301e+01 -1.93528707e+01\n",
      " -7.77135806e+01 -3.34497454e+00  1.59673261e+01  3.76565116e+01\n",
      " -1.86376888e+01  1.08454744e+00  4.93800270e+01 -1.72152306e+01\n",
      " -8.94007183e+01  7.20898127e+01  3.76138406e+01 -4.95623721e+01\n",
      "  7.94125467e+01  2.25007301e+01  8.81247541e-01  6.79517189e+00\n",
      " -3.19088615e+01 -6.60793691e+01 -9.13165928e+01 -1.00048094e+02\n",
      " -1.19876229e+01 -1.67898468e+01 -1.64087663e+01 -1.97665275e+01\n",
      "  1.02818122e+01  2.42423706e+01  1.09624765e+02  1.01115654e+02\n",
      " -1.87837878e+00  5.51034956e+01 -6.95397626e+01  9.96178104e+01\n",
      " -3.13786410e+01  4.52092166e+01  1.06161275e+01 -9.93729649e+01\n",
      "  2.86641842e+00  4.56534287e+01  6.62867036e-01  5.57019807e+01\n",
      " -8.41127540e+01 -2.32796062e+00 -6.64951415e+00  8.00069474e-01\n",
      "  1.98933088e+01  1.42934674e+01 -4.45815043e+01  1.15734710e+01\n",
      "  1.97615366e+00 -7.78553588e+00 -3.92244860e+00 -8.02396519e+01\n",
      "  5.00387448e+01  7.27457208e+01 -1.44319727e+01 -1.12106347e+02\n",
      "  8.31132440e+01 -4.55029612e+01 -5.01693268e+01 -1.92747191e+01\n",
      " -3.81198363e+01 -3.17940911e+01 -2.68122888e+01  1.08044746e+02\n",
      "  5.29735174e+01  5.86372582e+00 -4.91557385e+01  3.24452023e+00\n",
      "  1.29376775e+02  7.98942292e+01 -7.94585782e+00 -3.44212785e+01\n",
      "  2.28772514e+02 -9.27847610e+01 -8.11965573e+01  3.83851589e+01\n",
      "  5.75594038e+00  4.44290904e+01 -1.06534950e+01  4.72062932e+01\n",
      "  3.73999416e+01 -1.63559679e+02 -6.78458478e+01  3.39911465e+01\n",
      "  1.89508716e+02  5.99924949e+01  2.08513387e+01 -2.44464760e+00\n",
      "  6.17903220e+01 -2.02511623e+01  2.60305426e-01  1.35478657e+01\n",
      " -1.61424939e+02 -4.22119889e+00  7.39860180e+01  2.20300493e+01\n",
      " -1.06447483e+02 -2.59202681e+01  3.76771200e+01 -4.05162245e+01\n",
      "  1.23656255e+02 -3.11949965e+01 -2.46317519e+02  1.14021685e+01\n",
      "  5.39933243e+01 -3.77009938e+01  9.56986843e+01 -4.33264296e+01\n",
      " -4.76802317e+01 -5.90200477e+01 -2.11718204e+00  1.04664032e+01\n",
      " -1.12345338e+02  1.27315289e+01 -5.84061607e+01  7.54905326e+01\n",
      "  4.78055309e+01  6.36397271e+01  5.06053084e+01 -1.59970400e+02\n",
      " -9.73371021e+01 -1.65183348e+02 -1.21840838e+01  8.01278704e+00\n",
      " -6.63286061e+00  3.31343670e+01 -2.12425256e+00  1.01306021e+02\n",
      " -5.21964684e+01 -5.36434072e+01  7.60359935e+01  4.16497390e+00\n",
      " -9.03552318e+01  4.82063822e+01  5.46866440e-01  1.38554727e+01\n",
      "  3.52694714e+01  6.10574537e+01 -3.35504807e+00 -1.11014174e+02\n",
      " -5.95026639e+01  1.16730341e+01  1.08986841e+01 -1.10115666e+02\n",
      "  1.31899353e+01 -5.67613872e+01 -5.55147218e+01  1.81045608e+01\n",
      " -2.08413941e+01  5.21971163e+01  7.61411325e+01 -4.22890189e+00\n",
      " -8.41854193e+01  4.12352313e+00 -3.58167957e+01  7.25484106e+01\n",
      " -5.54757513e+00 -8.35786811e-01  5.18172203e+01 -5.91594160e+01\n",
      "  1.36485904e+02 -5.27506746e-01 -1.75109968e+01 -7.27055477e+00\n",
      "  1.36839356e+01 -1.88471452e+00  6.91536677e+00  7.10830779e+01\n",
      "  1.02566693e+01  1.02907476e+02  3.88599484e+01 -3.34113299e+00\n",
      "  4.93949406e+01 -4.51937186e+01 -5.82146410e+01 -8.51019568e+01\n",
      " -2.09698084e+01  1.93579131e+01 -4.40394087e+01 -1.15599114e+02\n",
      "  1.20372962e+01 -3.58035878e-01 -3.20246424e+02 -8.68380412e+01\n",
      "  2.89826292e+01  1.97921315e+01  1.01685633e+01 -8.91511658e+00\n",
      " -9.97926045e+01  1.18978267e+02  7.55932765e+01 -5.79025163e+01\n",
      " -2.07181489e+01 -6.07002730e+01  2.86255497e+01 -9.61452725e+01\n",
      " -5.48399908e+01  2.02561476e+01  1.98611946e+01  3.43042584e+01\n",
      "  7.51872162e+01 -7.37845117e+01  7.25997110e+01 -5.57933017e+01\n",
      " -7.12858182e+01  3.28781606e+01 -1.31697219e+01  1.46965638e+01\n",
      "  6.71043459e+01  3.93792313e+01 -6.19657526e+01 -8.99840392e+01\n",
      " -5.08789707e-01  3.29420380e+01  1.00283054e+02 -3.17772135e+01\n",
      "  7.94308269e+01  7.71674833e+00 -5.32486272e+00  7.94008810e+00\n",
      "  1.55905086e+01 -5.36514422e+01  6.27430579e+01  8.74251557e+01\n",
      " -2.61538467e+00 -1.83423342e+00 -1.46345622e+01  2.53309804e+00\n",
      "  9.33550524e+00 -7.66354717e+01 -8.34570179e+01  8.00985568e+00\n",
      " -3.04968903e+01 -1.78346709e+01 -2.72976539e+00  6.32678608e+01\n",
      " -8.67148017e+01 -1.79168670e+01  1.13179480e+01  1.15254294e+01\n",
      "  1.61907092e+01 -1.02088009e+02 -1.21518441e+02  7.12081748e+01\n",
      "  7.86444472e+01  4.00230574e+01 -2.85169347e+01 -1.32416663e+02\n",
      " -5.92303578e+01 -2.18982252e+01  2.10339087e+01 -3.83562038e-01\n",
      " -1.58791851e+01  1.35108415e+02  7.25480362e+00 -8.16208030e+01\n",
      " -1.18185938e+02  9.20244040e+01 -3.82774096e+01 -1.31818159e+01\n",
      " -5.90793731e+01  6.51041768e+00  9.49141075e+01  5.27212238e+00\n",
      "  2.81383634e+01  4.41443152e+01  1.75369599e+02  4.35275480e+01\n",
      " -8.14755010e+00 -1.39409412e+01 -1.09440624e+02 -2.16480797e+01\n",
      " -1.29806416e+02 -6.43616363e-01  5.56771437e+00  1.44146564e+01\n",
      " -3.26940683e+00  1.76304638e+01 -3.83881441e+01 -1.39947121e+02\n",
      " -1.89759363e+01 -3.69353799e+01  7.34479801e+01  7.30066872e+01\n",
      " -7.16134562e+01  9.88848086e+01 -3.73992309e+01  5.44252010e+01\n",
      " -9.39414102e+01 -1.12757082e+02 -4.45135254e+01 -2.57586023e+01\n",
      "  1.84737232e+01 -1.42736832e+01 -7.79161618e+01 -1.34154221e+01\n",
      " -9.31312917e+00  5.19458567e+00 -3.85578719e+01 -9.39730672e+01\n",
      " -2.71574913e+00 -2.35294771e+01  1.01917070e+02  1.61556198e+02\n",
      " -5.18478587e+01  1.18182896e-02 -1.21196703e+02 -2.55112036e+00\n",
      "  8.36447677e+00 -2.00024996e+01 -5.75986615e+01  4.48641086e+01\n",
      "  2.82336514e+01  1.54693068e+01  5.96563490e+01  1.80805581e+00\n",
      "  3.35706964e+00  6.08060482e+01  5.59597158e+01 -1.08333551e+01\n",
      " -6.08166428e+01 -1.00804447e+02 -1.28166723e+00 -8.86630518e+00\n",
      "  4.99542242e+01  2.75348429e+01  4.91190530e+01  7.90984720e+00\n",
      "  6.38834635e+01 -9.20473754e+01  2.65381850e+00 -2.65553365e+01\n",
      " -7.56604911e+01 -5.10025673e+01 -4.72830874e+01  2.83302276e+01\n",
      "  1.62718273e+01 -2.77719779e+01 -1.48288474e+01 -2.41703808e+01\n",
      " -1.37769600e+01 -3.37716141e+01  2.82584836e+00  7.14046942e+01\n",
      " -3.75518233e+01  3.41754489e+01  1.17209361e+02  1.39373630e+02\n",
      " -5.80887995e+01  1.01440319e+02 -1.53838404e+02  1.45675458e+02\n",
      " -4.70741849e+01  2.69866436e+00 -6.17470934e+01 -8.75719267e-01\n",
      "  7.78410496e+01 -3.05127446e+01  2.08000270e+01 -6.27312706e+00\n",
      " -5.50852894e+00 -8.71505479e+01  9.43850923e+00  2.98052762e+01\n",
      " -5.86360558e+01  8.24674733e+01 -3.84384396e+01  3.30195327e+01\n",
      " -9.28431057e+01  1.06302689e+00  5.61992638e+01 -1.85664374e+01\n",
      " -1.66940419e+01  2.74805472e-01 -2.11688858e+01  4.53324549e+01\n",
      "  6.46613229e+01 -2.36478780e+01 -1.14763890e+02  2.40926600e+00\n",
      "  2.30520311e+01  2.79948602e+01  8.06589287e+01  3.02097364e+00\n",
      " -4.58324966e+01  3.34947427e+01  5.74724676e+00 -1.59042052e+01\n",
      "  6.68952822e+00  5.75487372e+01  1.06729929e+02 -2.38939749e+01\n",
      " -4.35281339e+01 -4.79117311e+01  3.74897531e+01 -9.36649787e+01\n",
      "  4.10537551e+01  3.80009909e+01  8.67627201e+00 -7.31763725e+00\n",
      " -3.30304697e+01 -4.54401145e+00 -7.56719424e+00  1.78749792e+01\n",
      "  7.42442221e+00 -4.97494003e+00  5.90686475e+01 -3.25512660e+01]\n"
     ]
    }
   ],
   "source": [
    "print(sumTs[0:500])"
   ]
  },
  {
   "cell_type": "code",
   "execution_count": 170,
   "id": "c00c7f76",
   "metadata": {},
   "outputs": [
    {
     "data": {
      "image/png": "[encoded data removed]",
      "text/plain": [
       "<Figure size 432x288 with 1 Axes>"
      ]
     },
     "metadata": {
      "needs_background": "light"
     },
     "output_type": "display_data"
    }
   ],
   "source": [
    "np.random.seed(19680801)\n",
    "\n",
    "plt.scatter(STnsm,Mutnsm)\n",
    "plt.xlabel(\"STnsm\")\n",
    "plt.ylabel(\"VertexT\")\n",
    "plt.show()"
   ]
  },
  {
   "cell_type": "code",
   "execution_count": 171,
   "id": "542c2717",
   "metadata": {},
   "outputs": [
    {
     "data": {
      "text/plain": [
       "670"
      ]
     },
     "execution_count": 171,
     "metadata": {},
     "output_type": "execute_result"
    }
   ],
   "source": [
    "len(MLL)"
   ]
  },
  {
   "cell_type": "code",
   "execution_count": 172,
   "id": "8a5c7f53",
   "metadata": {
    "scrolled": true
   },
   "outputs": [
    {
     "data": {
      "image/png": "[encoded data removed]",
      "text/plain": [
       "<Figure size 432x288 with 1 Axes>"
      ]
     },
     "metadata": {
      "needs_background": "light"
     },
     "output_type": "display_data"
    }
   ],
   "source": [
    "import matplotlib.pyplot as plt \n",
    "import numpy as np\n",
    "\n",
    "\n",
    "plt.scatter(MPP,MLL)\n",
    "plt.xlabel(\"mpp_2\")\n",
    "plt.ylabel(\"mllt\")\n",
    "plt.show()"
   ]
  },
  {
   "cell_type": "code",
   "execution_count": 173,
   "id": "27504935",
   "metadata": {},
   "outputs": [
    {
     "data": {
      "image/png": "[encoded data removed]",
      "text/plain": [
       "<Figure size 432x288 with 1 Axes>"
      ]
     },
     "metadata": {
      "needs_background": "light"
     },
     "output_type": "display_data"
    }
   ],
   "source": [
    "np.random.seed(19680801)\n",
    "\n",
    "plt.scatter(YPP,YLL)\n",
    "plt.xlabel(\"Ypp\")\n",
    "plt.ylabel(\"Yllt\")\n",
    "plt.show()"
   ]
  },
  {
   "cell_type": "code",
   "execution_count": 174,
   "id": "2cc89cdb",
   "metadata": {},
   "outputs": [
    {
     "data": {
      "image/png": "[encoded data removed]",
      "text/plain": [
       "<Figure size 432x288 with 1 Axes>"
      ]
     },
     "metadata": {
      "needs_background": "light"
     },
     "output_type": "display_data"
    }
   ],
   "source": [
    "plt.hist2d(YPP, YLL, bins=25)\n",
    "plt.xlabel(\"Ypp_2cuts\")\n",
    "plt.ylabel(\"Yllt\")\n",
    "plt.show()"
   ]
  },
  {
   "cell_type": "code",
   "execution_count": 175,
   "id": "a6d88098",
   "metadata": {},
   "outputs": [
    {
     "name": "stderr",
     "output_type": "stream",
     "text": [
      "No handles with labels found to put in legend.\n"
     ]
    },
    {
     "data": {
      "text/plain": [
       "[Text(0.5, 24.0, 'Y'), Text(66.25, 0.5, 'number of entries')]"
      ]
     },
     "execution_count": 175,
     "metadata": {},
     "output_type": "execute_result"
    },
    {
     "data": {
      "image/png": "[encoded data removed]",
      "text/plain": [
       "<Figure size 720x360 with 1 Axes>"
      ]
     },
     "metadata": {
      "needs_background": "light"
     },
     "output_type": "display_data"
    }
   ],
   "source": [
    "f, ax = plt.subplots(figsize=(10,5))\n",
    "plt.hist(Y, bins=np.linspace(-1,1,100))\n",
    "hep.cms.label(llabel=\"Preliminary\", rlabel=\"Summer 2022\", ax=ax)\n",
    "ax.legend(); \n",
    "ax.set(xlabel='Y', ylabel='number of entries')"
   ]
  },
  {
   "cell_type": "code",
   "execution_count": 176,
   "id": "238a42fc",
   "metadata": {},
   "outputs": [
    {
     "data": {
      "text/plain": [
       "[Text(0.5, 33.0, 'Ypp-Yll'), Text(66.25, 0.5, 'number of entries')]"
      ]
     },
     "execution_count": 176,
     "metadata": {},
     "output_type": "execute_result"
    },
    {
     "data": {
      "image/png": "[encoded data removed]",
      "text/plain": [
       "<Figure size 720x432 with 1 Axes>"
      ]
     },
     "metadata": {
      "needs_background": "light"
     },
     "output_type": "display_data"
    }
   ],
   "source": [
    "sigY=[]\n",
    "bkY=[]\n",
    "for i in range (len(Y)):\n",
    "    if (SP[i]==0):\n",
    "        sigY.append(Y[i])\n",
    "    else:\n",
    "        bkY.append(Y[i])\n",
    "\n",
    "#lets draw hisgorgam of number of muons:\n",
    "f, ax = plt.subplots(figsize=(10,6))\n",
    "plt.hist(sigY, bins=np.linspace(-1,1,100), alpha=0.5 ,label='two signal protons')\n",
    "plt.hist(bkY, bins=np.linspace(-1,1,100), alpha=0.5 ,label='less than two signal protons')\n",
    "\n",
    "hep.cms.label(llabel=\"Preliminary\", rlabel=\"Summer 2022\", ax=ax)\n",
    "ax.legend(); \n",
    "ax.set(xlabel='Ypp-Yll', ylabel='number of entries')\n",
    "#plt.savefig('InvariantMassCorrBothSmearing.png')"
   ]
  },
  {
   "cell_type": "code",
   "execution_count": 177,
   "id": "3aad64cc",
   "metadata": {
    "scrolled": true
   },
   "outputs": [
    {
     "data": {
      "image/png": "[encoded data removed]",
      "text/plain": [
       "<Figure size 432x288 with 1 Axes>"
      ]
     },
     "metadata": {
      "needs_background": "light"
     },
     "output_type": "display_data"
    }
   ],
   "source": [
    "import matplotlib.pyplot as plt\n",
    "import numpy as np\n",
    "\n",
    "#Un Smeared\n",
    "np.random.seed(19680801)\n",
    "\n",
    "plt.scatter(MPPnsm,MLLnsm)\n",
    "plt.xlabel(\"mpp_2cuts\")\n",
    "plt.ylabel(\"mllt\")\n",
    "plt.show()"
   ]
  },
  {
   "cell_type": "code",
   "execution_count": null,
   "id": "b3ebb25c",
   "metadata": {},
   "outputs": [],
   "source": []
  },
  {
   "cell_type": "code",
   "execution_count": 178,
   "id": "67b71550",
   "metadata": {},
   "outputs": [
    {
     "data": {
      "text/plain": [
       "[Text(0.5, 24.0, 'MPP-MLL'), Text(59.875, 0.5, 'number of entries')]"
      ]
     },
     "execution_count": 178,
     "metadata": {},
     "output_type": "execute_result"
    },
    {
     "data": {
      "image/png": "[encoded data removed]",
      "text/plain": [
       "<Figure size 720x360 with 1 Axes>"
      ]
     },
     "metadata": {
      "needs_background": "light"
     },
     "output_type": "display_data"
    }
   ],
   "source": [
    "#lets draw hisgorgam of number of muons:\n",
    "f, ax = plt.subplots(figsize=(10,5))\n",
    "plt.hist([m<0.25 for m in M], bins=np.linspace(-1,1,100),label='two signal protons')\n",
    "plt.hist([m>0.25 for m in M], bins=np.linspace(-1,1,100),label='one signal proton')\n",
    "\n",
    "hep.cms.label(llabel=\"Preliminary\", rlabel=\"Summer 2022\", ax=ax)\n",
    "ax.legend(); \n",
    "ax.set(xlabel='MPP-MLL', ylabel='number of entries')\n",
    "#plt.savefig('InvariantMassCorrBothSmearing.png')"
   ]
  },
  {
   "cell_type": "code",
   "execution_count": 179,
   "id": "a50a3d81",
   "metadata": {},
   "outputs": [
    {
     "data": {
      "text/plain": [
       "[Text(0.5, 24.0, 'MPP-MLL'), Text(59.875, 0.5, 'number of entries')]"
      ]
     },
     "execution_count": 179,
     "metadata": {},
     "output_type": "execute_result"
    },
    {
     "data": {
      "image/png": "[encoded data removed]",
      "text/plain": [
       "<Figure size 720x360 with 1 Axes>"
      ]
     },
     "metadata": {
      "needs_background": "light"
     },
     "output_type": "display_data"
    }
   ],
   "source": [
    "#lets draw hisgorgam of number of muons:\n",
    "f, ax = plt.subplots(figsize=(10,5))\n",
    "plt.hist(M, bins=np.linspace(-1,1,100),label='BothCriteria')\n",
    "hep.cms.label(llabel=\"Preliminary\", rlabel=\"Summer 2022\", ax=ax)\n",
    "ax.legend(); \n",
    "ax.set(xlabel='MPP-MLL', ylabel='number of entries')\n",
    "#plt.savefig('InvariantMassCorrXiSmearings.png')"
   ]
  },
  {
   "cell_type": "code",
   "execution_count": 180,
   "id": "54d54e1e",
   "metadata": {},
   "outputs": [
    {
     "data": {
      "text/plain": [
       "[Text(0.5, 33.0, 'Mpp-Mll'), Text(59.875, 0.5, 'number of entries')]"
      ]
     },
     "execution_count": 180,
     "metadata": {},
     "output_type": "execute_result"
    },
    {
     "data": {
      "image/png": "[encoded data removed]",
      "text/plain": [
       "<Figure size 720x432 with 1 Axes>"
      ]
     },
     "metadata": {
      "needs_background": "light"
     },
     "output_type": "display_data"
    }
   ],
   "source": [
    "sigM=[]\n",
    "bkM=[]\n",
    "for i in range (len(M)):\n",
    "    if (SP[i]==0):\n",
    "        sigM.append(M[i])\n",
    "    else:\n",
    "        bkM.append(M[i])\n",
    "\n",
    "#lets draw hisgorgam of number of muons:\n",
    "f, ax = plt.subplots(figsize=(10,6))\n",
    "plt.hist(sigM, bins=np.linspace(-1,1,100), alpha=0.5 ,label='two signal protons')\n",
    "plt.hist(bkM, bins=np.linspace(-1,1,100), alpha=0.5 ,label='less than two signal protons')\n",
    "\n",
    "hep.cms.label(llabel=\"Preliminary\", rlabel=\"Summer 2022\", ax=ax)\n",
    "ax.legend(); \n",
    "ax.set(xlabel='Mpp-Mll', ylabel='number of entries')\n",
    "#plt.savefig('InvariantMassCorrBothSmearing.png')"
   ]
  },
  {
   "cell_type": "code",
   "execution_count": 181,
   "id": "0c45ec43",
   "metadata": {},
   "outputs": [
    {
     "data": {
      "text/plain": [
       "670"
      ]
     },
     "execution_count": 181,
     "metadata": {},
     "output_type": "execute_result"
    }
   ],
   "source": [
    "len(M)"
   ]
  },
  {
   "cell_type": "code",
   "execution_count": 182,
   "id": "a233cd7d",
   "metadata": {},
   "outputs": [
    {
     "name": "stdout",
     "output_type": "stream",
     "text": [
      "178\n"
     ]
    }
   ],
   "source": [
    "s=0\n",
    "\n",
    "for i in range (len(M)):\n",
    "    if SP[i]==0:\n",
    "        s=s+1\n",
    "print(s)\n",
    "\n"
   ]
  },
  {
   "cell_type": "code",
   "execution_count": 183,
   "id": "89d8f278",
   "metadata": {},
   "outputs": [
    {
     "name": "stdout",
     "output_type": "stream",
     "text": [
      "234\n",
      "1919.97\n"
     ]
    }
   ],
   "source": [
    "ktnsm=0\n",
    "for i in range (len(Mnsm)):\n",
    "    if np.abs(Mnsm[i])<0.025:\n",
    "        ktnsm=ktnsm+1\n",
    "print(ktnsm)\n",
    "Lum=300e15\n",
    "Cross=0.2735e-12\n",
    "Accnsm=ktnsm/10000\n",
    "NumbEvnsm=Lum*Cross*Accnsm\n",
    "print(NumbEvnsm)"
   ]
  },
  {
   "cell_type": "code",
   "execution_count": null,
   "id": "c6d69651",
   "metadata": {},
   "outputs": [],
   "source": []
  },
  {
   "cell_type": "code",
   "execution_count": null,
   "id": "0d8e6b5b",
   "metadata": {
    "scrolled": true
   },
   "outputs": [],
   "source": []
  },
  {
   "cell_type": "code",
   "execution_count": null,
   "id": "08705458",
   "metadata": {},
   "outputs": [],
   "source": []
  },
  {
   "cell_type": "code",
   "execution_count": 184,
   "id": "633edc76",
   "metadata": {
    "scrolled": false
   },
   "outputs": [
    {
     "data": {
      "image/png": "[encoded data removed]",
      "text/plain": [
       "<Figure size 432x288 with 1 Axes>"
      ]
     },
     "metadata": {
      "needs_background": "light"
     },
     "output_type": "display_data"
    }
   ],
   "source": [
    "np.random.seed(19680801)\n",
    "\n",
    "plt.scatter(Muz,CTDif)\n",
    "plt.xlabel(\"Mu_z\")\n",
    "plt.ylabel(\"0.5*c*Tdiff\")\n",
    "plt.show()"
   ]
  },
  {
   "cell_type": "code",
   "execution_count": 185,
   "id": "3f54165f",
   "metadata": {},
   "outputs": [],
   "source": [
    "#Clean the events\n",
    "#Plot with density\n"
   ]
  },
  {
   "cell_type": "code",
   "execution_count": null,
   "id": "b0244fe5",
   "metadata": {},
   "outputs": [],
   "source": []
  },
  {
   "cell_type": "code",
   "execution_count": 186,
   "id": "d5a1ff76",
   "metadata": {
    "scrolled": true
   },
   "outputs": [
    {
     "data": {
      "image/png": "[encoded data removed]",
      "text/plain": [
       "<Figure size 432x288 with 1 Axes>"
      ]
     },
     "metadata": {
      "needs_background": "light"
     },
     "output_type": "display_data"
    }
   ],
   "source": [
    "np.random.seed(19680801)\n",
    "\n",
    "plt.scatter(Mut,ST)\n",
    "plt.xlabel(\"Mu_T\")\n",
    "plt.ylabel(\"c*Tsum-2Zpps\")\n",
    "plt.ylim([-1,1])\n",
    "plt.show()"
   ]
  },
  {
   "cell_type": "code",
   "execution_count": 187,
   "id": "de61f837",
   "metadata": {},
   "outputs": [
    {
     "data": {
      "image/png": "[encoded data removed]",
      "text/plain": [
       "<Figure size 432x288 with 1 Axes>"
      ]
     },
     "metadata": {
      "needs_background": "light"
     },
     "output_type": "display_data"
    }
   ],
   "source": [
    "plt.hist2d(Mut, ST, bins=25)\n",
    "plt.xlabel(\"Mut\")\n",
    "plt.ylabel(\"c*Tsum-2Zpps\")\n",
    "plt.show()"
   ]
  },
  {
   "cell_type": "code",
   "execution_count": 188,
   "id": "97e57185",
   "metadata": {},
   "outputs": [],
   "source": [
    "D=np.zeros(len(Mut))\n",
    "DD=np.zeros(len(Mut))\n",
    "\n",
    "for ev in range(len(Mut)):\n",
    "\n",
    "    D[ev]=Mut[ev]-ST[ev]\n",
    "    DD[ev]=Muz[ev]+CTDif[ev]"
   ]
  },
  {
   "cell_type": "code",
   "execution_count": null,
   "id": "80c64aa1",
   "metadata": {},
   "outputs": [],
   "source": []
  },
  {
   "cell_type": "code",
   "execution_count": null,
   "id": "bd8c7067",
   "metadata": {
    "scrolled": true
   },
   "outputs": [],
   "source": []
  },
  {
   "cell_type": "code",
   "execution_count": 189,
   "id": "631b53e5",
   "metadata": {},
   "outputs": [
    {
     "data": {
      "text/plain": [
       "[Text(0.5, 33.0, 'Vertex Z difference'), Text(66.25, 0.5, 'number of entries')]"
      ]
     },
     "execution_count": 189,
     "metadata": {},
     "output_type": "execute_result"
    },
    {
     "data": {
      "image/png": "[encoded data removed]",
      "text/plain": [
       "<Figure size 720x432 with 1 Axes>"
      ]
     },
     "metadata": {
      "needs_background": "light"
     },
     "output_type": "display_data"
    }
   ],
   "source": [
    "sigT=[]\n",
    "bkT=[]\n",
    "for i in range (len(Muz)):\n",
    "    if (SP[i]==0):\n",
    "        sigT.append(Muz[i]+CTDif[i])\n",
    "    else:\n",
    "        bkT.append(Muz[i]+CTDif[i])\n",
    "\n",
    "#lets draw hisgorgam of number of muons:\n",
    "f, ax = plt.subplots(figsize=(10,6))\n",
    "plt.hist(sigT, bins=np.linspace(-10,10,100), alpha=0.5 ,label='Two signal protons')\n",
    "plt.hist(bkT, bins=np.linspace(-10,10,100), alpha=0.5 ,label='Less than two signal protons')\n",
    "\n",
    "hep.cms.label(llabel=\"Preliminary\", rlabel=\"Summer 2022\", ax=ax)\n",
    "ax.legend(); \n",
    "ax.set(xlabel='Vertex Z difference', ylabel='number of entries')\n",
    "#plt.savefig('InvariantMassCorrBothSmearing.png')"
   ]
  },
  {
   "cell_type": "code",
   "execution_count": 190,
   "id": "bd01fb6e",
   "metadata": {},
   "outputs": [
    {
     "name": "stderr",
     "output_type": "stream",
     "text": [
      "No handles with labels found to put in legend.\n"
     ]
    },
    {
     "data": {
      "text/plain": [
       "[Text(0.5, 24.0, 'DD'), Text(66.25, 0.5, 'number of entries')]"
      ]
     },
     "execution_count": 190,
     "metadata": {},
     "output_type": "execute_result"
    },
    {
     "data": {
      "image/png": "[encoded data removed]",
      "text/plain": [
       "<Figure size 720x360 with 1 Axes>"
      ]
     },
     "metadata": {
      "needs_background": "light"
     },
     "output_type": "display_data"
    }
   ],
   "source": [
    "f, ax = plt.subplots(figsize=(10,5))\n",
    "plt.hist(DD, bins=np.linspace(-10,10,100),label='')\n",
    "hep.cms.label(llabel=\"Preliminary\", rlabel=\"Summer 2022\", ax=ax)\n",
    "ax.legend(); \n",
    "ax.set(xlabel='DD', ylabel='number of entries')\n",
    "#plt.savefig('InvariantMassCorrBothSmearings.png')"
   ]
  },
  {
   "cell_type": "code",
   "execution_count": 191,
   "id": "c4c91167",
   "metadata": {},
   "outputs": [
    {
     "data": {
      "text/plain": [
       "670"
      ]
     },
     "execution_count": 191,
     "metadata": {},
     "output_type": "execute_result"
    }
   ],
   "source": [
    "len(DD)"
   ]
  },
  {
   "cell_type": "code",
   "execution_count": 192,
   "id": "8e359159",
   "metadata": {},
   "outputs": [
    {
     "name": "stderr",
     "output_type": "stream",
     "text": [
      "No handles with labels found to put in legend.\n"
     ]
    },
    {
     "data": {
      "text/plain": [
       "[Text(0.5, 24.0, 'D'), Text(66.25, 0.5, 'number of entries')]"
      ]
     },
     "execution_count": 192,
     "metadata": {},
     "output_type": "execute_result"
    },
    {
     "data": {
      "image/png": "[encoded data removed]",
      "text/plain": [
       "<Figure size 720x360 with 1 Axes>"
      ]
     },
     "metadata": {
      "needs_background": "light"
     },
     "output_type": "display_data"
    }
   ],
   "source": [
    "f, ax = plt.subplots(figsize=(10,5))\n",
    "plt.hist(D, bins=np.linspace(-1,1,100),label='')\n",
    "hep.cms.label(llabel=\"Preliminary\", rlabel=\"Summer 2022\", ax=ax)\n",
    "ax.legend(); \n",
    "ax.set(xlabel='D', ylabel='number of entries')\n",
    "#plt.savefig('InvariantMassCorrBothSmearings.png')"
   ]
  },
  {
   "cell_type": "code",
   "execution_count": 193,
   "id": "735a7380",
   "metadata": {},
   "outputs": [
    {
     "data": {
      "text/plain": [
       "[Text(0.5, 33.0, 'Vertex time difference'),\n",
       " Text(66.25, 0.5, 'number of entries')]"
      ]
     },
     "execution_count": 193,
     "metadata": {},
     "output_type": "execute_result"
    },
    {
     "data": {
      "image/png": "[encoded data removed]",
      "text/plain": [
       "<Figure size 720x432 with 1 Axes>"
      ]
     },
     "metadata": {
      "needs_background": "light"
     },
     "output_type": "display_data"
    }
   ],
   "source": [
    "sigD=[]\n",
    "bkD=[]\n",
    "for i in range (len(D)):\n",
    "    if (SP[i]==0):\n",
    "        sigD.append(D[i])\n",
    "    else:\n",
    "        bkD.append(D[i])\n",
    "\n",
    "#lets draw hisgorgam of number of muons:\n",
    "f, ax = plt.subplots(figsize=(10,6))\n",
    "plt.hist(sigD, bins=np.linspace(-1,1,100), alpha=0.5 ,label='Two signal protons')\n",
    "plt.hist(bkD, bins=np.linspace(-1,1,100), alpha=0.5 ,label='Less than two signal protons')\n",
    "\n",
    "hep.cms.label(llabel=\"Preliminary\", rlabel=\"Summer 2022\", ax=ax)\n",
    "ax.legend(); \n",
    "ax.set(xlabel='Vertex time difference', ylabel='number of entries')\n",
    "#plt.savefig('InvariantMassCorrBothSmearing.png')"
   ]
  },
  {
   "cell_type": "code",
   "execution_count": 194,
   "id": "d996e57e",
   "metadata": {},
   "outputs": [
    {
     "data": {
      "text/plain": [
       "670"
      ]
     },
     "execution_count": 194,
     "metadata": {},
     "output_type": "execute_result"
    }
   ],
   "source": [
    "len(sigD)+len(bkD)"
   ]
  },
  {
   "cell_type": "code",
   "execution_count": 195,
   "id": "8924c109",
   "metadata": {},
   "outputs": [
    {
     "name": "stdout",
     "output_type": "stream",
     "text": [
      "177\n",
      "1452.285\n"
     ]
    }
   ],
   "source": [
    "ktM=0\n",
    "for i in range (len(M)):\n",
    "    if (np.abs(M[i])<0.025):\n",
    "        ktM=ktM+1\n",
    "print(ktM)\n",
    "Lum=300e15\n",
    "Cross=0.2735e-12\n",
    "Acc=ktM/n_events\n",
    "NumbEvM=Lum*Cross*Acc\n",
    "print(NumbEvM)"
   ]
  },
  {
   "cell_type": "code",
   "execution_count": 196,
   "id": "40bee611",
   "metadata": {},
   "outputs": [
    {
     "name": "stdout",
     "output_type": "stream",
     "text": [
      "179\n",
      "1468.695\n"
     ]
    }
   ],
   "source": [
    "ktY=0\n",
    "for i in range (len(Y)):\n",
    "    if (np.abs(Y[i])<0.05):\n",
    "        ktY=ktY+1\n",
    "print(ktY)\n",
    "Lum=300e15\n",
    "Cross=0.2735e-12\n",
    "Acc=ktY/n_events\n",
    "NumbEvY=Lum*Cross*Acc\n",
    "print(NumbEvY)"
   ]
  },
  {
   "cell_type": "code",
   "execution_count": 197,
   "id": "f6b65441",
   "metadata": {},
   "outputs": [
    {
     "name": "stdout",
     "output_type": "stream",
     "text": [
      "393\n",
      "3224.565\n"
     ]
    }
   ],
   "source": [
    "ktD=0\n",
    "for i in range (len(D)):\n",
    "    if (np.abs(D[i])<0.25):\n",
    "        ktD=ktD+1\n",
    "print(ktD)\n",
    "Lum=300e15\n",
    "Cross=0.2735e-12\n",
    "Acc=ktD/n_events\n",
    "NumbEvD=Lum*Cross*Acc\n",
    "print(NumbEvD)"
   ]
  },
  {
   "cell_type": "code",
   "execution_count": 198,
   "id": "1a05c1c3",
   "metadata": {},
   "outputs": [
    {
     "name": "stdout",
     "output_type": "stream",
     "text": [
      "177\n",
      "2051.25\n"
     ]
    }
   ],
   "source": [
    "ktDD=0\n",
    "for i in range (len(DD)):\n",
    "    if (np.abs(DD[i])<1.5):\n",
    "        ktDD=ktDD+1\n",
    "print(ktM)\n",
    "Lum=300e15\n",
    "Cross=0.2735e-12\n",
    "Acc=ktDD/n_events\n",
    "NumbEvM=Lum*Cross*Acc\n",
    "print(NumbEvM)"
   ]
  },
  {
   "cell_type": "code",
   "execution_count": 199,
   "id": "7ca42256",
   "metadata": {},
   "outputs": [
    {
     "name": "stdout",
     "output_type": "stream",
     "text": [
      "173\n",
      "1419.465\n"
     ]
    }
   ],
   "source": [
    "kts=0\n",
    "for i in range (len(M)):\n",
    "    if (np.abs(M[i])<0.025) and (np.abs(Y[i])<0.05):\n",
    "        kts=kts+1\n",
    "print(kts)\n",
    "Lum=300e15\n",
    "Cross=0.2735e-12\n",
    "Acc=kts/n_events\n",
    "NumbEv=Lum*Cross*Acc\n",
    "print(NumbEv)"
   ]
  },
  {
   "cell_type": "code",
   "execution_count": 200,
   "id": "a9c1d4b8",
   "metadata": {},
   "outputs": [
    {
     "name": "stdout",
     "output_type": "stream",
     "text": [
      "175\n",
      "1435.8750000000002\n"
     ]
    }
   ],
   "source": [
    "kts=0\n",
    "for i in range (len(M)):\n",
    "    if (np.abs(M[i])<0.025) and (np.abs(D[i])<0.25):\n",
    "        kts=kts+1\n",
    "print(kts)\n",
    "Lum=300e15\n",
    "Cross=0.2735e-12\n",
    "Acc=kts/n_events\n",
    "NumbEv=Lum*Cross*Acc\n",
    "print(NumbEv)"
   ]
  },
  {
   "cell_type": "code",
   "execution_count": 201,
   "id": "e0638a96",
   "metadata": {},
   "outputs": [
    {
     "name": "stdout",
     "output_type": "stream",
     "text": [
      "174\n",
      "1427.6699999999998\n"
     ]
    }
   ],
   "source": [
    "kts=0\n",
    "for i in range (len(M)):\n",
    "    if (np.abs(Y[i])<0.05) and (np.abs(D[i])<0.25):\n",
    "        kts=kts+1\n",
    "print(kts)\n",
    "Lum=300e15\n",
    "Cross=0.2735e-12\n",
    "Acc=kts/n_events\n",
    "NumbEv=Lum*Cross*Acc\n",
    "print(NumbEv)"
   ]
  },
  {
   "cell_type": "code",
   "execution_count": 202,
   "id": "ccc83349",
   "metadata": {},
   "outputs": [
    {
     "name": "stdout",
     "output_type": "stream",
     "text": [
      "171\n",
      "1403.055\n"
     ]
    }
   ],
   "source": [
    "kts=0\n",
    "for i in range (len(M)):\n",
    "    if (np.abs(M[i])<0.025) and (np.abs(Y[i])<0.05) and (np.abs(D[i])<0.25):\n",
    "        kts=kts+1\n",
    "print(kts)\n",
    "Lum=300e15\n",
    "Cross=0.2735e-12\n",
    "Acc=kts/n_events\n",
    "NumbEv=Lum*Cross*Acc\n",
    "print(NumbEv)"
   ]
  },
  {
   "cell_type": "code",
   "execution_count": 203,
   "id": "9aa40e20",
   "metadata": {},
   "outputs": [
    {
     "name": "stdout",
     "output_type": "stream",
     "text": [
      "147\n",
      "1206.135\n"
     ]
    }
   ],
   "source": [
    "kts=0\n",
    "for i in range (len(M)):\n",
    "    if (np.abs(M[i])<0.025) and (np.abs(Y[i])<0.05) and (np.abs(D[i])<0.25) and (np.abs(DD[i])<1.5):\n",
    "        kts=kts+1\n",
    "print(kts)\n",
    "Lum=300e15\n",
    "Cross=0.2735e-12\n",
    "Acc=kts/n_events\n",
    "NumbEv=Lum*Cross*Acc\n",
    "print(NumbEv)"
   ]
  },
  {
   "cell_type": "code",
   "execution_count": 204,
   "id": "a6050ba3",
   "metadata": {},
   "outputs": [
    {
     "name": "stdout",
     "output_type": "stream",
     "text": [
      "0.2656716417910448\n"
     ]
    }
   ],
   "source": [
    "sumpu=0\n",
    "for i in range(len(M)):\n",
    "    if (SP[i]==0):\n",
    "        sumpu=sumpu+1\n",
    "print(sumpu/len(M))"
   ]
  },
  {
   "cell_type": "code",
   "execution_count": 205,
   "id": "9b2ef602",
   "metadata": {},
   "outputs": [
    {
     "name": "stdout",
     "output_type": "stream",
     "text": [
      "0.9550561797752809\n"
     ]
    }
   ],
   "source": [
    "sumpu2=0\n",
    "for i in range(len(M)):\n",
    "    if (SP[i]==0) and (np.abs(M[i])<0.025) and (np.abs(Y[i])<0.05) and (np.abs(D[i])<0.25):\n",
    "        sumpu2=sumpu2+1\n",
    "print(sumpu2/s)"
   ]
  },
  {
   "cell_type": "code",
   "execution_count": 206,
   "id": "94d7f6b9",
   "metadata": {},
   "outputs": [],
   "source": [
    "#(tMt_sm[k]+tmt_sm[k])*c-2*23400"
   ]
  },
  {
   "cell_type": "code",
   "execution_count": 207,
   "id": "bbc49fba",
   "metadata": {},
   "outputs": [],
   "source": [
    "#            t[k]=(genproton_t[i][k]+(23400-genproton_vz[i][k])/30) \n",
    "\n",
    "#        else: \n",
    "#            t[k]=(genproton_t[i][k]+(23400+genproton_vz[i][k])/30) "
   ]
  },
  {
   "cell_type": "code",
   "execution_count": 208,
   "id": "ac7ebb60",
   "metadata": {},
   "outputs": [
    {
     "data": {
      "text/plain": [
       "0.9550561797752809"
      ]
     },
     "execution_count": 208,
     "metadata": {},
     "output_type": "execute_result"
    }
   ],
   "source": [
    "sumpu2/s"
   ]
  },
  {
   "cell_type": "code",
   "execution_count": 209,
   "id": "bdb09c72",
   "metadata": {},
   "outputs": [],
   "source": [
    "#See the Difft cut (using the signal protons)\n",
    "#Add the luminonsity & cross section to the numbers of the cuts\n",
    "#\n",
    "#\n",
    "#\n",
    "#"
   ]
  },
  {
   "cell_type": "code",
   "execution_count": null,
   "id": "33b8de7d",
   "metadata": {},
   "outputs": [],
   "source": []
  }
 ],
 "metadata": {
  "kernelspec": {
   "display_name": "Python 3",
   "language": "python",
   "name": "python3"
  },
  "language_info": {
   "codemirror_mode": {
    "name": "ipython",
    "version": 3
   },
   "file_extension": ".py",
   "mimetype": "text/x-python",
   "name": "python",
   "nbconvert_exporter": "python",
   "pygments_lexer": "ipython3",
   "version": "3.9.12"
  }
 },
 "nbformat": 4,
 "nbformat_minor": 5
}
